{
  "nbformat": 4,
  "nbformat_minor": 0,
  "metadata": {
    "kernelspec": {
      "display_name": "Python 3",
      "language": "python",
      "name": "python3"
    },
    "language_info": {
      "codemirror_mode": {
        "name": "ipython",
        "version": 3
      },
      "file_extension": ".py",
      "mimetype": "text/x-python",
      "name": "python",
      "nbconvert_exporter": "python",
      "pygments_lexer": "ipython3",
      "version": "3.8.5"
    },
    "colab": {
      "name": "SNN2.ipynb",
      "provenance": [],
      "collapsed_sections": [],
      "machine_shape": "hm"
    },
    "widgets": {
      "application/vnd.jupyter.widget-state+json": {
        "1d64798077d64ec1b791a418ecab024d": {
          "model_module": "@jupyter-widgets/controls",
          "model_name": "HBoxModel",
          "state": {
            "_view_name": "HBoxView",
            "_dom_classes": [],
            "_model_name": "HBoxModel",
            "_view_module": "@jupyter-widgets/controls",
            "_model_module_version": "1.5.0",
            "_view_count": null,
            "_view_module_version": "1.5.0",
            "box_style": "",
            "layout": "IPY_MODEL_01d63eb1a0054b969b3482de101d40cc",
            "_model_module": "@jupyter-widgets/controls",
            "children": [
              "IPY_MODEL_49a078257afb440c8f7a1abfd14a1971",
              "IPY_MODEL_da33728b94324b35b78b832352ba6222"
            ]
          }
        },
        "01d63eb1a0054b969b3482de101d40cc": {
          "model_module": "@jupyter-widgets/base",
          "model_name": "LayoutModel",
          "state": {
            "_view_name": "LayoutView",
            "grid_template_rows": null,
            "right": null,
            "justify_content": null,
            "_view_module": "@jupyter-widgets/base",
            "overflow": null,
            "_model_module_version": "1.2.0",
            "_view_count": null,
            "flex_flow": null,
            "width": null,
            "min_width": null,
            "border": null,
            "align_items": null,
            "bottom": null,
            "_model_module": "@jupyter-widgets/base",
            "top": null,
            "grid_column": null,
            "overflow_y": null,
            "overflow_x": null,
            "grid_auto_flow": null,
            "grid_area": null,
            "grid_template_columns": null,
            "flex": null,
            "_model_name": "LayoutModel",
            "justify_items": null,
            "grid_row": null,
            "max_height": null,
            "align_content": null,
            "visibility": null,
            "align_self": null,
            "height": null,
            "min_height": null,
            "padding": null,
            "grid_auto_rows": null,
            "grid_gap": null,
            "max_width": null,
            "order": null,
            "_view_module_version": "1.2.0",
            "grid_template_areas": null,
            "object_position": null,
            "object_fit": null,
            "grid_auto_columns": null,
            "margin": null,
            "display": null,
            "left": null
          }
        },
        "49a078257afb440c8f7a1abfd14a1971": {
          "model_module": "@jupyter-widgets/controls",
          "model_name": "FloatProgressModel",
          "state": {
            "_view_name": "ProgressView",
            "style": "IPY_MODEL_fd185ba5c45c436c93363920bf1a1908",
            "_dom_classes": [],
            "description": "100%",
            "_model_name": "FloatProgressModel",
            "bar_style": "success",
            "max": 11,
            "_view_module": "@jupyter-widgets/controls",
            "_model_module_version": "1.5.0",
            "value": 11,
            "_view_count": null,
            "_view_module_version": "1.5.0",
            "orientation": "horizontal",
            "min": 0,
            "description_tooltip": null,
            "_model_module": "@jupyter-widgets/controls",
            "layout": "IPY_MODEL_ad5d950281174d1ebb4b1e5a50c79396"
          }
        },
        "da33728b94324b35b78b832352ba6222": {
          "model_module": "@jupyter-widgets/controls",
          "model_name": "HTMLModel",
          "state": {
            "_view_name": "HTMLView",
            "style": "IPY_MODEL_455109194cb5431788cc29523519fb98",
            "_dom_classes": [],
            "description": "",
            "_model_name": "HTMLModel",
            "placeholder": "​",
            "_view_module": "@jupyter-widgets/controls",
            "_model_module_version": "1.5.0",
            "value": " 11/11 [00:00&lt;00:00, 14.54ba/s]",
            "_view_count": null,
            "_view_module_version": "1.5.0",
            "description_tooltip": null,
            "_model_module": "@jupyter-widgets/controls",
            "layout": "IPY_MODEL_8cb92eab80494409a87f9a4f2caa7335"
          }
        },
        "fd185ba5c45c436c93363920bf1a1908": {
          "model_module": "@jupyter-widgets/controls",
          "model_name": "ProgressStyleModel",
          "state": {
            "_view_name": "StyleView",
            "_model_name": "ProgressStyleModel",
            "description_width": "initial",
            "_view_module": "@jupyter-widgets/base",
            "_model_module_version": "1.5.0",
            "_view_count": null,
            "_view_module_version": "1.2.0",
            "bar_color": null,
            "_model_module": "@jupyter-widgets/controls"
          }
        },
        "ad5d950281174d1ebb4b1e5a50c79396": {
          "model_module": "@jupyter-widgets/base",
          "model_name": "LayoutModel",
          "state": {
            "_view_name": "LayoutView",
            "grid_template_rows": null,
            "right": null,
            "justify_content": null,
            "_view_module": "@jupyter-widgets/base",
            "overflow": null,
            "_model_module_version": "1.2.0",
            "_view_count": null,
            "flex_flow": null,
            "width": null,
            "min_width": null,
            "border": null,
            "align_items": null,
            "bottom": null,
            "_model_module": "@jupyter-widgets/base",
            "top": null,
            "grid_column": null,
            "overflow_y": null,
            "overflow_x": null,
            "grid_auto_flow": null,
            "grid_area": null,
            "grid_template_columns": null,
            "flex": null,
            "_model_name": "LayoutModel",
            "justify_items": null,
            "grid_row": null,
            "max_height": null,
            "align_content": null,
            "visibility": null,
            "align_self": null,
            "height": null,
            "min_height": null,
            "padding": null,
            "grid_auto_rows": null,
            "grid_gap": null,
            "max_width": null,
            "order": null,
            "_view_module_version": "1.2.0",
            "grid_template_areas": null,
            "object_position": null,
            "object_fit": null,
            "grid_auto_columns": null,
            "margin": null,
            "display": null,
            "left": null
          }
        },
        "455109194cb5431788cc29523519fb98": {
          "model_module": "@jupyter-widgets/controls",
          "model_name": "DescriptionStyleModel",
          "state": {
            "_view_name": "StyleView",
            "_model_name": "DescriptionStyleModel",
            "description_width": "",
            "_view_module": "@jupyter-widgets/base",
            "_model_module_version": "1.5.0",
            "_view_count": null,
            "_view_module_version": "1.2.0",
            "_model_module": "@jupyter-widgets/controls"
          }
        },
        "8cb92eab80494409a87f9a4f2caa7335": {
          "model_module": "@jupyter-widgets/base",
          "model_name": "LayoutModel",
          "state": {
            "_view_name": "LayoutView",
            "grid_template_rows": null,
            "right": null,
            "justify_content": null,
            "_view_module": "@jupyter-widgets/base",
            "overflow": null,
            "_model_module_version": "1.2.0",
            "_view_count": null,
            "flex_flow": null,
            "width": null,
            "min_width": null,
            "border": null,
            "align_items": null,
            "bottom": null,
            "_model_module": "@jupyter-widgets/base",
            "top": null,
            "grid_column": null,
            "overflow_y": null,
            "overflow_x": null,
            "grid_auto_flow": null,
            "grid_area": null,
            "grid_template_columns": null,
            "flex": null,
            "_model_name": "LayoutModel",
            "justify_items": null,
            "grid_row": null,
            "max_height": null,
            "align_content": null,
            "visibility": null,
            "align_self": null,
            "height": null,
            "min_height": null,
            "padding": null,
            "grid_auto_rows": null,
            "grid_gap": null,
            "max_width": null,
            "order": null,
            "_view_module_version": "1.2.0",
            "grid_template_areas": null,
            "object_position": null,
            "object_fit": null,
            "grid_auto_columns": null,
            "margin": null,
            "display": null,
            "left": null
          }
        },
        "e057adff0dc548f4a51f95dc1e4e5115": {
          "model_module": "@jupyter-widgets/controls",
          "model_name": "HBoxModel",
          "state": {
            "_view_name": "HBoxView",
            "_dom_classes": [],
            "_model_name": "HBoxModel",
            "_view_module": "@jupyter-widgets/controls",
            "_model_module_version": "1.5.0",
            "_view_count": null,
            "_view_module_version": "1.5.0",
            "box_style": "",
            "layout": "IPY_MODEL_2b1b6d3893e6478f814f7a8961fdd3e8",
            "_model_module": "@jupyter-widgets/controls",
            "children": [
              "IPY_MODEL_87448e32d1174137ac85dd0e3f3117a1",
              "IPY_MODEL_31e64225b4604c6282f73e7bad55fec9"
            ]
          }
        },
        "2b1b6d3893e6478f814f7a8961fdd3e8": {
          "model_module": "@jupyter-widgets/base",
          "model_name": "LayoutModel",
          "state": {
            "_view_name": "LayoutView",
            "grid_template_rows": null,
            "right": null,
            "justify_content": null,
            "_view_module": "@jupyter-widgets/base",
            "overflow": null,
            "_model_module_version": "1.2.0",
            "_view_count": null,
            "flex_flow": null,
            "width": null,
            "min_width": null,
            "border": null,
            "align_items": null,
            "bottom": null,
            "_model_module": "@jupyter-widgets/base",
            "top": null,
            "grid_column": null,
            "overflow_y": null,
            "overflow_x": null,
            "grid_auto_flow": null,
            "grid_area": null,
            "grid_template_columns": null,
            "flex": null,
            "_model_name": "LayoutModel",
            "justify_items": null,
            "grid_row": null,
            "max_height": null,
            "align_content": null,
            "visibility": null,
            "align_self": null,
            "height": null,
            "min_height": null,
            "padding": null,
            "grid_auto_rows": null,
            "grid_gap": null,
            "max_width": null,
            "order": null,
            "_view_module_version": "1.2.0",
            "grid_template_areas": null,
            "object_position": null,
            "object_fit": null,
            "grid_auto_columns": null,
            "margin": null,
            "display": null,
            "left": null
          }
        },
        "87448e32d1174137ac85dd0e3f3117a1": {
          "model_module": "@jupyter-widgets/controls",
          "model_name": "FloatProgressModel",
          "state": {
            "_view_name": "ProgressView",
            "style": "IPY_MODEL_980dede6caf3432284e1440dacd22fdd",
            "_dom_classes": [],
            "description": "100%",
            "_model_name": "FloatProgressModel",
            "bar_style": "success",
            "max": 4,
            "_view_module": "@jupyter-widgets/controls",
            "_model_module_version": "1.5.0",
            "value": 4,
            "_view_count": null,
            "_view_module_version": "1.5.0",
            "orientation": "horizontal",
            "min": 0,
            "description_tooltip": null,
            "_model_module": "@jupyter-widgets/controls",
            "layout": "IPY_MODEL_896b7c91c99a44d6817ccb6fd661c0a1"
          }
        },
        "31e64225b4604c6282f73e7bad55fec9": {
          "model_module": "@jupyter-widgets/controls",
          "model_name": "HTMLModel",
          "state": {
            "_view_name": "HTMLView",
            "style": "IPY_MODEL_db563eca7c7548099b96dae78402823e",
            "_dom_classes": [],
            "description": "",
            "_model_name": "HTMLModel",
            "placeholder": "​",
            "_view_module": "@jupyter-widgets/controls",
            "_model_module_version": "1.5.0",
            "value": " 4/4 [00:00&lt;00:00, 10.35ba/s]",
            "_view_count": null,
            "_view_module_version": "1.5.0",
            "description_tooltip": null,
            "_model_module": "@jupyter-widgets/controls",
            "layout": "IPY_MODEL_97b92180b62c464ba12c98870c0e320a"
          }
        },
        "980dede6caf3432284e1440dacd22fdd": {
          "model_module": "@jupyter-widgets/controls",
          "model_name": "ProgressStyleModel",
          "state": {
            "_view_name": "StyleView",
            "_model_name": "ProgressStyleModel",
            "description_width": "initial",
            "_view_module": "@jupyter-widgets/base",
            "_model_module_version": "1.5.0",
            "_view_count": null,
            "_view_module_version": "1.2.0",
            "bar_color": null,
            "_model_module": "@jupyter-widgets/controls"
          }
        },
        "896b7c91c99a44d6817ccb6fd661c0a1": {
          "model_module": "@jupyter-widgets/base",
          "model_name": "LayoutModel",
          "state": {
            "_view_name": "LayoutView",
            "grid_template_rows": null,
            "right": null,
            "justify_content": null,
            "_view_module": "@jupyter-widgets/base",
            "overflow": null,
            "_model_module_version": "1.2.0",
            "_view_count": null,
            "flex_flow": null,
            "width": null,
            "min_width": null,
            "border": null,
            "align_items": null,
            "bottom": null,
            "_model_module": "@jupyter-widgets/base",
            "top": null,
            "grid_column": null,
            "overflow_y": null,
            "overflow_x": null,
            "grid_auto_flow": null,
            "grid_area": null,
            "grid_template_columns": null,
            "flex": null,
            "_model_name": "LayoutModel",
            "justify_items": null,
            "grid_row": null,
            "max_height": null,
            "align_content": null,
            "visibility": null,
            "align_self": null,
            "height": null,
            "min_height": null,
            "padding": null,
            "grid_auto_rows": null,
            "grid_gap": null,
            "max_width": null,
            "order": null,
            "_view_module_version": "1.2.0",
            "grid_template_areas": null,
            "object_position": null,
            "object_fit": null,
            "grid_auto_columns": null,
            "margin": null,
            "display": null,
            "left": null
          }
        },
        "db563eca7c7548099b96dae78402823e": {
          "model_module": "@jupyter-widgets/controls",
          "model_name": "DescriptionStyleModel",
          "state": {
            "_view_name": "StyleView",
            "_model_name": "DescriptionStyleModel",
            "description_width": "",
            "_view_module": "@jupyter-widgets/base",
            "_model_module_version": "1.5.0",
            "_view_count": null,
            "_view_module_version": "1.2.0",
            "_model_module": "@jupyter-widgets/controls"
          }
        },
        "97b92180b62c464ba12c98870c0e320a": {
          "model_module": "@jupyter-widgets/base",
          "model_name": "LayoutModel",
          "state": {
            "_view_name": "LayoutView",
            "grid_template_rows": null,
            "right": null,
            "justify_content": null,
            "_view_module": "@jupyter-widgets/base",
            "overflow": null,
            "_model_module_version": "1.2.0",
            "_view_count": null,
            "flex_flow": null,
            "width": null,
            "min_width": null,
            "border": null,
            "align_items": null,
            "bottom": null,
            "_model_module": "@jupyter-widgets/base",
            "top": null,
            "grid_column": null,
            "overflow_y": null,
            "overflow_x": null,
            "grid_auto_flow": null,
            "grid_area": null,
            "grid_template_columns": null,
            "flex": null,
            "_model_name": "LayoutModel",
            "justify_items": null,
            "grid_row": null,
            "max_height": null,
            "align_content": null,
            "visibility": null,
            "align_self": null,
            "height": null,
            "min_height": null,
            "padding": null,
            "grid_auto_rows": null,
            "grid_gap": null,
            "max_width": null,
            "order": null,
            "_view_module_version": "1.2.0",
            "grid_template_areas": null,
            "object_position": null,
            "object_fit": null,
            "grid_auto_columns": null,
            "margin": null,
            "display": null,
            "left": null
          }
        }
      }
    },
    "accelerator": "GPU"
  },
  "cells": [
    {
      "cell_type": "markdown",
      "metadata": {
        "id": "vYPcuipBctOc"
      },
      "source": [
        "# 6.864 Project\n",
        "$\\textbf{Main idea}$: Testing the limits of zero-shot and few-shot learning for labeling at scale."
      ]
    },
    {
      "cell_type": "code",
      "metadata": {
        "colab": {
          "base_uri": "https://localhost:8080/"
        },
        "id": "xejDQSG9BTPj",
        "outputId": "128e9ff6-459b-468c-e77b-7e3744a64fef"
      },
      "source": [
        "from google.colab import drive\n",
        "drive.mount('/content/gdrive')"
      ],
      "execution_count": null,
      "outputs": [
        {
          "output_type": "stream",
          "text": [
            "Mounted at /content/gdrive\n"
          ],
          "name": "stdout"
        }
      ]
    },
    {
      "cell_type": "code",
      "metadata": {
        "id": "nIswL-1kBeF5"
      },
      "source": [
        "%%bash\n",
        "# Logistics #2: install the transformers package, create a folder, download the dataset and a patch\n",
        "pip -q install transformers\n",
        "pip -q install datasets\n",
        "pip -q install tqdm\n",
        "pip -q install sentencepiece \n",
        "\n",
        "# mkdir \"/content/gdrive/MyDrive/6864_Project/\"\n",
        "cd \"/content/gdrive/MyDrive/6864_Project/\""
      ],
      "execution_count": null,
      "outputs": []
    },
    {
      "cell_type": "code",
      "metadata": {
        "id": "RVLLNcXYBO51"
      },
      "source": [
        "import numpy as np\n",
        "import pandas as pd\n",
        "import re\n",
        "import random\n",
        "\n",
        "import os\n",
        "os.chdir('/content/gdrive/MyDrive/6864_Project/')"
      ],
      "execution_count": null,
      "outputs": []
    },
    {
      "cell_type": "code",
      "metadata": {
        "id": "CBj1Wg7vBO5-",
        "colab": {
          "base_uri": "https://localhost:8080/"
        },
        "outputId": "4bd932e1-caf1-4ebe-a1f2-ca51471f8028"
      },
      "source": [
        "from datasets import load_dataset\n",
        "\n",
        "banking = load_dataset('banking77')\n",
        "print(banking)"
      ],
      "execution_count": null,
      "outputs": [
        {
          "output_type": "stream",
          "text": [
            "Using custom data configuration default\n",
            "Reusing dataset banking77 (/root/.cache/huggingface/datasets/banking77/default/1.1.0/17ffc2ed47c2ed928bee64127ff1dbc97204cb974c2f980becae7c864007aed9)\n"
          ],
          "name": "stderr"
        },
        {
          "output_type": "stream",
          "text": [
            "DatasetDict({\n",
            "    train: Dataset({\n",
            "        features: ['text', 'label'],\n",
            "        num_rows: 10003\n",
            "    })\n",
            "    test: Dataset({\n",
            "        features: ['text', 'label'],\n",
            "        num_rows: 3080\n",
            "    })\n",
            "})\n"
          ],
          "name": "stdout"
        }
      ]
    },
    {
      "cell_type": "code",
      "metadata": {
        "id": "mOcHENvBBO5_"
      },
      "source": [
        "# Need to remap all labels\n",
        "label_tbl = pd.read_csv('banking77.csv')\n",
        "label_map = {}\n",
        "\n",
        "# for simplicity only keep some 30 labels in training/testing data\n",
        "random.seed(6864)\n",
        "n_classes = 30\n",
        "labels_to_keep = random.sample(list(range(len(label_tbl))), k= n_classes)\n",
        "\n",
        "for i in range(len(label_tbl)):\n",
        "    label = label_tbl['Label'].iloc[i]\n",
        "    label = re.sub(r'\\_',' ',label)\n",
        "    ix = label_tbl['Label_ix'].iloc[i]\n",
        "    if ix in labels_to_keep:\n",
        "      label_map.update({ix: label})"
      ],
      "execution_count": null,
      "outputs": []
    },
    {
      "cell_type": "code",
      "metadata": {
        "id": "BsTv76LsBO6A",
        "colab": {
          "base_uri": "https://localhost:8080/",
          "height": 152,
          "referenced_widgets": [
            "1d64798077d64ec1b791a418ecab024d",
            "01d63eb1a0054b969b3482de101d40cc",
            "49a078257afb440c8f7a1abfd14a1971",
            "da33728b94324b35b78b832352ba6222",
            "fd185ba5c45c436c93363920bf1a1908",
            "ad5d950281174d1ebb4b1e5a50c79396",
            "455109194cb5431788cc29523519fb98",
            "8cb92eab80494409a87f9a4f2caa7335",
            "e057adff0dc548f4a51f95dc1e4e5115",
            "2b1b6d3893e6478f814f7a8961fdd3e8",
            "87448e32d1174137ac85dd0e3f3117a1",
            "31e64225b4604c6282f73e7bad55fec9",
            "980dede6caf3432284e1440dacd22fdd",
            "896b7c91c99a44d6817ccb6fd661c0a1",
            "db563eca7c7548099b96dae78402823e",
            "97b92180b62c464ba12c98870c0e320a"
          ]
        },
        "outputId": "2c506fdd-dff5-4c30-9982-4b8a86d19561"
      },
      "source": [
        "# filter trianing set to only intents we want \n",
        "banking2 = banking.filter(lambda row: row['label'] in labels_to_keep)\n",
        "\n",
        "print(len(banking2['train']))\n",
        "print(len(banking2['test']))"
      ],
      "execution_count": null,
      "outputs": [
        {
          "output_type": "display_data",
          "data": {
            "application/vnd.jupyter.widget-view+json": {
              "model_id": "1d64798077d64ec1b791a418ecab024d",
              "version_minor": 0,
              "version_major": 2
            },
            "text/plain": [
              "HBox(children=(FloatProgress(value=0.0, max=11.0), HTML(value='')))"
            ]
          },
          "metadata": {
            "tags": []
          }
        },
        {
          "output_type": "stream",
          "text": [
            "\n"
          ],
          "name": "stdout"
        },
        {
          "output_type": "display_data",
          "data": {
            "application/vnd.jupyter.widget-view+json": {
              "model_id": "e057adff0dc548f4a51f95dc1e4e5115",
              "version_minor": 0,
              "version_major": 2
            },
            "text/plain": [
              "HBox(children=(FloatProgress(value=0.0, max=4.0), HTML(value='')))"
            ]
          },
          "metadata": {
            "tags": []
          }
        },
        {
          "output_type": "stream",
          "text": [
            "\n",
            "4001\n",
            "1200\n"
          ],
          "name": "stdout"
        }
      ]
    },
    {
      "cell_type": "markdown",
      "metadata": {
        "id": "J2ZofpjoL8Ny"
      },
      "source": [
        "# Build out training and testing set"
      ]
    },
    {
      "cell_type": "code",
      "metadata": {
        "colab": {
          "base_uri": "https://localhost:8080/"
        },
        "id": "IvIIoDzlL3kW",
        "outputId": "9a2c4a86-72ec-4b0e-fc1d-bc6805dff234"
      },
      "source": [
        "# # First create a relatively small training set in light of few-shot learning. We collect k samples from each label\n",
        "label_counter = {}\n",
        "n_samples = 20 # This designates the number of each sentence with label i that we have in training\n",
        "val_size = 75\n",
        "\n",
        "train_queries, train_labels = [],[]\n",
        "test_queries, test_labels = [], []\n",
        "for i in range(len(banking2['train'])):\n",
        "  text = banking2['train'][i]['text']\n",
        "  label = banking2['train'][i]['label']\n",
        "  if label not in label_counter:\n",
        "    label_counter.update({label: 1})\n",
        "    train_queries.append(text)\n",
        "    train_labels.append(label)\n",
        "  else:\n",
        "    if label_counter[label] < n_samples:\n",
        "      train_queries.append(text)\n",
        "      train_labels.append(label)\n",
        "      label_counter[label] += 1\n",
        "    else:\n",
        "      test_queries.append(text)\n",
        "      test_labels.append(label)\n",
        "\n",
        "\n",
        "\n",
        "np.random.seed(42)\n",
        "test_ix = np.random.choice(len(test_queries), 1000) # grab 1000 points for testing \n",
        "mask = np.ones(len(test_queries), dtype=bool)\n",
        "mask[test_ix] = False\n",
        "holdout_ix = np.where(mask)[0]\n",
        "# Everything else from test_ix goes into the holdout\n",
        "holdout_queries = banking2['test']['text']\n",
        "holdout_labels = banking2['test']['label']\n",
        "holdout_queries += [test_queries[i] for i in holdout_ix.tolist()]\n",
        "holdout_labels += [test_labels[i] for i in holdout_ix.tolist()]\n",
        "# Create testing set of 1000\n",
        "test_queries=[test_queries[i] for i in test_ix.tolist()]\n",
        "test_labels=[test_labels[i] for i in test_ix.tolist()]\n",
        "\n",
        "train = pd.DataFrame({'text': train_queries, 'label': train_labels})\n",
        "test = pd.DataFrame({'text': test_queries, 'label': test_labels})\n",
        "holdout = pd.DataFrame({'text': holdout_queries, 'label': holdout_labels})\n",
        "\n",
        "train_queries, train_labels = list(train['text']), list(train['label'])\n",
        "val_queries, val_labels = list(holdout['text'][:val_size]), list(holdout['label'][:val_size])\n",
        "holdout_queries, holdout_labels = list(holdout['text'][val_size:]), list(holdout['label'][val_size:])\n",
        "test_queries, test_labels = list(test['text']), list(test['label'])\n",
        "\n",
        "print(len(train_queries))\n",
        "print(len(val_queries))\n",
        "print(len(holdout_queries))\n",
        "print(len(test_queries))"
      ],
      "execution_count": null,
      "outputs": [
        {
          "output_type": "stream",
          "text": [
            "600\n",
            "75\n",
            "3667\n",
            "1000\n"
          ],
          "name": "stdout"
        }
      ]
    },
    {
      "cell_type": "code",
      "metadata": {
        "id": "amHJD1Jrjsgx"
      },
      "source": [
        "for text, label, name in zip([train_queries, val_queries, test_queries, holdout_queries], \n",
        "                             [train_labels, val_labels, test_labels, holdout_labels],\n",
        "                             ['train', 'val','test', 'holdout']):\n",
        "  pd.DataFrame({'text':text, 'label':label}).to_csv(name+str(n_samples)+'.csv', index=False)"
      ],
      "execution_count": null,
      "outputs": []
    },
    {
      "cell_type": "markdown",
      "metadata": {
        "id": "30zCaqgOTmtE"
      },
      "source": [
        "## GloVe embedding-based Similarity Scoring"
      ]
    },
    {
      "cell_type": "code",
      "metadata": {
        "id": "tdFbCdMWenVy"
      },
      "source": [
        "# import GloVe embeddings for words\n",
        "# convert the smallest GloVe file: glove.6B.50d.txt into a dictionary\n",
        "# def find_closest_embeddings(embedding):\n",
        "#     return sorted(embeddings_dict.keys(), key=lambda word: spatial.distance.euclidean(embeddings_dict[word], embedding))\n",
        "glove = {}\n",
        "with open(\"glove.6B.50d.txt\", 'r', encoding=\"utf-8\") as f:\n",
        "  for line in f:\n",
        "    values = line.split()\n",
        "    word = values[0]\n",
        "    vector = np.asarray(values[1:], \"float32\")\n",
        "    glove[word] = vector"
      ],
      "execution_count": null,
      "outputs": []
    },
    {
      "cell_type": "code",
      "metadata": {
        "colab": {
          "base_uri": "https://localhost:8080/"
        },
        "id": "Rb_YOmSPO2GP",
        "outputId": "ef39945a-1770-465f-f9e3-861ee30c7f92"
      },
      "source": [
        "# First create a relatively small training set in light of few-shot learning. We collect k samples from each label\n",
        "label_counter = {}\n",
        "n_samples = 20 # This designates the number of each sentence with label i that we have in training\n",
        "train_queries, train_labels = [],[]\n",
        "test_queries, test_labels = [], []\n",
        "for i in range(len(banking2['train'])):\n",
        "  text = banking2['train'][i]['text']\n",
        "  label = banking2['train'][i]['label']\n",
        "  if label not in label_counter:\n",
        "    label_counter.update({label: 1})\n",
        "    train_queries.append(text)\n",
        "    train_labels.append(label)\n",
        "  else:\n",
        "    if label_counter[label] <= n_samples:\n",
        "      train_queries.append(text)\n",
        "      train_labels.append(label)\n",
        "      label_counter[label] += 1\n",
        "    else:\n",
        "      test_queries.append(text)\n",
        "      test_labels.append(label)\n",
        "\n",
        "print(len(train_queries))\n",
        "print(len(test_queries))"
      ],
      "execution_count": null,
      "outputs": [
        {
          "output_type": "stream",
          "text": [
            "630\n",
            "3371\n"
          ],
          "name": "stdout"
        }
      ]
    },
    {
      "cell_type": "code",
      "metadata": {
        "id": "VQJrYd1XoIUr"
      },
      "source": [
        "# pre-processing training queries\n",
        "# remove punctuation & to lowercase\n",
        "test_queries_clean = [re.sub(r'[^\\w\\s]', '', q).lower() for q in test_queries]\n",
        "# convert query into list of words\n",
        "test_queries_clean = [q.split() for q in test_queries_clean]\n",
        "\n",
        "# convert possible labels into list of words\n",
        "label_map_clean = {k:label_map[k].split() for k in label_map}\n",
        "label_words_lst = [l.split() for l in label_map.values()]"
      ],
      "execution_count": null,
      "outputs": []
    },
    {
      "cell_type": "code",
      "metadata": {
        "colab": {
          "base_uri": "https://localhost:8080/"
        },
        "id": "3RcQoU_8lVR4",
        "outputId": "d2275270-0a88-49a7-c85d-1b94ca9e665f"
      },
      "source": [
        "# check coverage of words in glove\n",
        "# queries\n",
        "query_word_count, covered_query_word_count = 0, 0\n",
        "for query in test_queries_clean:\n",
        "  for word in query:\n",
        "    query_word_count += 1\n",
        "    if word in glove:\n",
        "      covered_query_word_count += 1\n",
        "\n",
        "# labels\n",
        "label_word_count, covered_label_word_count = 0, 0\n",
        "for label in label_words_lst:\n",
        "  for word in label:\n",
        "    label_word_count += 1\n",
        "    if word in glove:\n",
        "      covered_label_word_count += 1\n",
        "\n",
        "print(\"%.2f percent of the query words are covered by GloVe.\" \n",
        "      % (covered_query_word_count/query_word_count * 100))\n",
        "print(\"%.2f percent of the label words are covered by GloVe.\" \n",
        "      % (covered_label_word_count/label_word_count * 100))"
      ],
      "execution_count": null,
      "outputs": [
        {
          "output_type": "stream",
          "text": [
            "99.42 percent of the query words are covered by GloVe.\n",
            "100.00 percent of the label words are covered by GloVe.\n"
          ],
          "name": "stdout"
        }
      ]
    },
    {
      "cell_type": "code",
      "metadata": {
        "id": "2M-A2_Bid4oe",
        "colab": {
          "base_uri": "https://localhost:8080/"
        },
        "outputId": "41dd8586-4c3d-4140-c5c7-72b329594cf2"
      },
      "source": [
        "# calculate the glove centroid (mean embeddings) for a list of words\n",
        "def mean_glove_emb(word_lst):\n",
        "  n, emb = 0, 0\n",
        "  for word in word_lst:\n",
        "    if word in glove:\n",
        "      n += 1\n",
        "      emb += np.array(glove[word])\n",
        "    if n == 0:\n",
        "      return np.zeros(50)\n",
        "    else:\n",
        "      return (emb/n)\n",
        "\n",
        "# get label embeddings\n",
        "intent_idx_lst = list(set(test_labels))\n",
        "intent_glove_embeddings_lst = [mean_glove_emb(label_map_clean[i]) for \n",
        "                               i in intent_idx_lst]\n",
        "\n",
        "# run an example\n",
        "query1 = test_queries_clean[1]\n",
        "query_embeddings_glove = mean_glove_emb(query1)\n",
        "dot_prod = np.array([query_embeddings_glove @ intent_emb for \n",
        "                     intent_emb in intent_glove_embeddings_lst])\n",
        "top_intents_idx = dot_prod.argsort()[::-1][:5]\n",
        "\n",
        "top_intents_text = [label_map[intent_idx_lst[i]] for i in top_intents_idx]\n",
        "print(\"for the query: \", test_queries[1])\n",
        "print(\"with true label: \", label_map[test_labels[1]])\n",
        "print(\"we get the following nearest neighbors: \")\n",
        "for i in range(len(top_intents_text)):\n",
        "  print(i+1,\". \",top_intents_text[i])"
      ],
      "execution_count": null,
      "outputs": [
        {
          "output_type": "stream",
          "text": [
            "for the query:  Have you sent out my card yet?\n",
            "with true label:  card arrival\n",
            "we get the following nearest neighbors: \n",
            "1 .  get disposable virtual card\n",
            "2 .  getting spare card\n",
            "3 .  top up reverted\n",
            "4 .  top up failed\n",
            "5 .  top up by cash or cheque\n"
          ],
          "name": "stdout"
        }
      ]
    },
    {
      "cell_type": "code",
      "metadata": {
        "colab": {
          "base_uri": "https://localhost:8080/"
        },
        "id": "dWT178o6IHpi",
        "outputId": "8c4d921f-92b3-4044-de35-30adfc65ed8d"
      },
      "source": [
        "# Test in a loop\n",
        "np.random.seed(42)\n",
        "test_ix = np.random.choice(len(test_queries), 500)\n",
        "top_k = 15 # the number of items predict\n",
        "n_correct_glove = 0\n",
        "\n",
        "for ix in test_ix:\n",
        "  query = test_queries_clean[ix]\n",
        "  label = label_map_clean[test_labels[ix]]\n",
        "\n",
        "  # GloVe centroids (before SNN's FF layer) \n",
        "  query_embeddings_glove = mean_glove_emb(query) # ONLY use glove\n",
        "  dot_prod = np.array([query_embeddings_glove @ intent_emb for \n",
        "                       intent_emb in intent_glove_embeddings_lst])\n",
        "  top_intents = dot_prod.argsort()[::-1][:top_k]\n",
        "  top_intents = [intent_idx_lst[i] for i in top_intents]\n",
        "  if test_labels[ix] in top_intents:\n",
        "    n_correct_glove+=1\n",
        "\n",
        "print(\"GloVe: {}\".format(n_correct_glove/len(test_ix)))"
      ],
      "execution_count": null,
      "outputs": [
        {
          "output_type": "stream",
          "text": [
            "GloVe: 0.55\n"
          ],
          "name": "stdout"
        }
      ]
    },
    {
      "cell_type": "markdown",
      "metadata": {
        "id": "KTsey86QuSZF"
      },
      "source": [
        "# Moving onto transformers and more advanced NLP models"
      ]
    },
    {
      "cell_type": "code",
      "metadata": {
        "id": "II1utiNRBO6C",
        "colab": {
          "base_uri": "https://localhost:8080/"
        },
        "outputId": "46f30eb0-6afc-4caf-aee9-a5b72c7e1b75"
      },
      "source": [
        "from transformers import AutoTokenizer, AutoModel, AutoModelForSequenceClassification\n",
        "import torch\n",
        "\n",
        "\"\"\"\n",
        "The following is from the sentence bert (SBERT) framework\n",
        "https://huggingface.co/sentence-transformers/bert-base-nli-mean-tokens\n",
        "\"\"\"\n",
        "\n",
        "#Mean Pooling - Take attention mask into account for correct averaging\n",
        "def mean_pooling(model_output, attention_mask):\n",
        "    token_embeddings = model_output[0] #First element of model_output contains all token embeddings\n",
        "    input_mask_expanded = attention_mask.unsqueeze(-1).expand(token_embeddings.size()).float()\n",
        "    sum_embeddings = torch.sum(token_embeddings * input_mask_expanded, 1)\n",
        "    sum_mask = torch.clamp(input_mask_expanded.sum(1), min=1e-9)\n",
        "    return sum_embeddings / sum_mask\n",
        "\n",
        "#Sentences we want sentence embeddings for\n",
        "query = ['I returned something to a  store but can\\'t see my refund.'] # TRUE INTENT: 'refund not showing up'\n",
        "intent_set = list(label_map.values())\n",
        "\n",
        "#Load AutoModel from huggingface model repository\n",
        "tokenizer = AutoTokenizer.from_pretrained(\"sentence-transformers/bert-base-nli-mean-tokens\")\n",
        "lm = AutoModel.from_pretrained(\"sentence-transformers/bert-base-nli-mean-tokens\").cuda()\n",
        "\n",
        "#Tokenize sentences and place them on tensor\n",
        "encoded_query = tokenizer(query, padding=True, truncation=True,return_token_type_ids=False, max_length=128, return_tensors='pt')\n",
        "encoded_query['input_ids'] = encoded_query['input_ids'].cuda()\n",
        "encoded_query['attention_mask'] = encoded_query['attention_mask'].cuda()\n",
        "encoded_intents = tokenizer(intent_set, padding=True, truncation=True,return_token_type_ids=False, max_length=128, return_tensors='pt')\n",
        "encoded_intents['input_ids'] = encoded_intents['input_ids'].cuda()\n",
        "encoded_intents['attention_mask'] = encoded_intents['attention_mask'].cuda()\n",
        "\n",
        "\n",
        "#Compute token embeddings\n",
        "lm.eval()\n",
        "with torch.no_grad():\n",
        "    output_query = lm(**encoded_query)\n",
        "    output_intents = lm(**encoded_intents)\n",
        "\n",
        "#Perform pooling. In this case, mean pooling\n",
        "query_embeddings = mean_pooling(output_query, encoded_query['attention_mask'])\n",
        "intents_embeddings_raw = mean_pooling(output_intents, encoded_intents['attention_mask'])\n"
      ],
      "execution_count": null,
      "outputs": [
        {
          "output_type": "stream",
          "text": [
            "Some weights of the model checkpoint at sentence-transformers/bert-base-nli-mean-tokens were not used when initializing BertModel: ['classifier.bias', 'classifier.weight']\n",
            "- This IS expected if you are initializing BertModel from the checkpoint of a model trained on another task or with another architecture (e.g. initializing a BertForSequenceClassification model from a BertForPreTraining model).\n",
            "- This IS NOT expected if you are initializing BertModel from the checkpoint of a model that you expect to be exactly identical (initializing a BertForSequenceClassification model from a BertForSequenceClassification model).\n"
          ],
          "name": "stderr"
        }
      ]
    },
    {
      "cell_type": "code",
      "metadata": {
        "colab": {
          "base_uri": "https://localhost:8080/"
        },
        "id": "jfOqiIPaHVFg",
        "outputId": "91ffe7df-6bcc-418f-f56c-5e3cf176d4a6"
      },
      "source": [
        "# Now take the dot product to find out which ones are closest\n",
        "# We see that the true intent is the third one. But considering this is a baseline model this isn't unexpected \n",
        "top_intents = torch.topk(torch.inner(query_embeddings, intents_embeddings_raw), k = 5).indices.squeeze()\n",
        "for i in range(len(top_intents)):\n",
        "  print(i+1,\". \",intent_set[top_intents[i].item()])"
      ],
      "execution_count": null,
      "outputs": [
        {
          "output_type": "stream",
          "text": [
            "1 .  balance not updated after bank transfer\n",
            "2 .  balance not updated after cheque or cash deposit\n",
            "3 .  refund not showing up\n",
            "4 .  declined card payment\n",
            "5 .  lost or stolen phone\n"
          ],
          "name": "stdout"
        }
      ]
    },
    {
      "cell_type": "markdown",
      "metadata": {
        "id": "6ceDvO4m2Gzy"
      },
      "source": [
        "# Plain ZSL (full hypothesis set) implementation"
      ]
    },
    {
      "cell_type": "code",
      "metadata": {
        "id": "kcCW7MVS3p8_"
      },
      "source": [
        "from transformers import pipeline\n",
        "classifier = pipeline(\"zero-shot-classification\",model=\"facebook/bart-large-mnli\")"
      ],
      "execution_count": null,
      "outputs": []
    },
    {
      "cell_type": "code",
      "metadata": {
        "colab": {
          "base_uri": "https://localhost:8080/"
        },
        "id": "Lg8cupzJ3grs",
        "outputId": "8bc38d83-bbbd-495b-af02-05f7170005eb"
      },
      "source": [
        "for i in range(10):\n",
        "  scores = classifier(test_queries[i], intent_set)\n",
        "  print(scores['labels'][0])"
      ],
      "execution_count": null,
      "outputs": [
        {
          "output_type": "stream",
          "text": [
            "cash withdrawal charge\n",
            "pending top up\n",
            "topping up by card\n",
            "pending top up\n",
            "balance not updated after cheque or cash deposit\n",
            "activate my card\n",
            "refund not showing up\n",
            "getting spare card\n",
            "extra charge on statement\n",
            "balance not updated after cheque or cash deposit\n"
          ],
          "name": "stdout"
        }
      ]
    },
    {
      "cell_type": "markdown",
      "metadata": {
        "id": "LG6vJjdUJXMm"
      },
      "source": [
        "# Siamese neural network implementation\n",
        "The basic idea is that we train a siamese neural network based on the triplet loss function for few-shot learning. In the triplet loss framework we provide a query that's of the same class and another query that is not of the same class.\n",
        "\n",
        "After training the model to distinguish which query is of the same class and which is not, we can use the network for unseen queries. We can then feed in the new query along with all of the label centroids to determine which label centroid is closest to the new query. "
      ]
    },
    {
      "cell_type": "code",
      "metadata": {
        "id": "9e-PgiClVeQ5",
        "colab": {
          "base_uri": "https://localhost:8080/"
        },
        "outputId": "0c599a8d-e5e3-469f-9354-096e1a78e8f0"
      },
      "source": [
        "# Next embed the training queries and create centroids based on the train\n",
        "\n",
        "encoded_query = tokenizer(train_queries,return_token_type_ids=False, padding=True,  max_length=128, return_tensors='pt')\n",
        "train_input_ids = encoded_query['input_ids'].cuda()\n",
        "train_attn_mask = encoded_query['attention_mask'].cuda()\n",
        "with torch.no_grad():\n",
        "    output_query = lm(input_ids = train_input_ids, \n",
        "                         attention_mask = train_attn_mask) #unpack arguments \n",
        "\n",
        "query_embeddings = mean_pooling(output_query, train_attn_mask)\n",
        "\n",
        "print(query_embeddings.shape)"
      ],
      "execution_count": null,
      "outputs": [
        {
          "output_type": "stream",
          "text": [
            "torch.Size([600, 768])\n"
          ],
          "name": "stdout"
        }
      ]
    },
    {
      "cell_type": "code",
      "metadata": {
        "id": "GAhbNtQJWe3q",
        "colab": {
          "base_uri": "https://localhost:8080/"
        },
        "outputId": "db7f88f9-40da-4793-bb4b-fb97663e1f94"
      },
      "source": [
        "intent_centroids = {}\n",
        "intent_centroids_lm = torch.zeros(intents_embeddings_raw.shape).cuda()\n",
        "\n",
        "# train_labels = torch.tensor(train_labels)\n",
        "# test_labels = torch.tensor(test_labels)\n",
        "\n",
        "# centroids = torch.zeros((len(set(train_labels)), query_embeddings.shape[1]))\n",
        "i=0\n",
        "for label in set(train_labels):\n",
        "  ix = np.where(np.array(train_labels) == label)[0]\n",
        "  intent_centroids[label] = torch.mean(query_embeddings[ix,:], dim = 0)\n",
        "  intent_centroids_lm[i,:] = torch.mean(query_embeddings[ix,:], dim = 0)\n",
        "  i+=1\n",
        "\n",
        "print(\"Created {} centroids based on query embeddings and label groups.\".format(n_classes))\n",
        "print(intent_centroids.keys())"
      ],
      "execution_count": null,
      "outputs": [
        {
          "output_type": "stream",
          "text": [
            "Created 30 centroids based on query embeddings and label groups.\n",
            "dict_keys([0, 1, 5, 6, 11, 17, 19, 23, 25, 31, 32, 34, 36, 37, 39, 42, 43, 47, 49, 51, 52, 55, 58, 59, 61, 62, 63, 64, 69, 72])\n"
          ],
          "name": "stdout"
        }
      ]
    },
    {
      "cell_type": "code",
      "metadata": {
        "id": "G9OouLPpHtMh"
      },
      "source": [
        "import torch.nn as nn\n",
        "import torch.nn.functional as F\n",
        "\n",
        "class SiameseNet(nn.Module):\n",
        "    def __init__(self, lm):\n",
        "      super(SiameseNet, self).__init__()\n",
        "      torch.manual_seed(6864)\n",
        "      self.lm = lm\n",
        "      self.embedding_dim = 768\n",
        "      self.output_size = 128\n",
        "\n",
        "      self.lin = nn.Linear(self.embedding_dim, 512)\n",
        "      self.lin1 = nn.Linear(512, 256)\n",
        "      self.out = nn.Linear(256, self.output_size)\n",
        "      self.dropout = nn.Dropout(0.02)\n",
        "\n",
        "    def freeze_lm(self): # freeze the SBERT model such that we only train the classifier \n",
        "      for param in self.lm.parameters():\n",
        "        param.requires_grad = False\n",
        "    def unfreeze_lm(self):\n",
        "      for param in self.lm.parameters():\n",
        "        param.requires_grad = True\n",
        "\n",
        "    def FF(self, embeddings): # Feed forward embedding \n",
        "      x = F.relu(self.lin(embeddings))\n",
        "      x = self.dropout(x)\n",
        "      x = F.relu(self.lin1(x))\n",
        "      x = self.out(x)\n",
        "      return x\n",
        "\n",
        "    def forward_one(self, encoded_query): # define the same forward function for the embeddings to produce embedding representation\n",
        "      output = self.lm(**encoded_query)\n",
        "      embeddings = mean_pooling(output, encoded_query['attention_mask']) # pool -> (batch size, hidden_size)\n",
        "      x = self.FF(embeddings)\n",
        "      return x\n",
        "\n",
        "    def forward(self, anc_encoded, pos_encoded, neg_encoded): # takes in anchor, positive, and negative\n",
        "      anc_emb = self.forward_one(anc_encoded) # pool -> (batch size, 32)\n",
        "      pos_emb = self.forward_one(pos_encoded)\n",
        "      neg_emb = self.forward_one(neg_encoded)\n",
        "      return anc_emb, pos_emb, neg_emb\n",
        "\n",
        "\n",
        "# define a loss function\n",
        "from torch.nn.modules.distance import PairwiseDistance\n",
        "class TripletLoss(nn.Module):\n",
        "    def __init__(self, eps): # eps is some margin \n",
        "        super(TripletLoss, self).__init__()\n",
        "        self.eps = eps\n",
        "        self.dist_fcn = PairwiseDistance(p=2)\n",
        "\n",
        "    def forward(self, anc_emb, pos_emb, neg_emb):\n",
        "        pos_dist = self.dist_fcn(anc_emb, pos_emb)\n",
        "        neg_dist = self.dist_fcn(anc_emb, neg_emb)\n",
        "\n",
        "        hinge_dist = torch.clamp(self.eps + pos_dist - neg_dist, min=0.0)\n",
        "        loss = torch.mean(hinge_dist) # take the average distance in the batch to be the loss  \n",
        "        return loss"
      ],
      "execution_count": null,
      "outputs": []
    },
    {
      "cell_type": "markdown",
      "metadata": {
        "id": "_CJIklTiF_HZ"
      },
      "source": [
        "# Triplet selection\n",
        "Given $x_{i}^{a}$ we want to select positive anchor (within a batch) such that $x_{i}^{p} = argmax||f(x_{i}^{a})-f(x_{i}^{p})||_{2}^{2}$ (it looks far from anchor, but is actually the same class) and similarly we want $x_{i}^{n} = argmin||f(x_{i}^{a})-f(x_{i}^{n})||_{2}^{2}$ (it looks close together but is actually of a different class). \n",
        "\n",
        "We can also consider \"semi-hard\" examples which have the property that $||f(x_{i}^{a})-f(x_{i}^{p})||_{2}^{2} \\leq ||f(x_{i}^{a})-f(x_{i}^{n})||_{2}^{2}$. \n",
        "\n",
        "Lastly, the Facenet paper recommends \"Instead of picking the hardest positive, we use all anchor-positive pairs in a mini-batch while still selecting the hard negatives.\" In similar vein, we can include all anchor-centroid pairs so that all labels eventually learn that they belong with a certain centroid.\n",
        "\n",
        "Ultimately, we have to make sure that we have some positive number of examples for each class. Because we are treating this as a semi-supervised problem, we're going to assume that we have limited labels (e.g. 20 labels of each class) and will instead use random sampling to create batches."
      ]
    },
    {
      "cell_type": "code",
      "metadata": {
        "id": "eLFPOo1QfLu5"
      },
      "source": [
        "# Wrap the batch generation into a function \n",
        "def generate_batch(model, train_input_ids, train_attn_mask, train_labels, centroids, n_pos, random_state):\n",
        "  \"\"\"\n",
        "  Model: the Siamese net model that will be used to generate embeddings\n",
        "  train_input_ids: ALL tokenized input ids across the training set\n",
        "  train_attention mask: ALL tokenized attention masks across the training set\n",
        "  train_labels: ALL labels across the training set\n",
        "  centroids: A dictionary that maps {label: centroid embedding}  \n",
        "  n_pos: The number of examples to draw from each class in train_labels\n",
        "  random_state: The seet to be set \n",
        "  \"\"\"\n",
        "\n",
        "  batch_ix = np.array([])\n",
        "  np.random.seed(random_state)\n",
        "  label_set = list(set(train_labels))\n",
        "  for label in label_set:\n",
        "    label_ix = np.where(np.array(label)==np.array(train_labels))[0]\n",
        "    label_ix = np.random.choice(label_ix,size=n_pos, replace = False) \n",
        "    batch_ix = np.concatenate([batch_ix, label_ix]).astype(np.int32)\n",
        "  batch_size = len(batch_ix)\n",
        "  batch_anc_enc = {'input_ids': train_input_ids[batch_ix], 'attention_mask': train_attn_mask[batch_ix]}\n",
        "  # Embed everything in the sample and obtain the distance matrix\n",
        "  embeddings = model.forward_one(batch_anc_enc)\n",
        "  emb_dists = torch.cdist(embeddings,embeddings, p=2)\n",
        "  # find the indices of emb_dists with the respective max (if same class) or min (if different class) for the distance\n",
        "  pos_samples = torch.zeros((batch_size)).long()\n",
        "  neg_samples = torch.zeros((batch_size)).long()\n",
        "  # Get the embedding of the same label centroid as well as some embedding of a (random) different label centroid\n",
        "  # Unlike pos/neg samples we'll just create this directly (not through input_ids and attention_mask)\n",
        "  emb_shape = centroids[label_set[0]].shape[0] # 768 is the shape of each centroid \n",
        "  pos_centroid_samples = torch.zeros((batch_size,emb_shape))\n",
        "  neg_centroid_samples = torch.zeros((batch_size,emb_shape))\n",
        "\n",
        "  batch_labels = np.array(train_labels)[batch_ix]\n",
        "  np.random.seed(random_state)\n",
        "  for i in range(batch_size): # just do brute-force over all selected samples for each label - it's a small matrix, otherwise it's too difficult to deal with indices\n",
        "    lab = batch_labels[i]\n",
        "    pos_ix = np.where(lab == batch_labels)[0]\n",
        "    pos_ix = np.setdiff1d(pos_ix, i) \n",
        "    neg_ix = np.where(lab != batch_labels)[0]\n",
        "    pos_dists = emb_dists[i,pos_ix]\n",
        "    neg_dists = emb_dists[i,neg_ix]\n",
        "    pos_samples[i] = pos_ix[torch.argmax(pos_dists)] # Hard-positive\n",
        "    neg_samples[i] = neg_ix[torch.argmin(neg_dists)] # Hard-negative\n",
        "    pos_centroid_samples[i] = centroids[lab] # Centroid-positive\n",
        "    diff_labels = [x for x in label_set if x != lab] # Randomly pick a different centroid to designate as a negative \n",
        "    neg_centroid_samples[i] = centroids[ np.random.choice(diff_labels, size=1, replace = False)[0] ] # Centroid-negative\n",
        "\n",
        "  # now generate a batch-based set of (anchor, hard-positive, hard-negative) triplets\n",
        "  pos_input_ids, pos_attention_mask = batch_anc_enc['input_ids'][pos_samples], batch_anc_enc['attention_mask'][pos_samples]\n",
        "  neg_input_ids, neg_attention_mask = batch_anc_enc['input_ids'][neg_samples], batch_anc_enc['attention_mask'][neg_samples]\n",
        "\n",
        "  batch_pos_enc = {'input_ids': pos_input_ids, 'attention_mask': pos_attention_mask}\n",
        "  batch_neg_enc = {'input_ids': neg_input_ids, 'attention_mask': neg_attention_mask}\n",
        "\n",
        "  return batch_anc_enc, batch_pos_enc, batch_neg_enc, pos_centroid_samples, neg_centroid_samples"
      ],
      "execution_count": null,
      "outputs": []
    },
    {
      "cell_type": "code",
      "metadata": {
        "id": "vdKiliy3uV7D"
      },
      "source": [
        "# Hyper-parameters:\n",
        "import transformers\n",
        "\n",
        "num_epochs = 40\n",
        "num_batches = 10\n",
        "learning_rate = 5e-4\n",
        "weight_decay = 1e-7\n",
        "optimizer_eps = 1e-6\n",
        "triplet_eps = 6\n",
        "n_pos = 5\n",
        "warmup_rate = 0.05\n",
        "ques_max_length = 64\n",
        "max_grad_norm = 5\n",
        "ctx_max_length = 448\n",
        "batch_size = n_pos*n_classes*2 # (x2 because we have both hard p/n and centroid p/n)\n",
        "\n",
        "# Calculating the number of warmup steps\n",
        "num_training_cases = num_batches*n_pos*n_classes\n",
        "t_total = (num_training_cases // batch_size + 1) * num_epochs\n",
        "ext_warmup_steps = int(warmup_rate * t_total)\n",
        "\n",
        "# Create model \n",
        "Siamese = SiameseNet(lm).cuda()\n",
        "Siamese.freeze_lm()\n",
        "# Siamese.unfreeze_lm()\n",
        "\n",
        "loss_fn = TripletLoss(eps = triplet_eps)\n",
        "\n",
        "# Initializing an AdamW optimizer\n",
        "learning_rate = 3e-4\n",
        "ext_optim = torch.optim.Adam(Siamese.parameters(), lr=learning_rate, weight_decay=weight_decay)"
      ],
      "execution_count": null,
      "outputs": []
    },
    {
      "cell_type": "code",
      "metadata": {
        "id": "v9RKNd9GfTtv",
        "colab": {
          "base_uri": "https://localhost:8080/"
        },
        "outputId": "40996973-37fc-44e1-dcb9-6708f34772e8"
      },
      "source": [
        "# Important to make sure all inputs (except train_labels) is on the same device \n",
        "Siamese.train()\n",
        "\n",
        "batch_loop = 2 # number of times we pass through each batch \n",
        "anneal_epsilon = True\n",
        "\n",
        "torch.manual_seed(6864)\n",
        "for epoch in range(num_epochs):\n",
        "  for batch in range(num_batches):\n",
        "\n",
        "    # Zero out gradient\n",
        "    Siamese.zero_grad() \n",
        "\n",
        "    # Generate batch\n",
        "    batch_anc_enc, batch_pos_enc, batch_neg_enc, pos_centroid, neg_centroid = generate_batch(Siamese, train_input_ids, train_attn_mask, train_labels, \n",
        "                                                                                             intent_centroids, n_pos, batch*epoch)\n",
        "\n",
        "    for _ in range(batch_loop):\n",
        "      # Encode anc/pos/neg\n",
        "      anc_emb, pos_emb, neg_emb = Siamese(batch_anc_enc, batch_pos_enc, batch_neg_enc)\n",
        "\n",
        "      # Embed centroids\n",
        "      pos_centroid_emb = Siamese.FF(pos_centroid.cuda())\n",
        "      neg_centroid_emb = Siamese.FF(neg_centroid.cuda())\n",
        "\n",
        "      # compute the loss \n",
        "      main_loss = loss_fn(anc_emb, pos_emb, neg_emb)\n",
        "      # print(\"Hard Pos/Neg Loss: {}\".format(main_loss))\n",
        "\n",
        "      centroid_loss = loss_fn(anc_emb, pos_centroid_emb, neg_centroid_emb)\n",
        "      # print(\"Centroid Pos/Neg Loss: {}\".format(centroid_loss))\n",
        "\n",
        "      total_loss = main_loss + centroid_loss # concatenate the loss \n",
        "\n",
        "      total_loss.backward()\n",
        "      # torch.nn.utils.clip_grad_norm_(Siamese.parameters(), max_grad_norm)\n",
        "      ext_optim.step()\n",
        "      # ext_sche.step() # Update learning rate for better convergence\n",
        "    \n",
        "\n",
        "    if (epoch % 2 == 0) & (batch == num_batches-1):\n",
        "      print(\"Epoch {} batch {} total loss: {}\".format(epoch, batch, total_loss))\n"
      ],
      "execution_count": null,
      "outputs": [
        {
          "output_type": "stream",
          "text": [
            "Epoch 0 batch 9 total loss: 8.630136489868164\n",
            "Epoch 2 batch 9 total loss: 7.261341094970703\n",
            "Epoch 4 batch 9 total loss: 5.1447248458862305\n",
            "Epoch 6 batch 9 total loss: 3.697981834411621\n",
            "Epoch 8 batch 9 total loss: 4.030923843383789\n",
            "Epoch 10 batch 9 total loss: 1.9100823402404785\n",
            "Epoch 12 batch 9 total loss: 1.3651505708694458\n",
            "Epoch 14 batch 9 total loss: 0.5625714063644409\n",
            "Epoch 16 batch 9 total loss: 0.32262465357780457\n",
            "Epoch 18 batch 9 total loss: 0.6174914240837097\n",
            "Epoch 20 batch 9 total loss: 0.2624626159667969\n",
            "Epoch 22 batch 9 total loss: 0.17559868097305298\n",
            "Epoch 24 batch 9 total loss: 0.23426397144794464\n",
            "Epoch 26 batch 9 total loss: 0.09838125854730606\n",
            "Epoch 28 batch 9 total loss: 0.029896901920437813\n",
            "Epoch 30 batch 9 total loss: 0.013035736046731472\n",
            "Epoch 32 batch 9 total loss: 0.08113095909357071\n",
            "Epoch 34 batch 9 total loss: 0.03752696514129639\n",
            "Epoch 36 batch 9 total loss: 0.05352046340703964\n",
            "Epoch 38 batch 9 total loss: 0.03151318430900574\n"
          ],
          "name": "stdout"
        }
      ]
    },
    {
      "cell_type": "code",
      "metadata": {
        "id": "cGZXYdyn8gJi",
        "colab": {
          "base_uri": "https://localhost:8080/"
        },
        "outputId": "a432dab4-051e-4265-a0fa-bf60755a6f92"
      },
      "source": [
        "device = torch.device(\"cuda\" if torch.cuda.is_available() else \"cpu\")\n",
        "\n",
        "# evaluate the model\n",
        "Siamese.eval()\n",
        "\n",
        "# Embed all labels with the trained network \n",
        "intents_embeddings = torch.zeros((n_classes, Siamese.output_size)).cuda()\n",
        "intent_set = list(set(train_labels))\n",
        "for i in range(len(intent_set)):\n",
        "  lab = intent_set[i]\n",
        "  intents_embeddings[i,:] = Siamese.FF(intent_centroids[lab].cuda())\n",
        "\n",
        "\n",
        "# Test in a loop \n",
        "\n",
        "top_k = 1 # the number of items predict\n",
        "n_correct_SNN = 0\n",
        "\n",
        "for ix in range(len(val_queries)):\n",
        "  query = val_queries[ix]\n",
        "  label = label_map[val_labels[ix]]\n",
        "\n",
        "  # LM + SNN's FF layer \n",
        "  encoded_query = tokenizer(query, padding=True, truncation=True,return_token_type_ids=False, max_length=128, return_tensors='pt')\n",
        "  encoded_query.to(device)\n",
        "  query_embeddings_SNN = Siamese.forward_one(encoded_query)\n",
        "  top_intents = torch.topk(torch.norm(query_embeddings_SNN-intents_embeddings, 2, dim = 1), k = top_k, largest = False).indices.squeeze()\n",
        "  if top_k == 1:\n",
        "    top_intents = [top_intents]\n",
        "  top_intents_set = []\n",
        "  for i in range(len(top_intents)):\n",
        "    label_ix = intent_set[top_intents[i].item()]\n",
        "    top_intents_set.append(label_map[label_ix])\n",
        "  if label in top_intents_set:\n",
        "    n_correct_SNN+=1\n",
        "\n",
        "print(\"SNN: {}\".format(n_correct_SNN/len(val_queries)))"
      ],
      "execution_count": null,
      "outputs": [
        {
          "output_type": "stream",
          "text": [
            "SNN: 0.9333333333333333\n"
          ],
          "name": "stdout"
        }
      ]
    },
    {
      "cell_type": "markdown",
      "metadata": {
        "id": "f92oKMChWeEo"
      },
      "source": [
        "Evaluate SNN on the testing set below"
      ]
    },
    {
      "cell_type": "code",
      "metadata": {
        "id": "BOK8a4rX8AqW"
      },
      "source": [
        "# # Say we have a new query for which we want to find closeby centroids\n",
        "# i = 300\n",
        "# query = test_queries[i]\n",
        "# print(\"Test Query: \",query)\n",
        "# print(\"Test Label: \",label_map[test_labels[i]])\n",
        "\n",
        "# # Embed the query\n",
        "# encoded_query = tokenizer(query, padding=True, truncation=True,return_token_type_ids=False, max_length=128, return_tensors='pt')\n",
        "# encoded_query.to(device)\n",
        "# query_embeddings = Siamese.forward_one(encoded_query)"
      ],
      "execution_count": null,
      "outputs": []
    },
    {
      "cell_type": "code",
      "metadata": {
        "id": "tEdHf6aiFh1D"
      },
      "source": [
        "# Test in a loop \n",
        "\n",
        "top_k = 1 # the number of items predict\n",
        "n_correct_SNN = 0\n",
        "n_correct_CentNN = 0\n",
        "n_correct_SBERT = 0\n",
        "\n",
        "for ix in range(len(test_queries)):\n",
        "  query = test_queries[ix]\n",
        "  label = label_map[test_labels[ix]]\n",
        "\n",
        "  # LM + SNN's FF layer \n",
        "  encoded_query = tokenizer(query, padding=True, truncation=True,return_token_type_ids=False, max_length=128, return_tensors='pt')\n",
        "  encoded_query.to(device)\n",
        "  query_embeddings_SNN = Siamese.forward_one(encoded_query)\n",
        "  top_intents = torch.topk(torch.norm(query_embeddings_SNN-intents_embeddings, 2, dim = 1), k = top_k, largest = False).indices.squeeze()\n",
        "  if top_k == 1:\n",
        "    top_intents = [top_intents]\n",
        "  top_intents_set = []\n",
        "  for i in range(len(top_intents)):\n",
        "    label_ix = intent_set[top_intents[i].item()]\n",
        "    top_intents_set.append(label_map[label_ix])\n",
        "  if label in top_intents_set:\n",
        "    n_correct_SNN+=1\n",
        "\n",
        "  # With unsupervised SBERT embeddings: get the embedding label corresponding to the largest dot product \n",
        "  lm_enc = lm(**encoded_query) # ONLY use the language model\n",
        "  query_embeddings_LM = mean_pooling(lm_enc, encoded_query['attention_mask']) \n",
        "\n",
        "\n",
        "  top_intents = torch.topk(torch.inner(query_embeddings_LM, intents_embeddings_raw), k = top_k).indices.squeeze()\n",
        "  if top_k == 1:\n",
        "    top_intents = [top_intents]\n",
        "  top_intents_set = []\n",
        "  for i in range(len(top_intents)):\n",
        "    label_ix = intent_set[top_intents[i].item()]\n",
        "    top_intents_set.append(label_map[label_ix])\n",
        "  if label in top_intents_set:\n",
        "    n_correct_SBERT+=1\n",
        "\n",
        "  # With language model (LM) centroids (before SNN's FF layer) \n",
        "  top_intents_set = []\n",
        "  top_intents = torch.topk(torch.inner(query_embeddings_LM, intent_centroids_lm), k = top_k).indices.squeeze()\n",
        "  if top_k == 1:\n",
        "    top_intents = [top_intents]\n",
        "  for i in range(len(top_intents)):\n",
        "    label_ix = intent_set[top_intents[i].item()]\n",
        "    top_intents_set.append(label_map[label_ix])\n",
        "  if label in top_intents_set:\n",
        "    n_correct_CentNN+=1"
      ],
      "execution_count": null,
      "outputs": []
    },
    {
      "cell_type": "code",
      "metadata": {
        "colab": {
          "base_uri": "https://localhost:8080/"
        },
        "id": "a_NUBnDFUTVa",
        "outputId": "202768d4-fce7-403e-cb0e-9615151c3070"
      },
      "source": [
        "print(\"Unsupervised Methods\")\n",
        "print(\"SBERT: {}\".format(n_correct_SBERT/len(test_queries)))\n",
        "\n",
        "print(\"Semisupervised Methods\")\n",
        "print(\"CentNN: {}\".format(n_correct_CentNN/len(test_queries)))\n",
        "print(\"SNN: {}\".format(n_correct_SNN/len(test_queries)))"
      ],
      "execution_count": null,
      "outputs": [
        {
          "output_type": "stream",
          "text": [
            "Unsupervised Methods\n",
            "SBERT: 0.486\n",
            "Semisupervised Methods\n",
            "CentNN: 0.54\n",
            "SNN: 0.861\n"
          ],
          "name": "stdout"
        }
      ]
    },
    {
      "cell_type": "markdown",
      "metadata": {
        "id": "2qYAHo_UGz8m"
      },
      "source": [
        "# Pseudo SNN\n",
        "\n",
        "In this modification, instead of using the Siamese structure, we use a different feed forward layer to embed the centroids "
      ]
    },
    {
      "cell_type": "code",
      "metadata": {
        "id": "4QdBxsQQGzIz"
      },
      "source": [
        "import torch.nn as nn\n",
        "import torch.nn.functional as F\n",
        "\n",
        "class PseudoSiameseNet(nn.Module):\n",
        "    def __init__(self, lm):\n",
        "      super(PseudoSiameseNet, self).__init__()\n",
        "      torch.manual_seed(6864)\n",
        "      self.lm = lm\n",
        "      self.embedding_dim = 768\n",
        "      self.output_size = 128\n",
        "\n",
        "      self.FF_lins = nn.ModuleList([nn.Linear(self.embedding_dim, 512),\n",
        "                                    nn.Linear(512, 256)])\n",
        "      self.FF_out = nn.Linear(256, self.output_size)\n",
        "\n",
        "      self.FF_cent_lins = nn.ModuleList([nn.Linear(self.embedding_dim, 512),\n",
        "                                    nn.Linear(512, 256)])\n",
        "      self.FF_cent_out = nn.Linear(256, self.output_size)\n",
        "\n",
        "      self.dropout = nn.Dropout(0.02)\n",
        "\n",
        "    def freeze_lm(self): # freeze the SBERT model such that we only train the classifier \n",
        "      for param in self.lm.parameters():\n",
        "        param.requires_grad = False\n",
        "    def unfreeze_lm(self):\n",
        "      for param in self.lm.parameters():\n",
        "        param.requires_grad = True\n",
        "\n",
        "    def FF(self, x): # Feed forward embedding \n",
        "      for lin in self.FF_lins:\n",
        "        x = F.relu(lin(x))\n",
        "        x = self.dropout(x)\n",
        "      x = self.FF_out(x)\n",
        "      return x\n",
        "\n",
        "    def FF_cent(self, x): # Feed forward embedding \n",
        "      for lin in self.FF_cent_lins:\n",
        "        x = F.relu(lin(x))\n",
        "        x = self.dropout(x)\n",
        "      x = self.FF_cent_out(x)\n",
        "      return x\n",
        "\n",
        "    def forward_one(self, encoded_query): # define the same forward function for the embeddings to produce embedding representation\n",
        "      output = self.lm(**encoded_query)\n",
        "      embeddings = mean_pooling(output, encoded_query['attention_mask']) # pool -> (batch size, hidden_size)\n",
        "      x = self.FF(embeddings)\n",
        "      return x\n",
        "\n",
        "    def forward(self, anc_encoded, pos_encoded, neg_encoded): # takes in anchor, positive, and negative\n",
        "      anc_emb = self.forward_one(anc_encoded) # pool -> (batch size, 32)\n",
        "      pos_emb = self.forward_one(pos_encoded)\n",
        "      neg_emb = self.forward_one(neg_encoded)\n",
        "      return anc_emb, pos_emb, neg_emb\n"
      ],
      "execution_count": null,
      "outputs": []
    },
    {
      "cell_type": "code",
      "metadata": {
        "id": "dQuQDF_wGzi3"
      },
      "source": [
        "# Hyper-parameters:\n",
        "import transformers\n",
        "\n",
        "num_epochs = 40\n",
        "num_batches = 10\n",
        "learning_rate = 3e-4\n",
        "weight_decay = 1e-8\n",
        "optimizer_eps = 1e-6\n",
        "triplet_eps = 5\n",
        "n_pos = 5\n",
        "warmup_rate = 0.05\n",
        "ques_max_length = 64\n",
        "max_grad_norm = 5\n",
        "ctx_max_length = 448\n",
        "batch_size = n_pos*n_classes*2 # (x2 because we have both hard p/n and centroid p/n)\n",
        "\n",
        "# Calculating the number of warmup steps\n",
        "num_training_cases = num_batches*n_pos*n_classes\n",
        "t_total = (num_training_cases // batch_size + 1) * num_epochs\n",
        "ext_warmup_steps = int(warmup_rate * t_total)\n",
        "\n",
        "# Create model \n",
        "PseudoSiamese = PseudoSiameseNet(lm).cuda()\n",
        "PseudoSiamese.freeze_lm()\n",
        "# Siamese.unfreeze_lm()\n",
        "\n",
        "loss_fn = TripletLoss(eps = triplet_eps)\n",
        "\n",
        "# stick with Adam optimizer \n",
        "learning_rate = 3e-4\n",
        "ext_optim = torch.optim.Adam(PseudoSiamese.parameters(), lr=learning_rate, weight_decay=weight_decay)\n",
        "\n",
        "# Initializing an AdamW optimizer\n",
        "# ext_optim = torch.optim.AdamW(PseudoSiamese.parameters(), lr=learning_rate,\n",
        "#                               eps=optimizer_eps, weight_decay=weight_decay)\n",
        "\n",
        "# # Initializing the learning rate scheduler [details are in the BERT paper]\n",
        "# ext_sche = transformers.get_linear_schedule_with_warmup(\n",
        "#     ext_optim, num_warmup_steps=ext_warmup_steps, num_training_steps=t_total\n",
        "# )"
      ],
      "execution_count": null,
      "outputs": []
    },
    {
      "cell_type": "code",
      "metadata": {
        "colab": {
          "base_uri": "https://localhost:8080/"
        },
        "id": "pvUVQMQoKQUr",
        "outputId": "15be6d45-3cef-4690-b3a3-f13eeaf4cbef"
      },
      "source": [
        "# Important to make sure all inputs (except train_labels) is on the same device \n",
        "PseudoSiamese.train()\n",
        "\n",
        "batch_loop = 2 # number of times we pass through each batch \n",
        "\n",
        "torch.manual_seed(6864)\n",
        "for epoch in range(num_epochs):\n",
        "  for batch in range(num_batches):\n",
        "\n",
        "    # Zero out gradient\n",
        "    PseudoSiamese.zero_grad() \n",
        "\n",
        "    # Generate batch\n",
        "    batch_anc_enc, batch_pos_enc, batch_neg_enc, pos_centroid, neg_centroid = generate_batch(PseudoSiamese, train_input_ids, train_attn_mask, train_labels, \n",
        "                                                                                             intent_centroids, n_pos, batch*epoch)\n",
        "\n",
        "    for _ in range(batch_loop):\n",
        "      # Encode anc/pos/neg\n",
        "      anc_emb, pos_emb, neg_emb = PseudoSiamese(batch_anc_enc, batch_pos_enc, batch_neg_enc)\n",
        "\n",
        "      # Embed centroids\n",
        "      pos_centroid_emb = PseudoSiamese.FF_cent(pos_centroid.cuda())\n",
        "      neg_centroid_emb = PseudoSiamese.FF_cent(neg_centroid.cuda())\n",
        "\n",
        "      # compute the loss \n",
        "      main_loss = loss_fn(anc_emb, pos_emb, neg_emb)\n",
        "      # print(\"Hard Pos/Neg Loss: {}\".format(main_loss))\n",
        "\n",
        "      centroid_loss = loss_fn(anc_emb, pos_centroid_emb, neg_centroid_emb)\n",
        "      # print(\"Centroid Pos/Neg Loss: {}\".format(centroid_loss))\n",
        "\n",
        "      total_loss = main_loss + centroid_loss # concatenate the loss \n",
        "\n",
        "      total_loss.backward()\n",
        "      ext_optim.step()\n",
        "      # ext_sche.step() # Update learning rate for better convergence\n",
        "    \n",
        "\n",
        "    if (epoch % 2 == 0) & (batch == num_batches-1):\n",
        "      print(\"Epoch {} batch {} total loss: {}\".format(epoch, batch, total_loss))\n"
      ],
      "execution_count": null,
      "outputs": [
        {
          "output_type": "stream",
          "text": [
            "Epoch 0 batch 9 total loss: 8.720535278320312\n",
            "Epoch 2 batch 9 total loss: 7.181765079498291\n",
            "Epoch 4 batch 9 total loss: 5.36004638671875\n",
            "Epoch 6 batch 9 total loss: 4.013286590576172\n",
            "Epoch 8 batch 9 total loss: 3.0403995513916016\n",
            "Epoch 10 batch 9 total loss: 1.9707510471343994\n",
            "Epoch 12 batch 9 total loss: 1.5759813785552979\n",
            "Epoch 14 batch 9 total loss: 0.8636195063591003\n",
            "Epoch 16 batch 9 total loss: 0.41083788871765137\n",
            "Epoch 18 batch 9 total loss: 0.22334222495555878\n",
            "Epoch 20 batch 9 total loss: 0.29334768652915955\n",
            "Epoch 22 batch 9 total loss: 0.18339276313781738\n",
            "Epoch 24 batch 9 total loss: 0.2313760370016098\n",
            "Epoch 26 batch 9 total loss: 0.0500829704105854\n",
            "Epoch 28 batch 9 total loss: 0.050625551491975784\n",
            "Epoch 30 batch 9 total loss: 0.08427371084690094\n",
            "Epoch 32 batch 9 total loss: 0.03359883651137352\n",
            "Epoch 34 batch 9 total loss: 0.1361265629529953\n",
            "Epoch 36 batch 9 total loss: 0.02278233878314495\n",
            "Epoch 38 batch 9 total loss: 0.012556979432702065\n"
          ],
          "name": "stdout"
        }
      ]
    },
    {
      "cell_type": "markdown",
      "metadata": {
        "id": "Zi4ujhtDZdUA"
      },
      "source": [
        "Test on validation set"
      ]
    },
    {
      "cell_type": "code",
      "metadata": {
        "colab": {
          "base_uri": "https://localhost:8080/"
        },
        "id": "leZiHGxTZEKx",
        "outputId": "cec5d536-b156-497d-c349-17354066ac45"
      },
      "source": [
        "# Test in a loop \n",
        "top_k = 1 # the number of items predict\n",
        "n_correct_SNN = 0\n",
        "\n",
        "# evaluate the model\n",
        "PseudoSiamese.eval()\n",
        "\n",
        "# Embed all labels with the trained network \n",
        "intents_embeddings = torch.zeros((n_classes, PseudoSiamese.output_size)).cuda()\n",
        "intent_set = list(set(train_labels))\n",
        "for i in range(len(intent_set)):\n",
        "  lab = intent_set[i]\n",
        "  intents_embeddings[i,:] = PseudoSiamese.FF_cent(intent_centroids[lab].cuda())\n",
        "\n",
        "for ix in range(len(val_queries)):\n",
        "  query = val_queries[ix]\n",
        "  label = label_map[val_labels[ix]]\n",
        "\n",
        "  # LM + SNN's FF layer \n",
        "  encoded_query = tokenizer(query, padding=True, truncation=True,return_token_type_ids=False, max_length=128, return_tensors='pt')\n",
        "  encoded_query.to(device)\n",
        "  query_embeddings_SNN = PseudoSiamese.forward_one(encoded_query)\n",
        "  top_intents = torch.topk(torch.norm(query_embeddings_SNN-intents_embeddings, 2, dim = 1), k = top_k, largest = False).indices.squeeze()\n",
        "  if top_k == 1:\n",
        "    top_intents = [top_intents]\n",
        "  top_intents_set = []\n",
        "  for i in range(len(top_intents)):\n",
        "    label_ix = intent_set[top_intents[i].item()]\n",
        "    top_intents_set.append(label_map[label_ix])\n",
        "  if label in top_intents_set:\n",
        "    n_correct_SNN+=1\n",
        "\n",
        "print(\"SNN: {}\".format(n_correct_SNN/len(val_queries)))"
      ],
      "execution_count": null,
      "outputs": [
        {
          "output_type": "stream",
          "text": [
            "SNN: 0.9066666666666666\n"
          ],
          "name": "stdout"
        }
      ]
    },
    {
      "cell_type": "markdown",
      "metadata": {
        "id": "_01objUvZfdL"
      },
      "source": [
        "Test on testing set"
      ]
    },
    {
      "cell_type": "code",
      "metadata": {
        "id": "bb8PyMP0NqMi",
        "colab": {
          "base_uri": "https://localhost:8080/"
        },
        "outputId": "dec92e75-e605-4dc8-de86-f879b9df4730"
      },
      "source": [
        "# Test in a loop \n",
        "top_k = 1 # the number of items predict\n",
        "n_correct_SNN = 0\n",
        "\n",
        "# evaluate the model\n",
        "PseudoSiamese.eval()\n",
        "\n",
        "# Embed all labels with the trained network \n",
        "intents_embeddings = torch.zeros((n_classes, PseudoSiamese.output_size)).cuda()\n",
        "intent_set = list(set(train_labels))\n",
        "for i in range(len(intent_set)):\n",
        "  lab = intent_set[i]\n",
        "  intents_embeddings[i,:] = PseudoSiamese.FF_cent(intent_centroids[lab].cuda())\n",
        "\n",
        "for ix in range(len(test_queries)):\n",
        "  query = test_queries[ix]\n",
        "  label = label_map[test_labels[ix]]\n",
        "\n",
        "  # LM + SNN's FF layer \n",
        "  encoded_query = tokenizer(query, padding=True, truncation=True,return_token_type_ids=False, max_length=128, return_tensors='pt')\n",
        "  encoded_query.to(device)\n",
        "  query_embeddings_SNN = PseudoSiamese.forward_one(encoded_query)\n",
        "  top_intents = torch.topk(torch.norm(query_embeddings_SNN-intents_embeddings, 2, dim = 1), k = top_k, largest = False).indices.squeeze()\n",
        "  if top_k == 1:\n",
        "    top_intents = [top_intents]\n",
        "  top_intents_set = []\n",
        "  for i in range(len(top_intents)):\n",
        "    label_ix = intent_set[top_intents[i].item()]\n",
        "    top_intents_set.append(label_map[label_ix])\n",
        "  if label in top_intents_set:\n",
        "    n_correct_SNN+=1\n",
        "\n",
        "n_correct_SNN/len(test_queries)"
      ],
      "execution_count": null,
      "outputs": [
        {
          "output_type": "execute_result",
          "data": {
            "text/plain": [
              "0.829"
            ]
          },
          "metadata": {
            "tags": []
          },
          "execution_count": 150
        }
      ]
    },
    {
      "cell_type": "markdown",
      "metadata": {
        "id": "s5YsoIm7XW9K"
      },
      "source": [
        "### Create TSNE Visualization on the training and testing"
      ]
    },
    {
      "cell_type": "code",
      "metadata": {
        "id": "xfW5ZehKNNzU"
      },
      "source": [
        "# TSNE visualization \n",
        "from sklearn.manifold import TSNE\n",
        "import seaborn as sns\n",
        "\n",
        "# TRAINING DATA\n",
        "np.random.seed(12345)\n",
        "a = intent_set[:10]\n",
        "emb_sample_ix = [i for i in range(len(train_labels)) if train_labels[i] in a]\n",
        "emb_sample_ix = np.random.choice(emb_sample_ix, size = 100, replace = False)\n",
        "\n",
        "SBERT_embedding = np.zeros((len(emb_sample_ix), 768))\n",
        "SNN_embedding = np.zeros((len(emb_sample_ix), PseudoSiamese.output_size))\n",
        "emb_lab = []\n",
        "\n",
        "for i in range(len(emb_sample_ix)):\n",
        "  ix = emb_sample_ix[i]\n",
        "  query = train_queries[ix]\n",
        "  label = train_labels[ix]\n",
        "  emb_lab.append(label)\n",
        "\n",
        "  # embed with SBERT \n",
        "  encoded_query = tokenizer(query, padding=True, truncation=True,return_token_type_ids=False, max_length=128, return_tensors='pt')\n",
        "  encoded_query.to(device)\n",
        "  lm_enc = lm(**encoded_query) # ONLY use the language model\n",
        "  query_embeddings_LM = mean_pooling(lm_enc, encoded_query['attention_mask']) \n",
        "  SBERT_embedding[i,:] = query_embeddings_LM.detach().cpu().numpy()\n",
        "\n",
        "  # embed with PSNN\n",
        "  query_embeddings_SNN = PseudoSiamese.forward_one(encoded_query)\n",
        "  SNN_embedding[i,:] = query_embeddings_SNN.detach().cpu().numpy()\n",
        "\n",
        "\n",
        "emb_lab = [label_map[x] for x in emb_lab]\n",
        "lm_emb = TSNE(n_components=2).fit_transform(SBERT_embedding)\n",
        "snn_emb = TSNE(n_components=2).fit_transform(SNN_embedding)"
      ],
      "execution_count": null,
      "outputs": []
    },
    {
      "cell_type": "code",
      "metadata": {
        "colab": {
          "base_uri": "https://localhost:8080/",
          "height": 542
        },
        "id": "sJ7Uo8kaNlZS",
        "outputId": "2f987a26-7a7a-477a-c3ce-5e01ddf56951"
      },
      "source": [
        "sns.scatterplot(lm_emb[:,0], lm_emb[:,1], hue = emb_lab,)\n",
        "plt.legend(bbox_to_anchor=(1.05, 1), loc=2, borderaxespad=0.)\n",
        "plt.xlabel(\"Embedding Dim 1\")\n",
        "plt.ylabel(\"Embedding Dim 2\")\n",
        "plt.title(\"SBERT Query Embeddings - Training\")"
      ],
      "execution_count": null,
      "outputs": [
        {
          "output_type": "stream",
          "text": [
            "/usr/local/lib/python3.7/dist-packages/seaborn/_decorators.py:43: FutureWarning: Pass the following variables as keyword args: x, y. From version 0.12, the only valid positional argument will be `data`, and passing other arguments without an explicit keyword will result in an error or misinterpretation.\n",
            "  FutureWarning\n"
          ],
          "name": "stderr"
        },
        {
          "output_type": "error",
          "ename": "NameError",
          "evalue": "ignored",
          "traceback": [
            "\u001b[0;31m---------------------------------------------------------------------------\u001b[0m",
            "\u001b[0;31mNameError\u001b[0m                                 Traceback (most recent call last)",
            "\u001b[0;32m<ipython-input-152-a6b9362c3141>\u001b[0m in \u001b[0;36m<module>\u001b[0;34m()\u001b[0m\n\u001b[1;32m      1\u001b[0m \u001b[0msns\u001b[0m\u001b[0;34m.\u001b[0m\u001b[0mscatterplot\u001b[0m\u001b[0;34m(\u001b[0m\u001b[0mlm_emb\u001b[0m\u001b[0;34m[\u001b[0m\u001b[0;34m:\u001b[0m\u001b[0;34m,\u001b[0m\u001b[0;36m0\u001b[0m\u001b[0;34m]\u001b[0m\u001b[0;34m,\u001b[0m \u001b[0mlm_emb\u001b[0m\u001b[0;34m[\u001b[0m\u001b[0;34m:\u001b[0m\u001b[0;34m,\u001b[0m\u001b[0;36m1\u001b[0m\u001b[0;34m]\u001b[0m\u001b[0;34m,\u001b[0m \u001b[0mhue\u001b[0m \u001b[0;34m=\u001b[0m \u001b[0memb_lab\u001b[0m\u001b[0;34m,\u001b[0m\u001b[0;34m)\u001b[0m\u001b[0;34m\u001b[0m\u001b[0;34m\u001b[0m\u001b[0m\n\u001b[0;32m----> 2\u001b[0;31m \u001b[0mplt\u001b[0m\u001b[0;34m.\u001b[0m\u001b[0mlegend\u001b[0m\u001b[0;34m(\u001b[0m\u001b[0mbbox_to_anchor\u001b[0m\u001b[0;34m=\u001b[0m\u001b[0;34m(\u001b[0m\u001b[0;36m1.05\u001b[0m\u001b[0;34m,\u001b[0m \u001b[0;36m1\u001b[0m\u001b[0;34m)\u001b[0m\u001b[0;34m,\u001b[0m \u001b[0mloc\u001b[0m\u001b[0;34m=\u001b[0m\u001b[0;36m2\u001b[0m\u001b[0;34m,\u001b[0m \u001b[0mborderaxespad\u001b[0m\u001b[0;34m=\u001b[0m\u001b[0;36m0.\u001b[0m\u001b[0;34m)\u001b[0m\u001b[0;34m\u001b[0m\u001b[0;34m\u001b[0m\u001b[0m\n\u001b[0m\u001b[1;32m      3\u001b[0m \u001b[0mplt\u001b[0m\u001b[0;34m.\u001b[0m\u001b[0mxlabel\u001b[0m\u001b[0;34m(\u001b[0m\u001b[0;34m\"Embedding Dim 1\"\u001b[0m\u001b[0;34m)\u001b[0m\u001b[0;34m\u001b[0m\u001b[0;34m\u001b[0m\u001b[0m\n\u001b[1;32m      4\u001b[0m \u001b[0mplt\u001b[0m\u001b[0;34m.\u001b[0m\u001b[0mylabel\u001b[0m\u001b[0;34m(\u001b[0m\u001b[0;34m\"Embedding Dim 2\"\u001b[0m\u001b[0;34m)\u001b[0m\u001b[0;34m\u001b[0m\u001b[0;34m\u001b[0m\u001b[0m\n\u001b[1;32m      5\u001b[0m \u001b[0mplt\u001b[0m\u001b[0;34m.\u001b[0m\u001b[0mtitle\u001b[0m\u001b[0;34m(\u001b[0m\u001b[0;34m\"SBERT Query Embeddings - Training\"\u001b[0m\u001b[0;34m)\u001b[0m\u001b[0;34m\u001b[0m\u001b[0;34m\u001b[0m\u001b[0m\n",
            "\u001b[0;31mNameError\u001b[0m: name 'plt' is not defined"
          ]
        },
        {
          "output_type": "display_data",
          "data": {
            "image/png": "[encoded data removed]",
            "text/plain": [
              "<Figure size 432x288 with 1 Axes>"
            ]
          },
          "metadata": {
            "tags": [],
            "needs_background": "light"
          }
        }
      ]
    },
    {
      "cell_type": "code",
      "metadata": {
        "id": "Sy1xv013SzEp"
      },
      "source": [
        "sns.scatterplot(snn_emb[:,0], snn_emb[:,1], hue = emb_lab)\n",
        "plt.legend(bbox_to_anchor=(1.05, 1), loc=2, borderaxespad=0.)\n",
        "plt.xlabel(\"Embedding Dim 1\")\n",
        "plt.ylabel(\"Embedding Dim 2\")\n",
        "plt.title(\"PSNN Query Embeddings - Training\")"
      ],
      "execution_count": null,
      "outputs": []
    },
    {
      "cell_type": "code",
      "metadata": {
        "id": "LSxZN8m8X5NT"
      },
      "source": [
        "emb_sample_ix = [i for i in range(len(test_labels)) if test_labels[i] in a]\n",
        "emb_sample_ix = np.random.choice(emb_sample_ix, size = 100, replace = False)\n",
        "\n",
        "SBERT_embedding = np.zeros((len(emb_sample_ix), 768))\n",
        "SNN_embedding = np.zeros((len(emb_sample_ix), PseudoSiamese.output_size))\n",
        "emb_lab = []\n",
        "\n",
        "for i in range(len(emb_sample_ix)):\n",
        "  ix = emb_sample_ix[i]\n",
        "  query = test_queries[ix]\n",
        "  label = test_labels[ix]\n",
        "  emb_lab.append(label)\n",
        "\n",
        "  # embed with SBERT \n",
        "  encoded_query = tokenizer(query, padding=True, truncation=True,return_token_type_ids=False, max_length=128, return_tensors='pt')\n",
        "  encoded_query.to(device)\n",
        "  lm_enc = lm(**encoded_query) # ONLY use the language model\n",
        "  query_embeddings_LM = mean_pooling(lm_enc, encoded_query['attention_mask']) \n",
        "  SBERT_embedding[i,:] = query_embeddings_LM.detach().cpu().numpy()\n",
        "\n",
        "  # embed with PSNN\n",
        "  query_embeddings_SNN = PseudoSiamese.forward_one(encoded_query)\n",
        "  SNN_embedding[i,:] = query_embeddings_SNN.detach().cpu().numpy()\n",
        "\n",
        "\n",
        "emb_lab = [label_map[x] for x in emb_lab]\n",
        "lm_emb = TSNE(n_components=2).fit_transform(SBERT_embedding)\n",
        "snn_emb = TSNE(n_components=2).fit_transform(SNN_embedding)"
      ],
      "execution_count": null,
      "outputs": []
    },
    {
      "cell_type": "code",
      "metadata": {
        "id": "kBqM9upKYYbi"
      },
      "source": [
        "sns.scatterplot(lm_emb[:,0], lm_emb[:,1], hue = emb_lab,)\n",
        "plt.legend(bbox_to_anchor=(1.05, 1), loc=2, borderaxespad=0.)\n",
        "plt.xlabel(\"Embedding Dim 1\")\n",
        "plt.ylabel(\"Embedding Dim 2\")\n",
        "plt.title(\"SBERT Query Embeddings - Testing\")"
      ],
      "execution_count": null,
      "outputs": []
    },
    {
      "cell_type": "code",
      "metadata": {
        "id": "5P5O1JXeYYbi"
      },
      "source": [
        "sns.scatterplot(snn_emb[:,0], snn_emb[:,1], hue = emb_lab)\n",
        "plt.legend(bbox_to_anchor=(1.05, 1), loc=2, borderaxespad=0.)\n",
        "plt.xlabel(\"Embedding Dim 1\")\n",
        "plt.ylabel(\"Embedding Dim 2\")\n",
        "plt.title(\"PSNN Query Embeddings - Testing\")"
      ],
      "execution_count": null,
      "outputs": []
    },
    {
      "cell_type": "markdown",
      "metadata": {
        "id": "H3FSshELLWjB"
      },
      "source": [
        "# Stack ZSL on top of another model\n",
        "\n",
        "As it turns out, this doesn't help SNN, but it does help the centroid method "
      ]
    },
    {
      "cell_type": "code",
      "metadata": {
        "id": "i9M3Q4GsEpW8"
      },
      "source": [
        "# from functools import reduce\n",
        "top_k = 3 # the number of items to gather from each model \n",
        "n_correct_ZSL_stackSNN = 0\n",
        "n_correct_ZSL_stackCENT = 0\n",
        "n_correct_ZSL_stackUNION = 0\n",
        "for ix in range(len(test_queries)):\n",
        "  query = test_queries[ix]\n",
        "  label = label_map[test_labels[ix]]\n",
        "\n",
        "  encoded_query = tokenizer(query, padding=True, truncation=True,return_token_type_ids=False, max_length=128, return_tensors='pt')\n",
        "  encoded_query.to(device)\n",
        "  query_embeddings_SNN = PseudoSiamese.forward_one(encoded_query)\n",
        "  top_intents = torch.topk(torch.norm(query_embeddings_SNN-intents_embeddings, 2, dim = 1), k = top_k, largest = False).indices.squeeze()\n",
        "  if top_k == 1:\n",
        "    top_intents = [top_intents]\n",
        "  top_intents_SNN = []\n",
        "  for i in range(len(top_intents)):\n",
        "    label_ix = intent_set[top_intents[i].item()]\n",
        "    top_intents_SNN.append(label_map[label_ix])\n",
        "\n",
        "  lm_enc = lm(**encoded_query) # ONLY use the language model\n",
        "  query_embeddings_LM = mean_pooling(lm_enc, encoded_query['attention_mask']) \n",
        "\n",
        "  top_intents = torch.topk(torch.inner(query_embeddings_LM, intents_embeddings_raw), k = top_k).indices.squeeze()\n",
        "  if top_k == 1:\n",
        "    top_intents = [top_intents]\n",
        "  top_intents_SBERT = []\n",
        "  for i in range(len(top_intents)):\n",
        "    label_ix = intent_set[top_intents[i].item()]\n",
        "    top_intents_SBERT.append(label_map[label_ix])\n",
        "\n",
        "  top_intents_CENTROID = []\n",
        "  top_intents = torch.topk(torch.inner(query_embeddings_LM, intent_centroids_lm), k = top_k).indices.squeeze()\n",
        "  if top_k == 1:\n",
        "    top_intents = [top_intents]\n",
        "  for i in range(len(top_intents)):\n",
        "    label_ix = intent_set[top_intents[i].item()]\n",
        "    top_intents_CENTROID.append(label_map[label_ix])\n",
        "\n",
        "  # # # use one of the above models as the suggestion engine for ZSL\n",
        "  pred_ZSL = classifier(query, top_intents_CENTROID)\n",
        "  if pred_ZSL['labels'][0] == label:\n",
        "    n_correct_ZSL_stackCENT +=1 \n",
        "\n",
        "      # # use one of the above models as the suggestion engine for ZSL\n",
        "  pred_ZSL = classifier(query, top_intents_SNN)\n",
        "  if pred_ZSL['labels'][0] == label:\n",
        "    n_correct_ZSL_stackSNN +=1 \n",
        "\n",
        "  # # # use one of the above models as the suggestion engine for ZSL\n",
        "  pred_ZSL = classifier(query, list(set(top_intents_SNN).union(set(top_intents_CENTROID))))\n",
        "  if pred_ZSL['labels'][0] == label:\n",
        "    n_correct_ZSL_stackUNION +=1 "
      ],
      "execution_count": null,
      "outputs": []
    },
    {
      "cell_type": "code",
      "metadata": {
        "colab": {
          "base_uri": "https://localhost:8080/"
        },
        "id": "QkADp4q2xnTh",
        "outputId": "62247e15-c534-4788-9353-bb6e43684245"
      },
      "source": [
        "print(\"Centroid \", n_correct_ZSL_stackCENT)\n",
        "print(\"SNN \", n_correct_ZSL_stackSNN)\n",
        "print(\"Union \", n_correct_ZSL_stackUNION)"
      ],
      "execution_count": null,
      "outputs": [
        {
          "output_type": "stream",
          "text": [
            "Centroid  654\n",
            "SNN  712\n",
            "Union  676\n"
          ],
          "name": "stdout"
        }
      ]
    },
    {
      "cell_type": "markdown",
      "metadata": {
        "id": "DotaMPI72rfo"
      },
      "source": [
        "Close out the project with one more task \n",
        "- Ensemble: find some smart way of using the confidence scores from the NN/SBERT/SNN models and then combining them\n",
        "- RL: "
      ]
    },
    {
      "cell_type": "code",
      "metadata": {
        "id": "2BcjTplqe_bB"
      },
      "source": [
        "# Do manual remapping\n",
        "label_map_ZSL = label_map.copy()\n",
        "label_map_ZSL[0] = 'activate card'\n",
        "label_map_ZSL[17] = 'wrong or incorrect exchange rate'\n",
        "label_map_ZSL[19] = 'withdrawal charge'\n",
        "label_map_ZSL[34] = 'extra charge'"
      ],
      "execution_count": null,
      "outputs": []
    },
    {
      "cell_type": "code",
      "metadata": {
        "id": "0F_5Yg23ZvDH"
      },
      "source": [
        "# hypotheses_set = [top_intents_SNN, top_intents_SBERT, top_intents_CENTROID]\n",
        "# list(reduce(set.intersection, [set(item) for item in hypotheses_set]))"
      ],
      "execution_count": null,
      "outputs": []
    },
    {
      "cell_type": "code",
      "metadata": {
        "id": "Pz_qpcPd4L_G"
      },
      "source": [
        ""
      ],
      "execution_count": null,
      "outputs": []
    },
    {
      "cell_type": "markdown",
      "metadata": {
        "id": "m57S49yNGi91"
      },
      "source": [
        "# Enesemble method"
      ]
    },
    {
      "cell_type": "code",
      "metadata": {
        "id": "vEWU3g2YGiJz"
      },
      "source": [
        "from sklearn.preprocessing import quantile_transform\n",
        "\n",
        "# Score in a loop\n",
        "n_models = 3 \n",
        "pred_train = np.zeros((len(train_queries), n_models*len(intent_set)))\n",
        "\n",
        "for ix in range(len(train_queries)):\n",
        "  query = train_queries[ix]\n",
        "\n",
        "  # LM + SNN's FF layer \n",
        "  encoded_query = tokenizer(query, padding=True, truncation=True,return_token_type_ids=False, max_length=128, return_tensors='pt')\n",
        "  encoded_query.to(device)\n",
        "  query_embeddings_SNN = PseudoSiamese.forward_one(encoded_query)\n",
        "  preds_SNN = F.softmax(1/torch.norm(query_embeddings_SNN-intents_embeddings, 2, dim = 1), dim=-1).squeeze().detach().cpu().numpy().reshape(-1,1)  # take softmax over inverse distance (closer is better)\n",
        "\n",
        "  lm_enc = lm(**encoded_query) # ONLY use the language model\n",
        "  query_embeddings_LM = mean_pooling(lm_enc, encoded_query['attention_mask']) \n",
        "\n",
        "  preds_SBERT = F.softmax(torch.inner(query_embeddings_LM, intents_embeddings_raw), dim=-1).squeeze().detach().cpu().numpy().reshape(-1,1)\n",
        "\n",
        "  preds_CENTROID = F.softmax(torch.inner(query_embeddings_LM, intent_centroids_lm), dim=-1).squeeze().detach().cpu().numpy().reshape(-1,1)\n",
        "\n",
        "  pred_train[ix,:] = np.concatenate([quantile_transform(preds_SNN, n_quantiles = len(intent_set), copy = True), \n",
        "                                  quantile_transform(preds_SBERT, n_quantiles = len(intent_set), copy = True),\n",
        "                                  quantile_transform(preds_CENTROID, n_quantiles = len(intent_set), copy = True)], axis = 0).squeeze()\n",
        "\n",
        "  "
      ],
      "execution_count": null,
      "outputs": []
    },
    {
      "cell_type": "code",
      "metadata": {
        "colab": {
          "base_uri": "https://localhost:8080/"
        },
        "id": "2org-FGyZL59",
        "outputId": "40ec27fa-d33f-4c74-93ef-b4d7fef900ab"
      },
      "source": [
        "X_train = pred_train\n",
        "y_train = train_labels\n",
        "\n",
        "print(X_train.shape)"
      ],
      "execution_count": null,
      "outputs": [
        {
          "output_type": "stream",
          "text": [
            "(600, 90)\n"
          ],
          "name": "stdout"
        }
      ]
    },
    {
      "cell_type": "code",
      "metadata": {
        "id": "mbZQkomZZrio"
      },
      "source": [
        "from sklearn.ensemble import RandomForestClassifier\n",
        "from sklearn.model_selection import RandomizedSearchCV\n",
        "\n",
        "rf = RandomForestClassifier(random_state = 6864)\n",
        "\n",
        "# Number of trees in random forest\n",
        "n_estimators = [int(x) for x in np.linspace(start = 20, stop = 500, num = 10)]\n",
        "# Degree of regularization on each tree\n",
        "ccp_alpha = [x for x in np.logspace(start = -8, stop = 1, num = 10)]\n",
        "ccp_alpha.append(0)\n",
        "# Number of features to consider at every split, including all features \n",
        "max_features = ['auto', 0.5, 0.7, 0.8, 0.9, None]\n",
        "# Maximum number of levels in tree\n",
        "max_depth = [int(x) for x in np.linspace(5, 100, num = 11)]\n",
        "max_depth.append(None)\n",
        "# Minimum number of samples required to split a node\n",
        "min_samples_split = [2, 3, 5, 10]\n",
        "# Minimum number of samples required at each leaf node\n",
        "min_samples_leaf = [1, 2, 4, 5]\n",
        "# Method of selecting samples for training each tree\n",
        "bootstrap = [True, False]\n",
        "# Create the random grid\n",
        "random_grid = {'n_estimators': n_estimators,\n",
        "               'ccp_alpha':ccp_alpha,\n",
        "               'max_features': max_features,\n",
        "               'max_depth': max_depth,\n",
        "               'min_samples_split': min_samples_split,\n",
        "               'min_samples_leaf': min_samples_leaf,\n",
        "               'bootstrap': bootstrap}"
      ],
      "execution_count": null,
      "outputs": []
    },
    {
      "cell_type": "code",
      "metadata": {
        "colab": {
          "base_uri": "https://localhost:8080/"
        },
        "id": "ywK2VqMZaXtm",
        "outputId": "d4273875-fdd2-4999-c66f-a0565e635f63"
      },
      "source": [
        "rf_random = RandomizedSearchCV(estimator = rf, param_distributions = random_grid, n_iter = 300, cv = 5, verbose=2, random_state=6864, n_jobs = -1)\n",
        "# Fit the random search model\n",
        "rf_random.fit(X_train, y_train)\n",
        "\n",
        "rf_random.best_estimator_\n",
        "\n",
        "ens_clf = rf_random.best_estimator_"
      ],
      "execution_count": null,
      "outputs": [
        {
          "output_type": "stream",
          "text": [
            "Fitting 5 folds for each of 300 candidates, totalling 1500 fits\n"
          ],
          "name": "stdout"
        },
        {
          "output_type": "stream",
          "text": [
            "[Parallel(n_jobs=-1)]: Using backend LokyBackend with 4 concurrent workers.\n",
            "[Parallel(n_jobs=-1)]: Done  33 tasks      | elapsed:   34.6s\n",
            "[Parallel(n_jobs=-1)]: Done 154 tasks      | elapsed:  3.0min\n",
            "[Parallel(n_jobs=-1)]: Done 357 tasks      | elapsed:  7.0min\n",
            "[Parallel(n_jobs=-1)]: Done 640 tasks      | elapsed: 12.2min\n",
            "[Parallel(n_jobs=-1)]: Done 1005 tasks      | elapsed: 19.5min\n",
            "[Parallel(n_jobs=-1)]: Done 1450 tasks      | elapsed: 27.4min\n",
            "[Parallel(n_jobs=-1)]: Done 1500 out of 1500 | elapsed: 28.4min finished\n"
          ],
          "name": "stderr"
        }
      ]
    },
    {
      "cell_type": "code",
      "metadata": {
        "id": "KZV0IBCAarR4"
      },
      "source": [
        "# Score in a loop\n",
        "n_models = 3 \n",
        "pred_test = np.zeros((len(test_queries), n_models*len(intent_set)))\n",
        "\n",
        "for ix in range(len(test_queries)):\n",
        "  query = test_queries[ix]\n",
        "\n",
        "  # LM + SNN's FF layer \n",
        "  encoded_query = tokenizer(query, padding=True, truncation=True,return_token_type_ids=False, max_length=128, return_tensors='pt')\n",
        "  encoded_query.to(device)\n",
        "  query_embeddings_SNN = PseudoSiamese.forward_one(encoded_query)\n",
        "  preds_SNN = F.softmax(1/torch.norm(query_embeddings_SNN-intents_embeddings, 2, dim = 1), dim=-1).squeeze().detach().cpu().numpy().reshape(-1,1)  # take softmax over inverse distance (closer is better)\n",
        "  # they're too close together sometimes, so do a quantile transform\n",
        "  lm_enc = lm(**encoded_query) # ONLY use the language model\n",
        "  query_embeddings_LM = mean_pooling(lm_enc, encoded_query['attention_mask']) \n",
        "\n",
        "  preds_SBERT = F.softmax(torch.inner(query_embeddings_LM, intents_embeddings_raw), dim=-1).squeeze().detach().cpu().numpy().reshape(-1,1)\n",
        "\n",
        "  preds_CENTROID = F.softmax(torch.inner(query_embeddings_LM, intent_centroids_lm), dim=-1).squeeze().detach().cpu().numpy().reshape(-1,1)\n",
        "\n",
        "  pred_test[ix,:] = np.concatenate([quantile_transform(preds_SNN, n_quantiles = len(intent_set), copy = True), \n",
        "                                    quantile_transform(preds_SBERT, n_quantiles = len(intent_set), copy = True),\n",
        "                                    quantile_transform(preds_CENTROID, n_quantiles = len(intent_set), copy = True)], axis = 0).squeeze()\n",
        "\n",
        "X_test = pred_test\n",
        "y_test = test_labels"
      ],
      "execution_count": null,
      "outputs": []
    },
    {
      "cell_type": "code",
      "metadata": {
        "colab": {
          "base_uri": "https://localhost:8080/"
        },
        "id": "3O_-4l-fbIqE",
        "outputId": "e78fd04c-b55c-469f-c297-f3a0871e1c11"
      },
      "source": [
        "pred_test_ens = ens_clf.predict(X_test)\n",
        "pred_test_ens_p = ens_clf.predict_proba(X_test)\n",
        "\n",
        "np.sum(pred_test_ens==y_test)/len(y_test)"
      ],
      "execution_count": null,
      "outputs": [
        {
          "output_type": "execute_result",
          "data": {
            "text/plain": [
              "0.829"
            ]
          },
          "metadata": {
            "tags": []
          },
          "execution_count": 163
        }
      ]
    },
    {
      "cell_type": "code",
      "metadata": {
        "id": "3XuuIuS1urKv"
      },
      "source": [
        "# Now lets use the ensemble to create an augmented dataset with pseudolabels \n",
        "\n",
        "# Score in a loop\n",
        "n_models = 3 \n",
        "pred_test = np.zeros((len(holdout_queries), n_models*len(intent_set)))\n",
        "\n",
        "for ix in range(len(holdout_queries)):\n",
        "  query = holdout_queries[ix]\n",
        "\n",
        "  # LM + SNN's FF layer \n",
        "  encoded_query = tokenizer(query, padding=True, truncation=True,return_token_type_ids=False, max_length=128, return_tensors='pt')\n",
        "  encoded_query.to(device)\n",
        "  query_embeddings_SNN = PseudoSiamese.forward_one(encoded_query)\n",
        "  preds_SNN = F.softmax(1/torch.norm(query_embeddings_SNN-intents_embeddings, 2, dim = 1), dim=-1).squeeze().detach().cpu().numpy().reshape(-1,1)  # take softmax over inverse distance (closer is better)\n",
        "  # they're too close together sometimes, so do a quantile transform\n",
        "  lm_enc = lm(**encoded_query) # ONLY use the language model\n",
        "  query_embeddings_LM = mean_pooling(lm_enc, encoded_query['attention_mask']) \n",
        "\n",
        "  preds_SBERT = F.softmax(torch.inner(query_embeddings_LM, intents_embeddings_raw), dim=-1).squeeze().detach().cpu().numpy().reshape(-1,1)\n",
        "\n",
        "  preds_CENTROID = F.softmax(torch.inner(query_embeddings_LM, intent_centroids_lm), dim=-1).squeeze().detach().cpu().numpy().reshape(-1,1)\n",
        "\n",
        "  pred_test[ix,:] = np.concatenate([quantile_transform(preds_SNN, n_quantiles = len(intent_set), copy = True), \n",
        "                                    quantile_transform(preds_SBERT, n_quantiles = len(intent_set), copy = True),\n",
        "                                    quantile_transform(preds_CENTROID, n_quantiles = len(intent_set), copy = True)], axis = 0).squeeze()\n",
        "\n",
        "X_test = pred_test\n",
        "y_test = holdout_labels"
      ],
      "execution_count": null,
      "outputs": []
    },
    {
      "cell_type": "code",
      "metadata": {
        "colab": {
          "base_uri": "https://localhost:8080/"
        },
        "id": "cH8IuzXnHi7q",
        "outputId": "404a924d-0743-4dcb-aaea-5d37b4b0a8f2"
      },
      "source": [
        "pred_test_ens = ens_clf.predict(X_test)\n",
        "pred_test_ens_p = ens_clf.predict_proba(X_test)\n",
        "\n",
        "np.sum(pred_test_ens==y_test)/len(y_test)"
      ],
      "execution_count": null,
      "outputs": [
        {
          "output_type": "execute_result",
          "data": {
            "text/plain": [
              "0.8221979820016362"
            ]
          },
          "metadata": {
            "tags": []
          },
          "execution_count": 165
        }
      ]
    },
    {
      "cell_type": "code",
      "metadata": {
        "id": "e-L7J3KWugWk"
      },
      "source": [
        "# look at ensemble output and grab the queries that we're most confident in across each label\n",
        "probs = np.argmax(pred_test_ens_p, axis=1)\n",
        "pseudo_probs = [pred_test_ens_p[i,probs[i]] for i in range(len(probs))]\n",
        "pseudo_labels = pred_test_ens \n",
        "pseudo_df = pd.DataFrame({'query': holdout_queries, 'label':y_test ,'pseudolabel': pseudo_labels, 'prob': pseudo_probs})\n",
        "pseudo_df[\"rank\"] = pseudo_df.groupby(\"pseudolabel\")[\"prob\"].rank(\"dense\", ascending=False)"
      ],
      "execution_count": null,
      "outputs": []
    },
    {
      "cell_type": "code",
      "metadata": {
        "id": "sSa9fYGfL6LD"
      },
      "source": [
        "pseudo_df.to_csv('Pseudo_trainingdata{}.csv'.format(n_samples), index = False)"
      ],
      "execution_count": null,
      "outputs": []
    }
  ]
}