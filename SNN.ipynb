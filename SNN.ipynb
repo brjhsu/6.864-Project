{
  "nbformat": 4,
  "nbformat_minor": 0,
  "metadata": {
    "kernelspec": {
      "display_name": "Python 3",
      "language": "python",
      "name": "python3"
    },
    "language_info": {
      "codemirror_mode": {
        "name": "ipython",
        "version": 3
      },
      "file_extension": ".py",
      "mimetype": "text/x-python",
      "name": "python",
      "nbconvert_exporter": "python",
      "pygments_lexer": "ipython3",
      "version": "3.8.5"
    },
    "colab": {
      "name": "SNN.ipynb",
      "provenance": [],
      "collapsed_sections": [],
      "machine_shape": "hm"
    },
    "widgets": {
      "application/vnd.jupyter.widget-state+json": {
        "e13da36c4f8c497593f216452be25b9e": {
          "model_module": "@jupyter-widgets/controls",
          "model_name": "HBoxModel",
          "state": {
            "_view_name": "HBoxView",
            "_dom_classes": [],
            "_model_name": "HBoxModel",
            "_view_module": "@jupyter-widgets/controls",
            "_model_module_version": "1.5.0",
            "_view_count": null,
            "_view_module_version": "1.5.0",
            "box_style": "",
            "layout": "IPY_MODEL_1f139400e784485f94c0c97d5cf0b055",
            "_model_module": "@jupyter-widgets/controls",
            "children": [
              "IPY_MODEL_3a0ed2d3e68942a485f0bd939b41c81e",
              "IPY_MODEL_987b0e4af5b048d590e1a8d9e15f804f"
            ]
          }
        },
        "1f139400e784485f94c0c97d5cf0b055": {
          "model_module": "@jupyter-widgets/base",
          "model_name": "LayoutModel",
          "state": {
            "_view_name": "LayoutView",
            "grid_template_rows": null,
            "right": null,
            "justify_content": null,
            "_view_module": "@jupyter-widgets/base",
            "overflow": null,
            "_model_module_version": "1.2.0",
            "_view_count": null,
            "flex_flow": null,
            "width": null,
            "min_width": null,
            "border": null,
            "align_items": null,
            "bottom": null,
            "_model_module": "@jupyter-widgets/base",
            "top": null,
            "grid_column": null,
            "overflow_y": null,
            "overflow_x": null,
            "grid_auto_flow": null,
            "grid_area": null,
            "grid_template_columns": null,
            "flex": null,
            "_model_name": "LayoutModel",
            "justify_items": null,
            "grid_row": null,
            "max_height": null,
            "align_content": null,
            "visibility": null,
            "align_self": null,
            "height": null,
            "min_height": null,
            "padding": null,
            "grid_auto_rows": null,
            "grid_gap": null,
            "max_width": null,
            "order": null,
            "_view_module_version": "1.2.0",
            "grid_template_areas": null,
            "object_position": null,
            "object_fit": null,
            "grid_auto_columns": null,
            "margin": null,
            "display": null,
            "left": null
          }
        },
        "3a0ed2d3e68942a485f0bd939b41c81e": {
          "model_module": "@jupyter-widgets/controls",
          "model_name": "FloatProgressModel",
          "state": {
            "_view_name": "ProgressView",
            "style": "IPY_MODEL_53a8ca78581040d7aaf9e241bc4ba4bc",
            "_dom_classes": [],
            "description": "Downloading: ",
            "_model_name": "FloatProgressModel",
            "bar_style": "success",
            "max": 2293,
            "_view_module": "@jupyter-widgets/controls",
            "_model_module_version": "1.5.0",
            "value": 2293,
            "_view_count": null,
            "_view_module_version": "1.5.0",
            "orientation": "horizontal",
            "min": 0,
            "description_tooltip": null,
            "_model_module": "@jupyter-widgets/controls",
            "layout": "IPY_MODEL_ef587e0b06634ad8bb50ebaabc5d7bdb"
          }
        },
        "987b0e4af5b048d590e1a8d9e15f804f": {
          "model_module": "@jupyter-widgets/controls",
          "model_name": "HTMLModel",
          "state": {
            "_view_name": "HTMLView",
            "style": "IPY_MODEL_e52ac2497bf645f4a3d99fc12680d747",
            "_dom_classes": [],
            "description": "",
            "_model_name": "HTMLModel",
            "placeholder": "​",
            "_view_module": "@jupyter-widgets/controls",
            "_model_module_version": "1.5.0",
            "value": " 7.17k/? [00:01&lt;00:00, 5.41kB/s]",
            "_view_count": null,
            "_view_module_version": "1.5.0",
            "description_tooltip": null,
            "_model_module": "@jupyter-widgets/controls",
            "layout": "IPY_MODEL_1280ad97940a463aa9792e6328d8458e"
          }
        },
        "53a8ca78581040d7aaf9e241bc4ba4bc": {
          "model_module": "@jupyter-widgets/controls",
          "model_name": "ProgressStyleModel",
          "state": {
            "_view_name": "StyleView",
            "_model_name": "ProgressStyleModel",
            "description_width": "initial",
            "_view_module": "@jupyter-widgets/base",
            "_model_module_version": "1.5.0",
            "_view_count": null,
            "_view_module_version": "1.2.0",
            "bar_color": null,
            "_model_module": "@jupyter-widgets/controls"
          }
        },
        "ef587e0b06634ad8bb50ebaabc5d7bdb": {
          "model_module": "@jupyter-widgets/base",
          "model_name": "LayoutModel",
          "state": {
            "_view_name": "LayoutView",
            "grid_template_rows": null,
            "right": null,
            "justify_content": null,
            "_view_module": "@jupyter-widgets/base",
            "overflow": null,
            "_model_module_version": "1.2.0",
            "_view_count": null,
            "flex_flow": null,
            "width": null,
            "min_width": null,
            "border": null,
            "align_items": null,
            "bottom": null,
            "_model_module": "@jupyter-widgets/base",
            "top": null,
            "grid_column": null,
            "overflow_y": null,
            "overflow_x": null,
            "grid_auto_flow": null,
            "grid_area": null,
            "grid_template_columns": null,
            "flex": null,
            "_model_name": "LayoutModel",
            "justify_items": null,
            "grid_row": null,
            "max_height": null,
            "align_content": null,
            "visibility": null,
            "align_self": null,
            "height": null,
            "min_height": null,
            "padding": null,
            "grid_auto_rows": null,
            "grid_gap": null,
            "max_width": null,
            "order": null,
            "_view_module_version": "1.2.0",
            "grid_template_areas": null,
            "object_position": null,
            "object_fit": null,
            "grid_auto_columns": null,
            "margin": null,
            "display": null,
            "left": null
          }
        },
        "e52ac2497bf645f4a3d99fc12680d747": {
          "model_module": "@jupyter-widgets/controls",
          "model_name": "DescriptionStyleModel",
          "state": {
            "_view_name": "StyleView",
            "_model_name": "DescriptionStyleModel",
            "description_width": "",
            "_view_module": "@jupyter-widgets/base",
            "_model_module_version": "1.5.0",
            "_view_count": null,
            "_view_module_version": "1.2.0",
            "_model_module": "@jupyter-widgets/controls"
          }
        },
        "1280ad97940a463aa9792e6328d8458e": {
          "model_module": "@jupyter-widgets/base",
          "model_name": "LayoutModel",
          "state": {
            "_view_name": "LayoutView",
            "grid_template_rows": null,
            "right": null,
            "justify_content": null,
            "_view_module": "@jupyter-widgets/base",
            "overflow": null,
            "_model_module_version": "1.2.0",
            "_view_count": null,
            "flex_flow": null,
            "width": null,
            "min_width": null,
            "border": null,
            "align_items": null,
            "bottom": null,
            "_model_module": "@jupyter-widgets/base",
            "top": null,
            "grid_column": null,
            "overflow_y": null,
            "overflow_x": null,
            "grid_auto_flow": null,
            "grid_area": null,
            "grid_template_columns": null,
            "flex": null,
            "_model_name": "LayoutModel",
            "justify_items": null,
            "grid_row": null,
            "max_height": null,
            "align_content": null,
            "visibility": null,
            "align_self": null,
            "height": null,
            "min_height": null,
            "padding": null,
            "grid_auto_rows": null,
            "grid_gap": null,
            "max_width": null,
            "order": null,
            "_view_module_version": "1.2.0",
            "grid_template_areas": null,
            "object_position": null,
            "object_fit": null,
            "grid_auto_columns": null,
            "margin": null,
            "display": null,
            "left": null
          }
        },
        "a1925f2e88354a70b3dce240985901c0": {
          "model_module": "@jupyter-widgets/controls",
          "model_name": "HBoxModel",
          "state": {
            "_view_name": "HBoxView",
            "_dom_classes": [],
            "_model_name": "HBoxModel",
            "_view_module": "@jupyter-widgets/controls",
            "_model_module_version": "1.5.0",
            "_view_count": null,
            "_view_module_version": "1.5.0",
            "box_style": "",
            "layout": "IPY_MODEL_be2b2ec63e124603aadc29fe23abb6eb",
            "_model_module": "@jupyter-widgets/controls",
            "children": [
              "IPY_MODEL_9e00ef595343454d999dbaf937f7c2be",
              "IPY_MODEL_ec4612a0103e490b88eed8fa183a47b2"
            ]
          }
        },
        "be2b2ec63e124603aadc29fe23abb6eb": {
          "model_module": "@jupyter-widgets/base",
          "model_name": "LayoutModel",
          "state": {
            "_view_name": "LayoutView",
            "grid_template_rows": null,
            "right": null,
            "justify_content": null,
            "_view_module": "@jupyter-widgets/base",
            "overflow": null,
            "_model_module_version": "1.2.0",
            "_view_count": null,
            "flex_flow": null,
            "width": null,
            "min_width": null,
            "border": null,
            "align_items": null,
            "bottom": null,
            "_model_module": "@jupyter-widgets/base",
            "top": null,
            "grid_column": null,
            "overflow_y": null,
            "overflow_x": null,
            "grid_auto_flow": null,
            "grid_area": null,
            "grid_template_columns": null,
            "flex": null,
            "_model_name": "LayoutModel",
            "justify_items": null,
            "grid_row": null,
            "max_height": null,
            "align_content": null,
            "visibility": null,
            "align_self": null,
            "height": null,
            "min_height": null,
            "padding": null,
            "grid_auto_rows": null,
            "grid_gap": null,
            "max_width": null,
            "order": null,
            "_view_module_version": "1.2.0",
            "grid_template_areas": null,
            "object_position": null,
            "object_fit": null,
            "grid_auto_columns": null,
            "margin": null,
            "display": null,
            "left": null
          }
        },
        "9e00ef595343454d999dbaf937f7c2be": {
          "model_module": "@jupyter-widgets/controls",
          "model_name": "FloatProgressModel",
          "state": {
            "_view_name": "ProgressView",
            "style": "IPY_MODEL_fe7a57af8d864515bdf1e3d84afdeea8",
            "_dom_classes": [],
            "description": "Downloading: ",
            "_model_name": "FloatProgressModel",
            "bar_style": "success",
            "max": 1664,
            "_view_module": "@jupyter-widgets/controls",
            "_model_module_version": "1.5.0",
            "value": 1664,
            "_view_count": null,
            "_view_module_version": "1.5.0",
            "orientation": "horizontal",
            "min": 0,
            "description_tooltip": null,
            "_model_module": "@jupyter-widgets/controls",
            "layout": "IPY_MODEL_8514800b8dae474e8fed34cf1bfed33d"
          }
        },
        "ec4612a0103e490b88eed8fa183a47b2": {
          "model_module": "@jupyter-widgets/controls",
          "model_name": "HTMLModel",
          "state": {
            "_view_name": "HTMLView",
            "style": "IPY_MODEL_3c2c2fe95de84a28a6c8a44026b8f913",
            "_dom_classes": [],
            "description": "",
            "_model_name": "HTMLModel",
            "placeholder": "​",
            "_view_module": "@jupyter-widgets/controls",
            "_model_module_version": "1.5.0",
            "value": " 3.90k/? [00:00&lt;00:00, 75.2kB/s]",
            "_view_count": null,
            "_view_module_version": "1.5.0",
            "description_tooltip": null,
            "_model_module": "@jupyter-widgets/controls",
            "layout": "IPY_MODEL_affdcf768ea8494fa944469c9e72e43e"
          }
        },
        "fe7a57af8d864515bdf1e3d84afdeea8": {
          "model_module": "@jupyter-widgets/controls",
          "model_name": "ProgressStyleModel",
          "state": {
            "_view_name": "StyleView",
            "_model_name": "ProgressStyleModel",
            "description_width": "initial",
            "_view_module": "@jupyter-widgets/base",
            "_model_module_version": "1.5.0",
            "_view_count": null,
            "_view_module_version": "1.2.0",
            "bar_color": null,
            "_model_module": "@jupyter-widgets/controls"
          }
        },
        "8514800b8dae474e8fed34cf1bfed33d": {
          "model_module": "@jupyter-widgets/base",
          "model_name": "LayoutModel",
          "state": {
            "_view_name": "LayoutView",
            "grid_template_rows": null,
            "right": null,
            "justify_content": null,
            "_view_module": "@jupyter-widgets/base",
            "overflow": null,
            "_model_module_version": "1.2.0",
            "_view_count": null,
            "flex_flow": null,
            "width": null,
            "min_width": null,
            "border": null,
            "align_items": null,
            "bottom": null,
            "_model_module": "@jupyter-widgets/base",
            "top": null,
            "grid_column": null,
            "overflow_y": null,
            "overflow_x": null,
            "grid_auto_flow": null,
            "grid_area": null,
            "grid_template_columns": null,
            "flex": null,
            "_model_name": "LayoutModel",
            "justify_items": null,
            "grid_row": null,
            "max_height": null,
            "align_content": null,
            "visibility": null,
            "align_self": null,
            "height": null,
            "min_height": null,
            "padding": null,
            "grid_auto_rows": null,
            "grid_gap": null,
            "max_width": null,
            "order": null,
            "_view_module_version": "1.2.0",
            "grid_template_areas": null,
            "object_position": null,
            "object_fit": null,
            "grid_auto_columns": null,
            "margin": null,
            "display": null,
            "left": null
          }
        },
        "3c2c2fe95de84a28a6c8a44026b8f913": {
          "model_module": "@jupyter-widgets/controls",
          "model_name": "DescriptionStyleModel",
          "state": {
            "_view_name": "StyleView",
            "_model_name": "DescriptionStyleModel",
            "description_width": "",
            "_view_module": "@jupyter-widgets/base",
            "_model_module_version": "1.5.0",
            "_view_count": null,
            "_view_module_version": "1.2.0",
            "_model_module": "@jupyter-widgets/controls"
          }
        },
        "affdcf768ea8494fa944469c9e72e43e": {
          "model_module": "@jupyter-widgets/base",
          "model_name": "LayoutModel",
          "state": {
            "_view_name": "LayoutView",
            "grid_template_rows": null,
            "right": null,
            "justify_content": null,
            "_view_module": "@jupyter-widgets/base",
            "overflow": null,
            "_model_module_version": "1.2.0",
            "_view_count": null,
            "flex_flow": null,
            "width": null,
            "min_width": null,
            "border": null,
            "align_items": null,
            "bottom": null,
            "_model_module": "@jupyter-widgets/base",
            "top": null,
            "grid_column": null,
            "overflow_y": null,
            "overflow_x": null,
            "grid_auto_flow": null,
            "grid_area": null,
            "grid_template_columns": null,
            "flex": null,
            "_model_name": "LayoutModel",
            "justify_items": null,
            "grid_row": null,
            "max_height": null,
            "align_content": null,
            "visibility": null,
            "align_self": null,
            "height": null,
            "min_height": null,
            "padding": null,
            "grid_auto_rows": null,
            "grid_gap": null,
            "max_width": null,
            "order": null,
            "_view_module_version": "1.2.0",
            "grid_template_areas": null,
            "object_position": null,
            "object_fit": null,
            "grid_auto_columns": null,
            "margin": null,
            "display": null,
            "left": null
          }
        },
        "6a1a8bcebfc747e3894816f0c8aa2291": {
          "model_module": "@jupyter-widgets/controls",
          "model_name": "HBoxModel",
          "state": {
            "_view_name": "HBoxView",
            "_dom_classes": [],
            "_model_name": "HBoxModel",
            "_view_module": "@jupyter-widgets/controls",
            "_model_module_version": "1.5.0",
            "_view_count": null,
            "_view_module_version": "1.5.0",
            "box_style": "",
            "layout": "IPY_MODEL_9376fa473f8143af90843b6de60a0244",
            "_model_module": "@jupyter-widgets/controls",
            "children": [
              "IPY_MODEL_e5a927ab4ab44b7a9e0d820d369202a7",
              "IPY_MODEL_90b12e77bf8a4f23a2a160cab146cb37"
            ]
          }
        },
        "9376fa473f8143af90843b6de60a0244": {
          "model_module": "@jupyter-widgets/base",
          "model_name": "LayoutModel",
          "state": {
            "_view_name": "LayoutView",
            "grid_template_rows": null,
            "right": null,
            "justify_content": null,
            "_view_module": "@jupyter-widgets/base",
            "overflow": null,
            "_model_module_version": "1.2.0",
            "_view_count": null,
            "flex_flow": null,
            "width": null,
            "min_width": null,
            "border": null,
            "align_items": null,
            "bottom": null,
            "_model_module": "@jupyter-widgets/base",
            "top": null,
            "grid_column": null,
            "overflow_y": null,
            "overflow_x": null,
            "grid_auto_flow": null,
            "grid_area": null,
            "grid_template_columns": null,
            "flex": null,
            "_model_name": "LayoutModel",
            "justify_items": null,
            "grid_row": null,
            "max_height": null,
            "align_content": null,
            "visibility": null,
            "align_self": null,
            "height": null,
            "min_height": null,
            "padding": null,
            "grid_auto_rows": null,
            "grid_gap": null,
            "max_width": null,
            "order": null,
            "_view_module_version": "1.2.0",
            "grid_template_areas": null,
            "object_position": null,
            "object_fit": null,
            "grid_auto_columns": null,
            "margin": null,
            "display": null,
            "left": null
          }
        },
        "e5a927ab4ab44b7a9e0d820d369202a7": {
          "model_module": "@jupyter-widgets/controls",
          "model_name": "FloatProgressModel",
          "state": {
            "_view_name": "ProgressView",
            "style": "IPY_MODEL_d3a30444a0794f4a989b9889bfed84f9",
            "_dom_classes": [],
            "description": "Downloading: ",
            "_model_name": "FloatProgressModel",
            "bar_style": "success",
            "max": 158363,
            "_view_module": "@jupyter-widgets/controls",
            "_model_module_version": "1.5.0",
            "value": 158363,
            "_view_count": null,
            "_view_module_version": "1.5.0",
            "orientation": "horizontal",
            "min": 0,
            "description_tooltip": null,
            "_model_module": "@jupyter-widgets/controls",
            "layout": "IPY_MODEL_484c6dae53524963abe92e00e6b1ba64"
          }
        },
        "90b12e77bf8a4f23a2a160cab146cb37": {
          "model_module": "@jupyter-widgets/controls",
          "model_name": "HTMLModel",
          "state": {
            "_view_name": "HTMLView",
            "style": "IPY_MODEL_d4c6b89104a74ccf895d60aae3d68f3f",
            "_dom_classes": [],
            "description": "",
            "_model_name": "HTMLModel",
            "placeholder": "​",
            "_view_module": "@jupyter-widgets/controls",
            "_model_module_version": "1.5.0",
            "value": " 839k/? [00:00&lt;00:00, 3.02MB/s]",
            "_view_count": null,
            "_view_module_version": "1.5.0",
            "description_tooltip": null,
            "_model_module": "@jupyter-widgets/controls",
            "layout": "IPY_MODEL_8b5913db905d4b3caf40d94cce559544"
          }
        },
        "d3a30444a0794f4a989b9889bfed84f9": {
          "model_module": "@jupyter-widgets/controls",
          "model_name": "ProgressStyleModel",
          "state": {
            "_view_name": "StyleView",
            "_model_name": "ProgressStyleModel",
            "description_width": "initial",
            "_view_module": "@jupyter-widgets/base",
            "_model_module_version": "1.5.0",
            "_view_count": null,
            "_view_module_version": "1.2.0",
            "bar_color": null,
            "_model_module": "@jupyter-widgets/controls"
          }
        },
        "484c6dae53524963abe92e00e6b1ba64": {
          "model_module": "@jupyter-widgets/base",
          "model_name": "LayoutModel",
          "state": {
            "_view_name": "LayoutView",
            "grid_template_rows": null,
            "right": null,
            "justify_content": null,
            "_view_module": "@jupyter-widgets/base",
            "overflow": null,
            "_model_module_version": "1.2.0",
            "_view_count": null,
            "flex_flow": null,
            "width": null,
            "min_width": null,
            "border": null,
            "align_items": null,
            "bottom": null,
            "_model_module": "@jupyter-widgets/base",
            "top": null,
            "grid_column": null,
            "overflow_y": null,
            "overflow_x": null,
            "grid_auto_flow": null,
            "grid_area": null,
            "grid_template_columns": null,
            "flex": null,
            "_model_name": "LayoutModel",
            "justify_items": null,
            "grid_row": null,
            "max_height": null,
            "align_content": null,
            "visibility": null,
            "align_self": null,
            "height": null,
            "min_height": null,
            "padding": null,
            "grid_auto_rows": null,
            "grid_gap": null,
            "max_width": null,
            "order": null,
            "_view_module_version": "1.2.0",
            "grid_template_areas": null,
            "object_position": null,
            "object_fit": null,
            "grid_auto_columns": null,
            "margin": null,
            "display": null,
            "left": null
          }
        },
        "d4c6b89104a74ccf895d60aae3d68f3f": {
          "model_module": "@jupyter-widgets/controls",
          "model_name": "DescriptionStyleModel",
          "state": {
            "_view_name": "StyleView",
            "_model_name": "DescriptionStyleModel",
            "description_width": "",
            "_view_module": "@jupyter-widgets/base",
            "_model_module_version": "1.5.0",
            "_view_count": null,
            "_view_module_version": "1.2.0",
            "_model_module": "@jupyter-widgets/controls"
          }
        },
        "8b5913db905d4b3caf40d94cce559544": {
          "model_module": "@jupyter-widgets/base",
          "model_name": "LayoutModel",
          "state": {
            "_view_name": "LayoutView",
            "grid_template_rows": null,
            "right": null,
            "justify_content": null,
            "_view_module": "@jupyter-widgets/base",
            "overflow": null,
            "_model_module_version": "1.2.0",
            "_view_count": null,
            "flex_flow": null,
            "width": null,
            "min_width": null,
            "border": null,
            "align_items": null,
            "bottom": null,
            "_model_module": "@jupyter-widgets/base",
            "top": null,
            "grid_column": null,
            "overflow_y": null,
            "overflow_x": null,
            "grid_auto_flow": null,
            "grid_area": null,
            "grid_template_columns": null,
            "flex": null,
            "_model_name": "LayoutModel",
            "justify_items": null,
            "grid_row": null,
            "max_height": null,
            "align_content": null,
            "visibility": null,
            "align_self": null,
            "height": null,
            "min_height": null,
            "padding": null,
            "grid_auto_rows": null,
            "grid_gap": null,
            "max_width": null,
            "order": null,
            "_view_module_version": "1.2.0",
            "grid_template_areas": null,
            "object_position": null,
            "object_fit": null,
            "grid_auto_columns": null,
            "margin": null,
            "display": null,
            "left": null
          }
        },
        "bd8e8621a156460f81b1ace8f1ce4e92": {
          "model_module": "@jupyter-widgets/controls",
          "model_name": "HBoxModel",
          "state": {
            "_view_name": "HBoxView",
            "_dom_classes": [],
            "_model_name": "HBoxModel",
            "_view_module": "@jupyter-widgets/controls",
            "_model_module_version": "1.5.0",
            "_view_count": null,
            "_view_module_version": "1.5.0",
            "box_style": "",
            "layout": "IPY_MODEL_e74157b68e744c41b3bf7b9effbcdccd",
            "_model_module": "@jupyter-widgets/controls",
            "children": [
              "IPY_MODEL_000233a36d974d0594fa14adef0813cf",
              "IPY_MODEL_3429bc9c444544b6ab277bcd24692e9e"
            ]
          }
        },
        "e74157b68e744c41b3bf7b9effbcdccd": {
          "model_module": "@jupyter-widgets/base",
          "model_name": "LayoutModel",
          "state": {
            "_view_name": "LayoutView",
            "grid_template_rows": null,
            "right": null,
            "justify_content": null,
            "_view_module": "@jupyter-widgets/base",
            "overflow": null,
            "_model_module_version": "1.2.0",
            "_view_count": null,
            "flex_flow": null,
            "width": null,
            "min_width": null,
            "border": null,
            "align_items": null,
            "bottom": null,
            "_model_module": "@jupyter-widgets/base",
            "top": null,
            "grid_column": null,
            "overflow_y": null,
            "overflow_x": null,
            "grid_auto_flow": null,
            "grid_area": null,
            "grid_template_columns": null,
            "flex": null,
            "_model_name": "LayoutModel",
            "justify_items": null,
            "grid_row": null,
            "max_height": null,
            "align_content": null,
            "visibility": null,
            "align_self": null,
            "height": null,
            "min_height": null,
            "padding": null,
            "grid_auto_rows": null,
            "grid_gap": null,
            "max_width": null,
            "order": null,
            "_view_module_version": "1.2.0",
            "grid_template_areas": null,
            "object_position": null,
            "object_fit": null,
            "grid_auto_columns": null,
            "margin": null,
            "display": null,
            "left": null
          }
        },
        "000233a36d974d0594fa14adef0813cf": {
          "model_module": "@jupyter-widgets/controls",
          "model_name": "FloatProgressModel",
          "state": {
            "_view_name": "ProgressView",
            "style": "IPY_MODEL_01fcba083bc04bf89f7485d19cc8c728",
            "_dom_classes": [],
            "description": "Downloading: ",
            "_model_name": "FloatProgressModel",
            "bar_style": "success",
            "max": 51140,
            "_view_module": "@jupyter-widgets/controls",
            "_model_module_version": "1.5.0",
            "value": 51140,
            "_view_count": null,
            "_view_module_version": "1.5.0",
            "orientation": "horizontal",
            "min": 0,
            "description_tooltip": null,
            "_model_module": "@jupyter-widgets/controls",
            "layout": "IPY_MODEL_580bce1db868467798e76d36f8b8415c"
          }
        },
        "3429bc9c444544b6ab277bcd24692e9e": {
          "model_module": "@jupyter-widgets/controls",
          "model_name": "HTMLModel",
          "state": {
            "_view_name": "HTMLView",
            "style": "IPY_MODEL_fe2237fd3909451fa94a03642f538eb1",
            "_dom_classes": [],
            "description": "",
            "_model_name": "HTMLModel",
            "placeholder": "​",
            "_view_module": "@jupyter-widgets/controls",
            "_model_module_version": "1.5.0",
            "value": " 240k/? [00:00&lt;00:00, 925kB/s]",
            "_view_count": null,
            "_view_module_version": "1.5.0",
            "description_tooltip": null,
            "_model_module": "@jupyter-widgets/controls",
            "layout": "IPY_MODEL_2ce543a95ffd4dee8c593cdd6344795d"
          }
        },
        "01fcba083bc04bf89f7485d19cc8c728": {
          "model_module": "@jupyter-widgets/controls",
          "model_name": "ProgressStyleModel",
          "state": {
            "_view_name": "StyleView",
            "_model_name": "ProgressStyleModel",
            "description_width": "initial",
            "_view_module": "@jupyter-widgets/base",
            "_model_module_version": "1.5.0",
            "_view_count": null,
            "_view_module_version": "1.2.0",
            "bar_color": null,
            "_model_module": "@jupyter-widgets/controls"
          }
        },
        "580bce1db868467798e76d36f8b8415c": {
          "model_module": "@jupyter-widgets/base",
          "model_name": "LayoutModel",
          "state": {
            "_view_name": "LayoutView",
            "grid_template_rows": null,
            "right": null,
            "justify_content": null,
            "_view_module": "@jupyter-widgets/base",
            "overflow": null,
            "_model_module_version": "1.2.0",
            "_view_count": null,
            "flex_flow": null,
            "width": null,
            "min_width": null,
            "border": null,
            "align_items": null,
            "bottom": null,
            "_model_module": "@jupyter-widgets/base",
            "top": null,
            "grid_column": null,
            "overflow_y": null,
            "overflow_x": null,
            "grid_auto_flow": null,
            "grid_area": null,
            "grid_template_columns": null,
            "flex": null,
            "_model_name": "LayoutModel",
            "justify_items": null,
            "grid_row": null,
            "max_height": null,
            "align_content": null,
            "visibility": null,
            "align_self": null,
            "height": null,
            "min_height": null,
            "padding": null,
            "grid_auto_rows": null,
            "grid_gap": null,
            "max_width": null,
            "order": null,
            "_view_module_version": "1.2.0",
            "grid_template_areas": null,
            "object_position": null,
            "object_fit": null,
            "grid_auto_columns": null,
            "margin": null,
            "display": null,
            "left": null
          }
        },
        "fe2237fd3909451fa94a03642f538eb1": {
          "model_module": "@jupyter-widgets/controls",
          "model_name": "DescriptionStyleModel",
          "state": {
            "_view_name": "StyleView",
            "_model_name": "DescriptionStyleModel",
            "description_width": "",
            "_view_module": "@jupyter-widgets/base",
            "_model_module_version": "1.5.0",
            "_view_count": null,
            "_view_module_version": "1.2.0",
            "_model_module": "@jupyter-widgets/controls"
          }
        },
        "2ce543a95ffd4dee8c593cdd6344795d": {
          "model_module": "@jupyter-widgets/base",
          "model_name": "LayoutModel",
          "state": {
            "_view_name": "LayoutView",
            "grid_template_rows": null,
            "right": null,
            "justify_content": null,
            "_view_module": "@jupyter-widgets/base",
            "overflow": null,
            "_model_module_version": "1.2.0",
            "_view_count": null,
            "flex_flow": null,
            "width": null,
            "min_width": null,
            "border": null,
            "align_items": null,
            "bottom": null,
            "_model_module": "@jupyter-widgets/base",
            "top": null,
            "grid_column": null,
            "overflow_y": null,
            "overflow_x": null,
            "grid_auto_flow": null,
            "grid_area": null,
            "grid_template_columns": null,
            "flex": null,
            "_model_name": "LayoutModel",
            "justify_items": null,
            "grid_row": null,
            "max_height": null,
            "align_content": null,
            "visibility": null,
            "align_self": null,
            "height": null,
            "min_height": null,
            "padding": null,
            "grid_auto_rows": null,
            "grid_gap": null,
            "max_width": null,
            "order": null,
            "_view_module_version": "1.2.0",
            "grid_template_areas": null,
            "object_position": null,
            "object_fit": null,
            "grid_auto_columns": null,
            "margin": null,
            "display": null,
            "left": null
          }
        },
        "1e97f50861c64ea88b089efa0243aa29": {
          "model_module": "@jupyter-widgets/controls",
          "model_name": "HBoxModel",
          "state": {
            "_view_name": "HBoxView",
            "_dom_classes": [],
            "_model_name": "HBoxModel",
            "_view_module": "@jupyter-widgets/controls",
            "_model_module_version": "1.5.0",
            "_view_count": null,
            "_view_module_version": "1.5.0",
            "box_style": "",
            "layout": "IPY_MODEL_23d8a54b928046419a099947d58efb50",
            "_model_module": "@jupyter-widgets/controls",
            "children": [
              "IPY_MODEL_73afb918dd0e4090bae490208922a644",
              "IPY_MODEL_4ac7d9379cb9400aa2d19a0a851bda31"
            ]
          }
        },
        "23d8a54b928046419a099947d58efb50": {
          "model_module": "@jupyter-widgets/base",
          "model_name": "LayoutModel",
          "state": {
            "_view_name": "LayoutView",
            "grid_template_rows": null,
            "right": null,
            "justify_content": null,
            "_view_module": "@jupyter-widgets/base",
            "overflow": null,
            "_model_module_version": "1.2.0",
            "_view_count": null,
            "flex_flow": null,
            "width": null,
            "min_width": null,
            "border": null,
            "align_items": null,
            "bottom": null,
            "_model_module": "@jupyter-widgets/base",
            "top": null,
            "grid_column": null,
            "overflow_y": null,
            "overflow_x": null,
            "grid_auto_flow": null,
            "grid_area": null,
            "grid_template_columns": null,
            "flex": null,
            "_model_name": "LayoutModel",
            "justify_items": null,
            "grid_row": null,
            "max_height": null,
            "align_content": null,
            "visibility": null,
            "align_self": null,
            "height": null,
            "min_height": null,
            "padding": null,
            "grid_auto_rows": null,
            "grid_gap": null,
            "max_width": null,
            "order": null,
            "_view_module_version": "1.2.0",
            "grid_template_areas": null,
            "object_position": null,
            "object_fit": null,
            "grid_auto_columns": null,
            "margin": null,
            "display": null,
            "left": null
          }
        },
        "73afb918dd0e4090bae490208922a644": {
          "model_module": "@jupyter-widgets/controls",
          "model_name": "FloatProgressModel",
          "state": {
            "_view_name": "ProgressView",
            "style": "IPY_MODEL_2246e94a3e6f4fcd961cf21a56e7c30c",
            "_dom_classes": [],
            "description": "",
            "_model_name": "FloatProgressModel",
            "bar_style": "info",
            "max": 1,
            "_view_module": "@jupyter-widgets/controls",
            "_model_module_version": "1.5.0",
            "value": 1,
            "_view_count": null,
            "_view_module_version": "1.5.0",
            "orientation": "horizontal",
            "min": 0,
            "description_tooltip": null,
            "_model_module": "@jupyter-widgets/controls",
            "layout": "IPY_MODEL_c299afe94fff489c8ff6b3d1e1c71213"
          }
        },
        "4ac7d9379cb9400aa2d19a0a851bda31": {
          "model_module": "@jupyter-widgets/controls",
          "model_name": "HTMLModel",
          "state": {
            "_view_name": "HTMLView",
            "style": "IPY_MODEL_5e9d3a29da8e4c6dbc8e9e193b13dc58",
            "_dom_classes": [],
            "description": "",
            "_model_name": "HTMLModel",
            "placeholder": "​",
            "_view_module": "@jupyter-widgets/controls",
            "_model_module_version": "1.5.0",
            "value": " 10003/0 [00:03&lt;00:00,  2.46s/ examples]",
            "_view_count": null,
            "_view_module_version": "1.5.0",
            "description_tooltip": null,
            "_model_module": "@jupyter-widgets/controls",
            "layout": "IPY_MODEL_0167f66e025b4c668403efe7debaedb7"
          }
        },
        "2246e94a3e6f4fcd961cf21a56e7c30c": {
          "model_module": "@jupyter-widgets/controls",
          "model_name": "ProgressStyleModel",
          "state": {
            "_view_name": "StyleView",
            "_model_name": "ProgressStyleModel",
            "description_width": "initial",
            "_view_module": "@jupyter-widgets/base",
            "_model_module_version": "1.5.0",
            "_view_count": null,
            "_view_module_version": "1.2.0",
            "bar_color": null,
            "_model_module": "@jupyter-widgets/controls"
          }
        },
        "c299afe94fff489c8ff6b3d1e1c71213": {
          "model_module": "@jupyter-widgets/base",
          "model_name": "LayoutModel",
          "state": {
            "_view_name": "LayoutView",
            "grid_template_rows": null,
            "right": null,
            "justify_content": null,
            "_view_module": "@jupyter-widgets/base",
            "overflow": null,
            "_model_module_version": "1.2.0",
            "_view_count": null,
            "flex_flow": null,
            "width": null,
            "min_width": null,
            "border": null,
            "align_items": null,
            "bottom": null,
            "_model_module": "@jupyter-widgets/base",
            "top": null,
            "grid_column": null,
            "overflow_y": null,
            "overflow_x": null,
            "grid_auto_flow": null,
            "grid_area": null,
            "grid_template_columns": null,
            "flex": null,
            "_model_name": "LayoutModel",
            "justify_items": null,
            "grid_row": null,
            "max_height": null,
            "align_content": null,
            "visibility": null,
            "align_self": null,
            "height": null,
            "min_height": null,
            "padding": null,
            "grid_auto_rows": null,
            "grid_gap": null,
            "max_width": null,
            "order": null,
            "_view_module_version": "1.2.0",
            "grid_template_areas": null,
            "object_position": null,
            "object_fit": null,
            "grid_auto_columns": null,
            "margin": null,
            "display": null,
            "left": null
          }
        },
        "5e9d3a29da8e4c6dbc8e9e193b13dc58": {
          "model_module": "@jupyter-widgets/controls",
          "model_name": "DescriptionStyleModel",
          "state": {
            "_view_name": "StyleView",
            "_model_name": "DescriptionStyleModel",
            "description_width": "",
            "_view_module": "@jupyter-widgets/base",
            "_model_module_version": "1.5.0",
            "_view_count": null,
            "_view_module_version": "1.2.0",
            "_model_module": "@jupyter-widgets/controls"
          }
        },
        "0167f66e025b4c668403efe7debaedb7": {
          "model_module": "@jupyter-widgets/base",
          "model_name": "LayoutModel",
          "state": {
            "_view_name": "LayoutView",
            "grid_template_rows": null,
            "right": null,
            "justify_content": null,
            "_view_module": "@jupyter-widgets/base",
            "overflow": null,
            "_model_module_version": "1.2.0",
            "_view_count": null,
            "flex_flow": null,
            "width": null,
            "min_width": null,
            "border": null,
            "align_items": null,
            "bottom": null,
            "_model_module": "@jupyter-widgets/base",
            "top": null,
            "grid_column": null,
            "overflow_y": null,
            "overflow_x": null,
            "grid_auto_flow": null,
            "grid_area": null,
            "grid_template_columns": null,
            "flex": null,
            "_model_name": "LayoutModel",
            "justify_items": null,
            "grid_row": null,
            "max_height": null,
            "align_content": null,
            "visibility": null,
            "align_self": null,
            "height": null,
            "min_height": null,
            "padding": null,
            "grid_auto_rows": null,
            "grid_gap": null,
            "max_width": null,
            "order": null,
            "_view_module_version": "1.2.0",
            "grid_template_areas": null,
            "object_position": null,
            "object_fit": null,
            "grid_auto_columns": null,
            "margin": null,
            "display": null,
            "left": null
          }
        },
        "36d54e990f514e3aa9e4defef04658b5": {
          "model_module": "@jupyter-widgets/controls",
          "model_name": "HBoxModel",
          "state": {
            "_view_name": "HBoxView",
            "_dom_classes": [],
            "_model_name": "HBoxModel",
            "_view_module": "@jupyter-widgets/controls",
            "_model_module_version": "1.5.0",
            "_view_count": null,
            "_view_module_version": "1.5.0",
            "box_style": "",
            "layout": "IPY_MODEL_36a2e08101ec48f78737fe30014ed3f2",
            "_model_module": "@jupyter-widgets/controls",
            "children": [
              "IPY_MODEL_d9ef2e3f2bcc4968b5d8676d3639be5e",
              "IPY_MODEL_2485faf72c884d88bcfe0ef5403494b1"
            ]
          }
        },
        "36a2e08101ec48f78737fe30014ed3f2": {
          "model_module": "@jupyter-widgets/base",
          "model_name": "LayoutModel",
          "state": {
            "_view_name": "LayoutView",
            "grid_template_rows": null,
            "right": null,
            "justify_content": null,
            "_view_module": "@jupyter-widgets/base",
            "overflow": null,
            "_model_module_version": "1.2.0",
            "_view_count": null,
            "flex_flow": null,
            "width": null,
            "min_width": null,
            "border": null,
            "align_items": null,
            "bottom": null,
            "_model_module": "@jupyter-widgets/base",
            "top": null,
            "grid_column": null,
            "overflow_y": null,
            "overflow_x": null,
            "grid_auto_flow": null,
            "grid_area": null,
            "grid_template_columns": null,
            "flex": null,
            "_model_name": "LayoutModel",
            "justify_items": null,
            "grid_row": null,
            "max_height": null,
            "align_content": null,
            "visibility": null,
            "align_self": null,
            "height": null,
            "min_height": null,
            "padding": null,
            "grid_auto_rows": null,
            "grid_gap": null,
            "max_width": null,
            "order": null,
            "_view_module_version": "1.2.0",
            "grid_template_areas": null,
            "object_position": null,
            "object_fit": null,
            "grid_auto_columns": null,
            "margin": null,
            "display": null,
            "left": null
          }
        },
        "d9ef2e3f2bcc4968b5d8676d3639be5e": {
          "model_module": "@jupyter-widgets/controls",
          "model_name": "FloatProgressModel",
          "state": {
            "_view_name": "ProgressView",
            "style": "IPY_MODEL_3683dbb3054349f4874563cb97165e4d",
            "_dom_classes": [],
            "description": "",
            "_model_name": "FloatProgressModel",
            "bar_style": "info",
            "max": 1,
            "_view_module": "@jupyter-widgets/controls",
            "_model_module_version": "1.5.0",
            "value": 1,
            "_view_count": null,
            "_view_module_version": "1.5.0",
            "orientation": "horizontal",
            "min": 0,
            "description_tooltip": null,
            "_model_module": "@jupyter-widgets/controls",
            "layout": "IPY_MODEL_d271985def174550bf33a9825b22b97a"
          }
        },
        "2485faf72c884d88bcfe0ef5403494b1": {
          "model_module": "@jupyter-widgets/controls",
          "model_name": "HTMLModel",
          "state": {
            "_view_name": "HTMLView",
            "style": "IPY_MODEL_2ece55d982744024aeede46105bd58e0",
            "_dom_classes": [],
            "description": "",
            "_model_name": "HTMLModel",
            "placeholder": "​",
            "_view_module": "@jupyter-widgets/controls",
            "_model_module_version": "1.5.0",
            "value": " 3080/0 [00:00&lt;00:00, 41861.76 examples/s]",
            "_view_count": null,
            "_view_module_version": "1.5.0",
            "description_tooltip": null,
            "_model_module": "@jupyter-widgets/controls",
            "layout": "IPY_MODEL_2ccbb085f321422ca8aa35f0c6a3a275"
          }
        },
        "3683dbb3054349f4874563cb97165e4d": {
          "model_module": "@jupyter-widgets/controls",
          "model_name": "ProgressStyleModel",
          "state": {
            "_view_name": "StyleView",
            "_model_name": "ProgressStyleModel",
            "description_width": "initial",
            "_view_module": "@jupyter-widgets/base",
            "_model_module_version": "1.5.0",
            "_view_count": null,
            "_view_module_version": "1.2.0",
            "bar_color": null,
            "_model_module": "@jupyter-widgets/controls"
          }
        },
        "d271985def174550bf33a9825b22b97a": {
          "model_module": "@jupyter-widgets/base",
          "model_name": "LayoutModel",
          "state": {
            "_view_name": "LayoutView",
            "grid_template_rows": null,
            "right": null,
            "justify_content": null,
            "_view_module": "@jupyter-widgets/base",
            "overflow": null,
            "_model_module_version": "1.2.0",
            "_view_count": null,
            "flex_flow": null,
            "width": null,
            "min_width": null,
            "border": null,
            "align_items": null,
            "bottom": null,
            "_model_module": "@jupyter-widgets/base",
            "top": null,
            "grid_column": null,
            "overflow_y": null,
            "overflow_x": null,
            "grid_auto_flow": null,
            "grid_area": null,
            "grid_template_columns": null,
            "flex": null,
            "_model_name": "LayoutModel",
            "justify_items": null,
            "grid_row": null,
            "max_height": null,
            "align_content": null,
            "visibility": null,
            "align_self": null,
            "height": null,
            "min_height": null,
            "padding": null,
            "grid_auto_rows": null,
            "grid_gap": null,
            "max_width": null,
            "order": null,
            "_view_module_version": "1.2.0",
            "grid_template_areas": null,
            "object_position": null,
            "object_fit": null,
            "grid_auto_columns": null,
            "margin": null,
            "display": null,
            "left": null
          }
        },
        "2ece55d982744024aeede46105bd58e0": {
          "model_module": "@jupyter-widgets/controls",
          "model_name": "DescriptionStyleModel",
          "state": {
            "_view_name": "StyleView",
            "_model_name": "DescriptionStyleModel",
            "description_width": "",
            "_view_module": "@jupyter-widgets/base",
            "_model_module_version": "1.5.0",
            "_view_count": null,
            "_view_module_version": "1.2.0",
            "_model_module": "@jupyter-widgets/controls"
          }
        },
        "2ccbb085f321422ca8aa35f0c6a3a275": {
          "model_module": "@jupyter-widgets/base",
          "model_name": "LayoutModel",
          "state": {
            "_view_name": "LayoutView",
            "grid_template_rows": null,
            "right": null,
            "justify_content": null,
            "_view_module": "@jupyter-widgets/base",
            "overflow": null,
            "_model_module_version": "1.2.0",
            "_view_count": null,
            "flex_flow": null,
            "width": null,
            "min_width": null,
            "border": null,
            "align_items": null,
            "bottom": null,
            "_model_module": "@jupyter-widgets/base",
            "top": null,
            "grid_column": null,
            "overflow_y": null,
            "overflow_x": null,
            "grid_auto_flow": null,
            "grid_area": null,
            "grid_template_columns": null,
            "flex": null,
            "_model_name": "LayoutModel",
            "justify_items": null,
            "grid_row": null,
            "max_height": null,
            "align_content": null,
            "visibility": null,
            "align_self": null,
            "height": null,
            "min_height": null,
            "padding": null,
            "grid_auto_rows": null,
            "grid_gap": null,
            "max_width": null,
            "order": null,
            "_view_module_version": "1.2.0",
            "grid_template_areas": null,
            "object_position": null,
            "object_fit": null,
            "grid_auto_columns": null,
            "margin": null,
            "display": null,
            "left": null
          }
        },
        "5c48783e7d9648359106e928110e3c20": {
          "model_module": "@jupyter-widgets/controls",
          "model_name": "HBoxModel",
          "state": {
            "_view_name": "HBoxView",
            "_dom_classes": [],
            "_model_name": "HBoxModel",
            "_view_module": "@jupyter-widgets/controls",
            "_model_module_version": "1.5.0",
            "_view_count": null,
            "_view_module_version": "1.5.0",
            "box_style": "",
            "layout": "IPY_MODEL_e2d477a0cd5c423bbb1614ee8063a256",
            "_model_module": "@jupyter-widgets/controls",
            "children": [
              "IPY_MODEL_da49446807314ac68089588dbc284b3a",
              "IPY_MODEL_c2fc3161ae3a406191d98bd1fe23e5f2"
            ]
          }
        },
        "e2d477a0cd5c423bbb1614ee8063a256": {
          "model_module": "@jupyter-widgets/base",
          "model_name": "LayoutModel",
          "state": {
            "_view_name": "LayoutView",
            "grid_template_rows": null,
            "right": null,
            "justify_content": null,
            "_view_module": "@jupyter-widgets/base",
            "overflow": null,
            "_model_module_version": "1.2.0",
            "_view_count": null,
            "flex_flow": null,
            "width": null,
            "min_width": null,
            "border": null,
            "align_items": null,
            "bottom": null,
            "_model_module": "@jupyter-widgets/base",
            "top": null,
            "grid_column": null,
            "overflow_y": null,
            "overflow_x": null,
            "grid_auto_flow": null,
            "grid_area": null,
            "grid_template_columns": null,
            "flex": null,
            "_model_name": "LayoutModel",
            "justify_items": null,
            "grid_row": null,
            "max_height": null,
            "align_content": null,
            "visibility": null,
            "align_self": null,
            "height": null,
            "min_height": null,
            "padding": null,
            "grid_auto_rows": null,
            "grid_gap": null,
            "max_width": null,
            "order": null,
            "_view_module_version": "1.2.0",
            "grid_template_areas": null,
            "object_position": null,
            "object_fit": null,
            "grid_auto_columns": null,
            "margin": null,
            "display": null,
            "left": null
          }
        },
        "da49446807314ac68089588dbc284b3a": {
          "model_module": "@jupyter-widgets/controls",
          "model_name": "FloatProgressModel",
          "state": {
            "_view_name": "ProgressView",
            "style": "IPY_MODEL_da7f303e09ac45e5800dcc0867d5afe3",
            "_dom_classes": [],
            "description": "100%",
            "_model_name": "FloatProgressModel",
            "bar_style": "success",
            "max": 11,
            "_view_module": "@jupyter-widgets/controls",
            "_model_module_version": "1.5.0",
            "value": 11,
            "_view_count": null,
            "_view_module_version": "1.5.0",
            "orientation": "horizontal",
            "min": 0,
            "description_tooltip": null,
            "_model_module": "@jupyter-widgets/controls",
            "layout": "IPY_MODEL_0e2335d51d3d42a0b6189397d44404aa"
          }
        },
        "c2fc3161ae3a406191d98bd1fe23e5f2": {
          "model_module": "@jupyter-widgets/controls",
          "model_name": "HTMLModel",
          "state": {
            "_view_name": "HTMLView",
            "style": "IPY_MODEL_273e557e46284ed18a124c842fb393a9",
            "_dom_classes": [],
            "description": "",
            "_model_name": "HTMLModel",
            "placeholder": "​",
            "_view_module": "@jupyter-widgets/controls",
            "_model_module_version": "1.5.0",
            "value": " 11/11 [00:00&lt;00:00, 28.00ba/s]",
            "_view_count": null,
            "_view_module_version": "1.5.0",
            "description_tooltip": null,
            "_model_module": "@jupyter-widgets/controls",
            "layout": "IPY_MODEL_32fa5e51279e4b918a80f2c617f2d3f9"
          }
        },
        "da7f303e09ac45e5800dcc0867d5afe3": {
          "model_module": "@jupyter-widgets/controls",
          "model_name": "ProgressStyleModel",
          "state": {
            "_view_name": "StyleView",
            "_model_name": "ProgressStyleModel",
            "description_width": "initial",
            "_view_module": "@jupyter-widgets/base",
            "_model_module_version": "1.5.0",
            "_view_count": null,
            "_view_module_version": "1.2.0",
            "bar_color": null,
            "_model_module": "@jupyter-widgets/controls"
          }
        },
        "0e2335d51d3d42a0b6189397d44404aa": {
          "model_module": "@jupyter-widgets/base",
          "model_name": "LayoutModel",
          "state": {
            "_view_name": "LayoutView",
            "grid_template_rows": null,
            "right": null,
            "justify_content": null,
            "_view_module": "@jupyter-widgets/base",
            "overflow": null,
            "_model_module_version": "1.2.0",
            "_view_count": null,
            "flex_flow": null,
            "width": null,
            "min_width": null,
            "border": null,
            "align_items": null,
            "bottom": null,
            "_model_module": "@jupyter-widgets/base",
            "top": null,
            "grid_column": null,
            "overflow_y": null,
            "overflow_x": null,
            "grid_auto_flow": null,
            "grid_area": null,
            "grid_template_columns": null,
            "flex": null,
            "_model_name": "LayoutModel",
            "justify_items": null,
            "grid_row": null,
            "max_height": null,
            "align_content": null,
            "visibility": null,
            "align_self": null,
            "height": null,
            "min_height": null,
            "padding": null,
            "grid_auto_rows": null,
            "grid_gap": null,
            "max_width": null,
            "order": null,
            "_view_module_version": "1.2.0",
            "grid_template_areas": null,
            "object_position": null,
            "object_fit": null,
            "grid_auto_columns": null,
            "margin": null,
            "display": null,
            "left": null
          }
        },
        "273e557e46284ed18a124c842fb393a9": {
          "model_module": "@jupyter-widgets/controls",
          "model_name": "DescriptionStyleModel",
          "state": {
            "_view_name": "StyleView",
            "_model_name": "DescriptionStyleModel",
            "description_width": "",
            "_view_module": "@jupyter-widgets/base",
            "_model_module_version": "1.5.0",
            "_view_count": null,
            "_view_module_version": "1.2.0",
            "_model_module": "@jupyter-widgets/controls"
          }
        },
        "32fa5e51279e4b918a80f2c617f2d3f9": {
          "model_module": "@jupyter-widgets/base",
          "model_name": "LayoutModel",
          "state": {
            "_view_name": "LayoutView",
            "grid_template_rows": null,
            "right": null,
            "justify_content": null,
            "_view_module": "@jupyter-widgets/base",
            "overflow": null,
            "_model_module_version": "1.2.0",
            "_view_count": null,
            "flex_flow": null,
            "width": null,
            "min_width": null,
            "border": null,
            "align_items": null,
            "bottom": null,
            "_model_module": "@jupyter-widgets/base",
            "top": null,
            "grid_column": null,
            "overflow_y": null,
            "overflow_x": null,
            "grid_auto_flow": null,
            "grid_area": null,
            "grid_template_columns": null,
            "flex": null,
            "_model_name": "LayoutModel",
            "justify_items": null,
            "grid_row": null,
            "max_height": null,
            "align_content": null,
            "visibility": null,
            "align_self": null,
            "height": null,
            "min_height": null,
            "padding": null,
            "grid_auto_rows": null,
            "grid_gap": null,
            "max_width": null,
            "order": null,
            "_view_module_version": "1.2.0",
            "grid_template_areas": null,
            "object_position": null,
            "object_fit": null,
            "grid_auto_columns": null,
            "margin": null,
            "display": null,
            "left": null
          }
        },
        "916b1b59633f41d999fe8e0abb290fcc": {
          "model_module": "@jupyter-widgets/controls",
          "model_name": "HBoxModel",
          "state": {
            "_view_name": "HBoxView",
            "_dom_classes": [],
            "_model_name": "HBoxModel",
            "_view_module": "@jupyter-widgets/controls",
            "_model_module_version": "1.5.0",
            "_view_count": null,
            "_view_module_version": "1.5.0",
            "box_style": "",
            "layout": "IPY_MODEL_24c25e76035b4b6aa8005f688f270a6f",
            "_model_module": "@jupyter-widgets/controls",
            "children": [
              "IPY_MODEL_57590bb524454331b1d234bb4624b33d",
              "IPY_MODEL_e6fb368e22904712a2751e1398f178b5"
            ]
          }
        },
        "24c25e76035b4b6aa8005f688f270a6f": {
          "model_module": "@jupyter-widgets/base",
          "model_name": "LayoutModel",
          "state": {
            "_view_name": "LayoutView",
            "grid_template_rows": null,
            "right": null,
            "justify_content": null,
            "_view_module": "@jupyter-widgets/base",
            "overflow": null,
            "_model_module_version": "1.2.0",
            "_view_count": null,
            "flex_flow": null,
            "width": null,
            "min_width": null,
            "border": null,
            "align_items": null,
            "bottom": null,
            "_model_module": "@jupyter-widgets/base",
            "top": null,
            "grid_column": null,
            "overflow_y": null,
            "overflow_x": null,
            "grid_auto_flow": null,
            "grid_area": null,
            "grid_template_columns": null,
            "flex": null,
            "_model_name": "LayoutModel",
            "justify_items": null,
            "grid_row": null,
            "max_height": null,
            "align_content": null,
            "visibility": null,
            "align_self": null,
            "height": null,
            "min_height": null,
            "padding": null,
            "grid_auto_rows": null,
            "grid_gap": null,
            "max_width": null,
            "order": null,
            "_view_module_version": "1.2.0",
            "grid_template_areas": null,
            "object_position": null,
            "object_fit": null,
            "grid_auto_columns": null,
            "margin": null,
            "display": null,
            "left": null
          }
        },
        "57590bb524454331b1d234bb4624b33d": {
          "model_module": "@jupyter-widgets/controls",
          "model_name": "FloatProgressModel",
          "state": {
            "_view_name": "ProgressView",
            "style": "IPY_MODEL_5676fa5678cd4343ad33e167fd1ec4be",
            "_dom_classes": [],
            "description": "100%",
            "_model_name": "FloatProgressModel",
            "bar_style": "success",
            "max": 4,
            "_view_module": "@jupyter-widgets/controls",
            "_model_module_version": "1.5.0",
            "value": 4,
            "_view_count": null,
            "_view_module_version": "1.5.0",
            "orientation": "horizontal",
            "min": 0,
            "description_tooltip": null,
            "_model_module": "@jupyter-widgets/controls",
            "layout": "IPY_MODEL_a7b4a93233bb4d6497c67c9d455571f6"
          }
        },
        "e6fb368e22904712a2751e1398f178b5": {
          "model_module": "@jupyter-widgets/controls",
          "model_name": "HTMLModel",
          "state": {
            "_view_name": "HTMLView",
            "style": "IPY_MODEL_94ff7a36040e48328415824f1d86019b",
            "_dom_classes": [],
            "description": "",
            "_model_name": "HTMLModel",
            "placeholder": "​",
            "_view_module": "@jupyter-widgets/controls",
            "_model_module_version": "1.5.0",
            "value": " 4/4 [00:00&lt;00:00, 27.37ba/s]",
            "_view_count": null,
            "_view_module_version": "1.5.0",
            "description_tooltip": null,
            "_model_module": "@jupyter-widgets/controls",
            "layout": "IPY_MODEL_b41c41bd432e4a528a9d1f3a4527819c"
          }
        },
        "5676fa5678cd4343ad33e167fd1ec4be": {
          "model_module": "@jupyter-widgets/controls",
          "model_name": "ProgressStyleModel",
          "state": {
            "_view_name": "StyleView",
            "_model_name": "ProgressStyleModel",
            "description_width": "initial",
            "_view_module": "@jupyter-widgets/base",
            "_model_module_version": "1.5.0",
            "_view_count": null,
            "_view_module_version": "1.2.0",
            "bar_color": null,
            "_model_module": "@jupyter-widgets/controls"
          }
        },
        "a7b4a93233bb4d6497c67c9d455571f6": {
          "model_module": "@jupyter-widgets/base",
          "model_name": "LayoutModel",
          "state": {
            "_view_name": "LayoutView",
            "grid_template_rows": null,
            "right": null,
            "justify_content": null,
            "_view_module": "@jupyter-widgets/base",
            "overflow": null,
            "_model_module_version": "1.2.0",
            "_view_count": null,
            "flex_flow": null,
            "width": null,
            "min_width": null,
            "border": null,
            "align_items": null,
            "bottom": null,
            "_model_module": "@jupyter-widgets/base",
            "top": null,
            "grid_column": null,
            "overflow_y": null,
            "overflow_x": null,
            "grid_auto_flow": null,
            "grid_area": null,
            "grid_template_columns": null,
            "flex": null,
            "_model_name": "LayoutModel",
            "justify_items": null,
            "grid_row": null,
            "max_height": null,
            "align_content": null,
            "visibility": null,
            "align_self": null,
            "height": null,
            "min_height": null,
            "padding": null,
            "grid_auto_rows": null,
            "grid_gap": null,
            "max_width": null,
            "order": null,
            "_view_module_version": "1.2.0",
            "grid_template_areas": null,
            "object_position": null,
            "object_fit": null,
            "grid_auto_columns": null,
            "margin": null,
            "display": null,
            "left": null
          }
        },
        "94ff7a36040e48328415824f1d86019b": {
          "model_module": "@jupyter-widgets/controls",
          "model_name": "DescriptionStyleModel",
          "state": {
            "_view_name": "StyleView",
            "_model_name": "DescriptionStyleModel",
            "description_width": "",
            "_view_module": "@jupyter-widgets/base",
            "_model_module_version": "1.5.0",
            "_view_count": null,
            "_view_module_version": "1.2.0",
            "_model_module": "@jupyter-widgets/controls"
          }
        },
        "b41c41bd432e4a528a9d1f3a4527819c": {
          "model_module": "@jupyter-widgets/base",
          "model_name": "LayoutModel",
          "state": {
            "_view_name": "LayoutView",
            "grid_template_rows": null,
            "right": null,
            "justify_content": null,
            "_view_module": "@jupyter-widgets/base",
            "overflow": null,
            "_model_module_version": "1.2.0",
            "_view_count": null,
            "flex_flow": null,
            "width": null,
            "min_width": null,
            "border": null,
            "align_items": null,
            "bottom": null,
            "_model_module": "@jupyter-widgets/base",
            "top": null,
            "grid_column": null,
            "overflow_y": null,
            "overflow_x": null,
            "grid_auto_flow": null,
            "grid_area": null,
            "grid_template_columns": null,
            "flex": null,
            "_model_name": "LayoutModel",
            "justify_items": null,
            "grid_row": null,
            "max_height": null,
            "align_content": null,
            "visibility": null,
            "align_self": null,
            "height": null,
            "min_height": null,
            "padding": null,
            "grid_auto_rows": null,
            "grid_gap": null,
            "max_width": null,
            "order": null,
            "_view_module_version": "1.2.0",
            "grid_template_areas": null,
            "object_position": null,
            "object_fit": null,
            "grid_auto_columns": null,
            "margin": null,
            "display": null,
            "left": null
          }
        }
      }
    },
    "accelerator": "GPU"
  },
  "cells": [
    {
      "cell_type": "markdown",
      "metadata": {
        "id": "vYPcuipBctOc"
      },
      "source": [
        "# 6.864 Project\n",
        "$\\textbf{Main idea}$: Testing the limits of zero-shot and few-shot learning for labeling at scale.\n",
        "\n",
        "Techniques to try (unsupervised)\n",
        "1. Baseline: GloVe embedding-based similarity scoring [Elaine]\n",
        "2. SBERT: SBERT based similarity scoring [Brian]\n",
        "Encode label embedding. Encode query embedding. Get dot product of query vs. label 1,... 30, predict highest dot product.  \n",
        "3. Feed SBERT top dot products into ZSL. [Brian]\n",
        "\n",
        "Techniques to try (semi-supervised)\n",
        "1. SBERT nearest neighbors (65%) [Brian]\n",
        "2. Siamese neural nets [Brian]\n",
        "3. Both can also contribute to ZSL [Elaine]\n",
        "\n",
        "Technique to try (supervised)\n",
        "1. BERT Supervised classification [Elaine] \n",
        "\n",
        "Final report main table\n",
        "# training examples | Model structure | Accuracy \n",
        "0 | GloVe (baseline) | 30% \n",
        "\n",
        "Q = \" I returned something to a  store but can't see my refund.\"\n",
        "--> SBERT NN --> hypothesis_set = ['refund', 'lost card', 'chargeback']\n",
        "--> ZSL(Q, hypothesis_set) --> [0.8, 0.2, 0.0] \n",
        "\n",
        "SBERT: sentence --> 768 dimensional vector\n",
        "label 1, ... 30  \n",
        "sentence embeddings : get label centroids by taking the mean of all sentence embeddings corresponding to label 1,...30. 1000 labels \n",
        "\n",
        "New sentence: --> SBERT --> get nearest centroid --> predict label: ~65% "
      ]
    },
    {
      "cell_type": "code",
      "metadata": {
        "colab": {
          "base_uri": "https://localhost:8080/"
        },
        "id": "xejDQSG9BTPj",
        "outputId": "26ca3f85-77a0-465e-ec39-cb202b098bc2"
      },
      "source": [
        "from google.colab import drive\n",
        "drive.mount('/content/gdrive')"
      ],
      "execution_count": null,
      "outputs": [
        {
          "output_type": "stream",
          "text": [
            "Mounted at /content/gdrive\n"
          ],
          "name": "stdout"
        }
      ]
    },
    {
      "cell_type": "code",
      "metadata": {
        "id": "nIswL-1kBeF5"
      },
      "source": [
        "%%bash\n",
        "# Logistics #2: install the transformers package, create a folder, download the dataset and a patch\n",
        "pip -q install transformers\n",
        "pip -q install datasets\n",
        "pip -q install tqdm\n",
        "pip -q install sentencepiece \n",
        "\n",
        "# mkdir \"/content/gdrive/MyDrive/6864_Project/\"\n",
        "cd \"/content/gdrive/MyDrive/6864_Project/\""
      ],
      "execution_count": null,
      "outputs": []
    },
    {
      "cell_type": "code",
      "metadata": {
        "id": "RVLLNcXYBO51"
      },
      "source": [
        "import numpy as np\n",
        "import pandas as pd\n",
        "import re\n",
        "import random\n",
        "\n",
        "import os\n",
        "os.chdir('/content/gdrive/MyDrive/6864_Project/')"
      ],
      "execution_count": null,
      "outputs": []
    },
    {
      "cell_type": "code",
      "metadata": {
        "colab": {
          "base_uri": "https://localhost:8080/",
          "height": 467,
          "referenced_widgets": [
            "e13da36c4f8c497593f216452be25b9e",
            "1f139400e784485f94c0c97d5cf0b055",
            "3a0ed2d3e68942a485f0bd939b41c81e",
            "987b0e4af5b048d590e1a8d9e15f804f",
            "53a8ca78581040d7aaf9e241bc4ba4bc",
            "ef587e0b06634ad8bb50ebaabc5d7bdb",
            "e52ac2497bf645f4a3d99fc12680d747",
            "1280ad97940a463aa9792e6328d8458e",
            "a1925f2e88354a70b3dce240985901c0",
            "be2b2ec63e124603aadc29fe23abb6eb",
            "9e00ef595343454d999dbaf937f7c2be",
            "ec4612a0103e490b88eed8fa183a47b2",
            "fe7a57af8d864515bdf1e3d84afdeea8",
            "8514800b8dae474e8fed34cf1bfed33d",
            "3c2c2fe95de84a28a6c8a44026b8f913",
            "affdcf768ea8494fa944469c9e72e43e",
            "6a1a8bcebfc747e3894816f0c8aa2291",
            "9376fa473f8143af90843b6de60a0244",
            "e5a927ab4ab44b7a9e0d820d369202a7",
            "90b12e77bf8a4f23a2a160cab146cb37",
            "d3a30444a0794f4a989b9889bfed84f9",
            "484c6dae53524963abe92e00e6b1ba64",
            "d4c6b89104a74ccf895d60aae3d68f3f",
            "8b5913db905d4b3caf40d94cce559544",
            "bd8e8621a156460f81b1ace8f1ce4e92",
            "e74157b68e744c41b3bf7b9effbcdccd",
            "000233a36d974d0594fa14adef0813cf",
            "3429bc9c444544b6ab277bcd24692e9e",
            "01fcba083bc04bf89f7485d19cc8c728",
            "580bce1db868467798e76d36f8b8415c",
            "fe2237fd3909451fa94a03642f538eb1",
            "2ce543a95ffd4dee8c593cdd6344795d",
            "1e97f50861c64ea88b089efa0243aa29",
            "23d8a54b928046419a099947d58efb50",
            "73afb918dd0e4090bae490208922a644",
            "4ac7d9379cb9400aa2d19a0a851bda31",
            "2246e94a3e6f4fcd961cf21a56e7c30c",
            "c299afe94fff489c8ff6b3d1e1c71213",
            "5e9d3a29da8e4c6dbc8e9e193b13dc58",
            "0167f66e025b4c668403efe7debaedb7",
            "36d54e990f514e3aa9e4defef04658b5",
            "36a2e08101ec48f78737fe30014ed3f2",
            "d9ef2e3f2bcc4968b5d8676d3639be5e",
            "2485faf72c884d88bcfe0ef5403494b1",
            "3683dbb3054349f4874563cb97165e4d",
            "d271985def174550bf33a9825b22b97a",
            "2ece55d982744024aeede46105bd58e0",
            "2ccbb085f321422ca8aa35f0c6a3a275"
          ]
        },
        "id": "CBj1Wg7vBO5-",
        "outputId": "88fa5cf8-277d-4145-f3f8-ea2dc0022657"
      },
      "source": [
        "from datasets import load_dataset\n",
        "\n",
        "banking = load_dataset('banking77')\n",
        "print(banking)"
      ],
      "execution_count": null,
      "outputs": [
        {
          "output_type": "display_data",
          "data": {
            "application/vnd.jupyter.widget-view+json": {
              "model_id": "e13da36c4f8c497593f216452be25b9e",
              "version_minor": 0,
              "version_major": 2
            },
            "text/plain": [
              "HBox(children=(FloatProgress(value=0.0, description='Downloading', max=2293.0, style=ProgressStyle(description…"
            ]
          },
          "metadata": {
            "tags": []
          }
        },
        {
          "output_type": "stream",
          "text": [
            "\n"
          ],
          "name": "stdout"
        },
        {
          "output_type": "display_data",
          "data": {
            "application/vnd.jupyter.widget-view+json": {
              "model_id": "a1925f2e88354a70b3dce240985901c0",
              "version_minor": 0,
              "version_major": 2
            },
            "text/plain": [
              "HBox(children=(FloatProgress(value=0.0, description='Downloading', max=1664.0, style=ProgressStyle(description…"
            ]
          },
          "metadata": {
            "tags": []
          }
        },
        {
          "output_type": "stream",
          "text": [
            "Using custom data configuration default\n"
          ],
          "name": "stderr"
        },
        {
          "output_type": "stream",
          "text": [
            "\n",
            "Downloading and preparing dataset banking77/default (download: 1.03 MiB, generated: 897.51 KiB, post-processed: Unknown size, total: 1.91 MiB) to /root/.cache/huggingface/datasets/banking77/default/1.1.0/17ffc2ed47c2ed928bee64127ff1dbc97204cb974c2f980becae7c864007aed9...\n"
          ],
          "name": "stdout"
        },
        {
          "output_type": "display_data",
          "data": {
            "application/vnd.jupyter.widget-view+json": {
              "model_id": "6a1a8bcebfc747e3894816f0c8aa2291",
              "version_minor": 0,
              "version_major": 2
            },
            "text/plain": [
              "HBox(children=(FloatProgress(value=0.0, description='Downloading', max=158363.0, style=ProgressStyle(descripti…"
            ]
          },
          "metadata": {
            "tags": []
          }
        },
        {
          "output_type": "stream",
          "text": [
            "\n"
          ],
          "name": "stdout"
        },
        {
          "output_type": "display_data",
          "data": {
            "application/vnd.jupyter.widget-view+json": {
              "model_id": "bd8e8621a156460f81b1ace8f1ce4e92",
              "version_minor": 0,
              "version_major": 2
            },
            "text/plain": [
              "HBox(children=(FloatProgress(value=0.0, description='Downloading', max=51140.0, style=ProgressStyle(descriptio…"
            ]
          },
          "metadata": {
            "tags": []
          }
        },
        {
          "output_type": "stream",
          "text": [
            "\n"
          ],
          "name": "stdout"
        },
        {
          "output_type": "display_data",
          "data": {
            "application/vnd.jupyter.widget-view+json": {
              "model_id": "1e97f50861c64ea88b089efa0243aa29",
              "version_minor": 0,
              "version_major": 2
            },
            "text/plain": [
              "HBox(children=(FloatProgress(value=1.0, bar_style='info', max=1.0), HTML(value='')))"
            ]
          },
          "metadata": {
            "tags": []
          }
        },
        {
          "output_type": "stream",
          "text": [
            "\r"
          ],
          "name": "stdout"
        },
        {
          "output_type": "display_data",
          "data": {
            "application/vnd.jupyter.widget-view+json": {
              "model_id": "36d54e990f514e3aa9e4defef04658b5",
              "version_minor": 0,
              "version_major": 2
            },
            "text/plain": [
              "HBox(children=(FloatProgress(value=1.0, bar_style='info', max=1.0), HTML(value='')))"
            ]
          },
          "metadata": {
            "tags": []
          }
        },
        {
          "output_type": "stream",
          "text": [
            "\rDataset banking77 downloaded and prepared to /root/.cache/huggingface/datasets/banking77/default/1.1.0/17ffc2ed47c2ed928bee64127ff1dbc97204cb974c2f980becae7c864007aed9. Subsequent calls will reuse this data.\n",
            "DatasetDict({\n",
            "    train: Dataset({\n",
            "        features: ['text', 'label'],\n",
            "        num_rows: 10003\n",
            "    })\n",
            "    test: Dataset({\n",
            "        features: ['text', 'label'],\n",
            "        num_rows: 3080\n",
            "    })\n",
            "})\n"
          ],
          "name": "stdout"
        }
      ]
    },
    {
      "cell_type": "code",
      "metadata": {
        "id": "mOcHENvBBO5_"
      },
      "source": [
        "# Need to remap all labels\n",
        "label_tbl = pd.read_csv('banking77.csv')\n",
        "label_map = {}\n",
        "\n",
        "# for simplicity only keep some 30 labels in training/testing data\n",
        "random.seed(6864)\n",
        "n_classes = 30\n",
        "labels_to_keep = random.sample(list(range(len(label_tbl))), k= n_classes)\n",
        "\n",
        "for i in range(len(label_tbl)):\n",
        "    label = label_tbl['Label'].iloc[i]\n",
        "    label = re.sub(r'\\_',' ',label)\n",
        "    ix = label_tbl['Label_ix'].iloc[i]\n",
        "    if ix in labels_to_keep:\n",
        "      label_map.update({ix: label})"
      ],
      "execution_count": null,
      "outputs": []
    },
    {
      "cell_type": "code",
      "metadata": {
        "colab": {
          "base_uri": "https://localhost:8080/",
          "height": 152,
          "referenced_widgets": [
            "5c48783e7d9648359106e928110e3c20",
            "e2d477a0cd5c423bbb1614ee8063a256",
            "da49446807314ac68089588dbc284b3a",
            "c2fc3161ae3a406191d98bd1fe23e5f2",
            "da7f303e09ac45e5800dcc0867d5afe3",
            "0e2335d51d3d42a0b6189397d44404aa",
            "273e557e46284ed18a124c842fb393a9",
            "32fa5e51279e4b918a80f2c617f2d3f9",
            "916b1b59633f41d999fe8e0abb290fcc",
            "24c25e76035b4b6aa8005f688f270a6f",
            "57590bb524454331b1d234bb4624b33d",
            "e6fb368e22904712a2751e1398f178b5",
            "5676fa5678cd4343ad33e167fd1ec4be",
            "a7b4a93233bb4d6497c67c9d455571f6",
            "94ff7a36040e48328415824f1d86019b",
            "b41c41bd432e4a528a9d1f3a4527819c"
          ]
        },
        "id": "BsTv76LsBO6A",
        "outputId": "10f880b5-f164-47b5-eece-4a33b65ba29d"
      },
      "source": [
        "# filter trianing set to only intents we want \n",
        "banking2 = banking.filter(lambda row: row['label'] in labels_to_keep)\n",
        "\n",
        "print(len(banking2['train']))\n",
        "print(len(banking2['test']))"
      ],
      "execution_count": null,
      "outputs": [
        {
          "output_type": "display_data",
          "data": {
            "application/vnd.jupyter.widget-view+json": {
              "model_id": "5c48783e7d9648359106e928110e3c20",
              "version_minor": 0,
              "version_major": 2
            },
            "text/plain": [
              "HBox(children=(FloatProgress(value=0.0, max=11.0), HTML(value='')))"
            ]
          },
          "metadata": {
            "tags": []
          }
        },
        {
          "output_type": "stream",
          "text": [
            "\n"
          ],
          "name": "stdout"
        },
        {
          "output_type": "display_data",
          "data": {
            "application/vnd.jupyter.widget-view+json": {
              "model_id": "916b1b59633f41d999fe8e0abb290fcc",
              "version_minor": 0,
              "version_major": 2
            },
            "text/plain": [
              "HBox(children=(FloatProgress(value=0.0, max=4.0), HTML(value='')))"
            ]
          },
          "metadata": {
            "tags": []
          }
        },
        {
          "output_type": "stream",
          "text": [
            "\n",
            "4001\n",
            "1200\n"
          ],
          "name": "stdout"
        }
      ]
    },
    {
      "cell_type": "code",
      "metadata": {
        "colab": {
          "base_uri": "https://localhost:8080/"
        },
        "id": "6xtql_DiBO6B",
        "outputId": "41c71d17-b2b4-4fe1-c535-bfa7ddd30ab6"
      },
      "source": [
        "i=1012\n",
        "print(\"input:\", banking2['train'][i]['text'])\n",
        "print(\"label:\", label_map[banking2['train'][i]['label']])\n",
        "print()\n",
        "i=100\n",
        "print(\"input:\", banking2['train'][i]['text'])\n",
        "print(\"label:\", label_map[banking2['train'][i]['label']])\n",
        "print()\n",
        "i=2000\n",
        "print(\"input:\", banking2['train'][i]['text'])\n",
        "print(\"label:\", label_map[banking2['train'][i]['label']])"
      ],
      "execution_count": null,
      "outputs": [
        {
          "output_type": "stream",
          "text": [
            "input: I tried to top up, but it didn't finish.\n",
            "label: pending top up\n",
            "\n",
            "input: can you share card tracking number?\n",
            "label: card arrival\n",
            "\n",
            "input: I returned something to a  store but can't see my refund.\n",
            "label: refund not showing up\n"
          ],
          "name": "stdout"
        }
      ]
    },
    {
      "cell_type": "code",
      "metadata": {
        "id": "II1utiNRBO6C"
      },
      "source": [
        "from transformers import AutoTokenizer, AutoModel\n",
        "import torch\n",
        "\n",
        "\"\"\"\n",
        "The following is from the sentence bert (SBERT) framework\n",
        "https://huggingface.co/sentence-transformers/bert-base-nli-mean-tokens\n",
        "\"\"\"\n",
        "\n",
        "#Mean Pooling - Take attention mask into account for correct averaging\n",
        "def mean_pooling(model_output, attention_mask):\n",
        "    token_embeddings = model_output[0] #First element of model_output contains all token embeddings\n",
        "    input_mask_expanded = attention_mask.unsqueeze(-1).expand(token_embeddings.size()).float()\n",
        "    sum_embeddings = torch.sum(token_embeddings * input_mask_expanded, 1)\n",
        "    sum_mask = torch.clamp(input_mask_expanded.sum(1), min=1e-9)\n",
        "    return sum_embeddings / sum_mask\n",
        "\n",
        "#Sentences we want sentence embeddings for\n",
        "query = ['I returned something to a  store but can\\'t see my refund.'] # TRUE INTENT: 'refund not showing up'\n",
        "intent_set = list(label_map.values())\n",
        "\n",
        "#Load AutoModel from huggingface model repository\n",
        "tokenizer = AutoTokenizer.from_pretrained(\"sentence-transformers/bert-base-nli-mean-tokens\")\n",
        "lm = AutoModel.from_pretrained(\"sentence-transformers/bert-base-nli-mean-tokens\").cuda()\n",
        "\n",
        "#Tokenize sentences and place them on tensor\n",
        "encoded_query = tokenizer(query, padding=True, truncation=True,return_token_type_ids=False, max_length=128, return_tensors='pt')\n",
        "encoded_query['input_ids'] = encoded_query['input_ids'].cuda()\n",
        "encoded_query['attention_mask'] = encoded_query['attention_mask'].cuda()\n",
        "encoded_intents = tokenizer(intent_set, padding=True, truncation=True,return_token_type_ids=False, max_length=128, return_tensors='pt')\n",
        "encoded_intents['input_ids'] = encoded_intents['input_ids'].cuda()\n",
        "encoded_intents['attention_mask'] = encoded_intents['attention_mask'].cuda()\n",
        "\n",
        "\n",
        "#Compute token embeddings\n",
        "lm.eval()\n",
        "with torch.no_grad():\n",
        "    output_query = lm(**encoded_query)\n",
        "    output_intents = lm(**encoded_intents)\n",
        "\n",
        "#Perform pooling. In this case, mean pooling\n",
        "query_embeddings = mean_pooling(output_query, encoded_query['attention_mask'])\n",
        "intents_embeddings_raw = mean_pooling(output_intents, encoded_intents['attention_mask'])\n"
      ],
      "execution_count": null,
      "outputs": []
    },
    {
      "cell_type": "code",
      "metadata": {
        "colab": {
          "base_uri": "https://localhost:8080/"
        },
        "id": "jfOqiIPaHVFg",
        "outputId": "d568ad64-f25a-498b-eb16-df9e3e1ad9bc"
      },
      "source": [
        "# Now take the dot product to find out which ones are closest\n",
        "# We see that the true intent is the third one. But considering this is a baseline model this isn't unexpected \n",
        "top_intents = torch.topk(torch.inner(query_embeddings, intents_embeddings_raw), k = 5).indices.squeeze()\n",
        "for i in range(len(top_intents)):\n",
        "  print(i+1,\". \",intent_set[top_intents[i].item()])"
      ],
      "execution_count": null,
      "outputs": [
        {
          "output_type": "stream",
          "text": [
            "1 .  balance not updated after bank transfer\n",
            "2 .  balance not updated after cheque or cash deposit\n",
            "3 .  refund not showing up\n",
            "4 .  declined card payment\n",
            "5 .  lost or stolen phone\n"
          ],
          "name": "stdout"
        }
      ]
    },
    {
      "cell_type": "markdown",
      "metadata": {
        "id": "LG6vJjdUJXMm"
      },
      "source": [
        "# Siamese neural network implementation\n",
        "The basic idea is that we train a siamese neural network based on the triplet loss function for few-shot learning. In the triplet loss framework we provide a query that's of the same class and another query that is not of the same class.\n",
        "\n",
        "After training the model to distinguish which query is of the same class and which is not, we can use the network for unseen queries. We can then feed in the new query along with all of the label centroids to determine which label centroid is closest to the new query. "
      ]
    },
    {
      "cell_type": "code",
      "metadata": {
        "colab": {
          "base_uri": "https://localhost:8080/"
        },
        "id": "cM_THkxoRKCz",
        "outputId": "a434c640-41d8-4435-c72e-be594b07382a"
      },
      "source": [
        "# First create a relatively small training set in light of few-shot learning. We collect k samples from each label\n",
        "label_counter = {}\n",
        "n_samples = 20 # This designates the number of each sentence with label i that we have in training\n",
        "train_queries, train_labels = [],[]\n",
        "test_queries, test_labels = [], []\n",
        "for i in range(len(banking2['train'])):\n",
        "  text = banking2['train'][i]['text']\n",
        "  label = banking2['train'][i]['label']\n",
        "  if label not in label_counter:\n",
        "    label_counter.update({label: 1})\n",
        "    train_queries.append(text)\n",
        "    train_labels.append(label)\n",
        "  else:\n",
        "    if label_counter[label] <= n_samples:\n",
        "      train_queries.append(text)\n",
        "      train_labels.append(label)\n",
        "      label_counter[label] += 1\n",
        "    else:\n",
        "      test_queries.append(text)\n",
        "      test_labels.append(label)\n",
        "\n",
        "print(len(train_queries))\n",
        "print(len(test_queries))"
      ],
      "execution_count": null,
      "outputs": [
        {
          "output_type": "stream",
          "text": [
            "630\n",
            "3371\n"
          ],
          "name": "stdout"
        }
      ]
    },
    {
      "cell_type": "code",
      "metadata": {
        "id": "9e-PgiClVeQ5",
        "colab": {
          "base_uri": "https://localhost:8080/"
        },
        "outputId": "ba3d8286-2bbb-4764-9321-a5bcc942af3e"
      },
      "source": [
        "# Next embed the training queries and create centroids based on the train\n",
        "\n",
        "encoded_query = tokenizer(train_queries,return_token_type_ids=False, padding=True,  max_length=128, return_tensors='pt')\n",
        "train_input_ids = encoded_query['input_ids'].cuda()\n",
        "train_attn_mask = encoded_query['attention_mask'].cuda()\n",
        "with torch.no_grad():\n",
        "    output_query = lm(input_ids = train_input_ids, \n",
        "                         attention_mask = train_attn_mask) #unpack arguments \n",
        "\n",
        "query_embeddings = mean_pooling(output_query, train_attn_mask)\n",
        "\n",
        "print(query_embeddings.shape)"
      ],
      "execution_count": null,
      "outputs": [
        {
          "output_type": "stream",
          "text": [
            "torch.Size([630, 768])\n"
          ],
          "name": "stdout"
        }
      ]
    },
    {
      "cell_type": "code",
      "metadata": {
        "id": "GAhbNtQJWe3q",
        "colab": {
          "base_uri": "https://localhost:8080/"
        },
        "outputId": "37d00d9a-82ae-4fe7-d593-cd6b77385443"
      },
      "source": [
        "intent_centroids = {}\n",
        "intent_centroids_lm = torch.zeros(intents_embeddings.shape).cuda()\n",
        "\n",
        "# train_labels = torch.tensor(train_labels)\n",
        "# test_labels = torch.tensor(test_labels)\n",
        "\n",
        "# centroids = torch.zeros((len(set(train_labels)), query_embeddings.shape[1]))\n",
        "i=0\n",
        "for label in set(train_labels):\n",
        "  ix = np.where(np.array(train_labels) == label)[0]\n",
        "  intent_centroids[label] = torch.mean(query_embeddings[ix,:], dim = 0)\n",
        "  intent_centroids_lm[i,:] = torch.mean(query_embeddings[ix,:], dim = 0)\n",
        "  i+=1\n",
        "\n",
        "print(\"Created {} centroids based on query embeddings and label groups.\".format(n_classes))\n",
        "print(intent_centroids.keys())"
      ],
      "execution_count": null,
      "outputs": [
        {
          "output_type": "stream",
          "text": [
            "Created 30 centroids based on query embeddings and label groups.\n",
            "dict_keys([0, 1, 5, 6, 11, 17, 19, 23, 25, 31, 32, 34, 36, 37, 39, 42, 43, 47, 49, 51, 52, 55, 58, 59, 61, 62, 63, 64, 69, 72])\n"
          ],
          "name": "stdout"
        }
      ]
    },
    {
      "cell_type": "code",
      "metadata": {
        "id": "G9OouLPpHtMh"
      },
      "source": [
        "import torch.nn as nn\n",
        "import torch.nn.functional as F\n",
        "\n",
        "class SiameseNet(nn.Module):\n",
        "    def __init__(self, lm):\n",
        "      super(SiameseNet, self).__init__()\n",
        "      torch.manual_seed(6864)\n",
        "      self.lm = lm\n",
        "      self.embedding_dim = 768\n",
        "      self.output_size = 64\n",
        "\n",
        "      self.lin = nn.Linear(self.embedding_dim, 256)\n",
        "      self.lin1 = nn.Linear(256, 128)\n",
        "      self.out = nn.Linear(128, self.output_size)\n",
        "      self.dropout = nn.Dropout(0.5)\n",
        "\n",
        "    def freeze_lm(self): # freeze the SBERT model such that we only train the classifier \n",
        "      for param in self.lm.parameters():\n",
        "        param.requires_grad = False\n",
        "\n",
        "    def FF(self, embeddings): # Feed forward embedding \n",
        "      x = F.relu(self.lin(embeddings))\n",
        "      x = self.dropout(x)\n",
        "      x = F.relu(self.lin1(x))\n",
        "      x = self.out(x)\n",
        "      return x\n",
        "\n",
        "    def forward_one(self, encoded_query): # define the same forward function for the embeddings to produce embedding representation\n",
        "      output = self.lm(**encoded_query)\n",
        "      embeddings = mean_pooling(output, encoded_query['attention_mask']) # pool -> (batch size, hidden_size)\n",
        "      x = self.FF(embeddings)\n",
        "      return x\n",
        "\n",
        "    def forward(self, anc_encoded, pos_encoded, neg_encoded): # takes in anchor, positive, and negative\n",
        "      anc_emb = self.forward_one(anc_encoded) # pool -> (batch size, 32)\n",
        "      pos_emb = self.forward_one(pos_encoded)\n",
        "      neg_emb = self.forward_one(neg_encoded)\n",
        "      return anc_emb, pos_emb, neg_emb\n",
        "\n",
        "\n",
        "# define a loss function\n",
        "from torch.nn.modules.distance import PairwiseDistance\n",
        "class TripletLoss(nn.Module):\n",
        "    def __init__(self, eps): # eps is some margin \n",
        "        super(TripletLoss, self).__init__()\n",
        "        self.eps = eps\n",
        "        self.dist_fcn = PairwiseDistance(p=2)\n",
        "\n",
        "    def forward(self, anc_emb, pos_emb, neg_emb):\n",
        "        pos_dist = self.dist_fcn(anc_emb, pos_emb)\n",
        "        neg_dist = self.dist_fcn(anc_emb, neg_emb)\n",
        "\n",
        "        hinge_dist = torch.clamp(self.eps + pos_dist - neg_dist, min=0.0)\n",
        "        loss = torch.mean(hinge_dist) # take the average distance in the batch to be the loss  \n",
        "        return loss"
      ],
      "execution_count": null,
      "outputs": []
    },
    {
      "cell_type": "code",
      "metadata": {
        "id": "twhApL3xNUn8"
      },
      "source": [
        "# # DEMO OF PROPOGATING THROUGH TO TRAINING LOSS \n",
        "\n",
        "\n",
        "# batch_ix = np.array([])\n",
        "# np.random.seed(1)\n",
        "# label_set = list(set(train_labels))\n",
        "# for label in label_set:\n",
        "#   label_ix = np.where(np.array(label)==np.array(train_labels))[0]\n",
        "#   label_ix = np.random.choice(label_ix,size=n_pos, replace = False) \n",
        "#   batch_ix = np.concatenate([batch_ix, label_ix]).astype(np.int32)\n",
        "# batch_size = len(batch_ix)\n",
        "# batch_anc_enc = {'input_ids': train_input_ids[batch_ix], 'attention_mask': train_attn_mask[batch_ix]}\n",
        "# # Embed everything in the sample and obtain the distance matrix\n",
        "# embeddings = Siamese.forward_one(batch_anc_enc)"
      ],
      "execution_count": null,
      "outputs": []
    },
    {
      "cell_type": "markdown",
      "metadata": {
        "id": "_CJIklTiF_HZ"
      },
      "source": [
        "# Triplet selection\n",
        "Given $x_{i}^{a}$ we want to select positive anchor (within a batch) such that $x_{i}^{p} = argmax||f(x_{i}^{a})-f(x_{i}^{p})||_{2}^{2}$ (it looks far from anchor, but is actually the same class) and similarly we want $x_{i}^{n} = argmin||f(x_{i}^{a})-f(x_{i}^{n})||_{2}^{2}$ (it looks close together but is actually of a different class). \n",
        "\n",
        "We can also consider \"semi-hard\" examples which have the property that $||f(x_{i}^{a})-f(x_{i}^{p})||_{2}^{2} \\leq ||f(x_{i}^{a})-f(x_{i}^{n})||_{2}^{2}$. \n",
        "\n",
        "Lastly, the Facenet paper recommends \"Instead of picking the hardest positive, we use all anchor-positive pairs in a mini-batch while still selecting the hard negatives.\" In similar vein, we can include all anchor-centroid pairs so that all labels eventually learn that they belong with a certain centroid.\n",
        "\n",
        "Ultimately, we have to make sure that we have some positive number of examples for each class. Because we are treating this as a semi-supervised problem, we're going to assume that we have limited labels (e.g. 20 labels of each class) and will instead use random sampling to create batches."
      ]
    },
    {
      "cell_type": "code",
      "metadata": {
        "id": "eLFPOo1QfLu5"
      },
      "source": [
        "# Wrap the batch generation into a function \n",
        "def generate_batch(model, train_input_ids, train_attn_mask, train_labels, centroids, n_pos, random_state):\n",
        "  \"\"\"\n",
        "  Model: the Siamese net model that will be used to generate embeddings\n",
        "  train_input_ids: ALL tokenized input ids across the training set\n",
        "  train_attention mask: ALL tokenized attention masks across the training set\n",
        "  train_labels: ALL labels across the training set\n",
        "  centroids: A dictionary that maps {label: centroid embedding}  \n",
        "  n_pos: The number of examples to draw from each class in train_labels\n",
        "  random_state: The seet to be set \n",
        "  \"\"\"\n",
        "\n",
        "  batch_ix = np.array([])\n",
        "  np.random.seed(random_state)\n",
        "  label_set = list(set(train_labels))\n",
        "  for label in label_set:\n",
        "    label_ix = np.where(np.array(label)==np.array(train_labels))[0]\n",
        "    label_ix = np.random.choice(label_ix,size=n_pos, replace = False) \n",
        "    batch_ix = np.concatenate([batch_ix, label_ix]).astype(np.int32)\n",
        "  batch_size = len(batch_ix)\n",
        "  batch_anc_enc = {'input_ids': train_input_ids[batch_ix], 'attention_mask': train_attn_mask[batch_ix]}\n",
        "  # Embed everything in the sample and obtain the distance matrix\n",
        "  embeddings = model.forward_one(batch_anc_enc)\n",
        "  emb_dists = torch.cdist(embeddings,embeddings, p=2)\n",
        "  # find the indices of emb_dists with the respective max (if same class) or min (if different class) for the distance\n",
        "  pos_samples = torch.zeros((batch_size)).long()\n",
        "  neg_samples = torch.zeros((batch_size)).long()\n",
        "  # Get the embedding of the same label centroid as well as some embedding of a (random) different label centroid\n",
        "  # Unlike pos/neg samples we'll just create this directly (not through input_ids and attention_mask)\n",
        "  emb_shape = centroids[label_set[0]].shape[0] # 768 is the shape of each centroid \n",
        "  pos_centroid_samples = torch.zeros((batch_size,emb_shape))\n",
        "  neg_centroid_samples = torch.zeros((batch_size,emb_shape))\n",
        "\n",
        "  batch_labels = np.array(train_labels)[batch_ix]\n",
        "  np.random.seed(random_state)\n",
        "  for i in range(batch_size): # just do brute-force over all selected samples for each label - it's a small matrix, otherwise it's too difficult to deal with indices\n",
        "    lab = batch_labels[i]\n",
        "    pos_ix = np.where(lab == batch_labels)[0]\n",
        "    pos_ix = np.setdiff1d(pos_ix, i) \n",
        "    neg_ix = np.where(lab != batch_labels)[0]\n",
        "    pos_dists = emb_dists[i,pos_ix]\n",
        "    neg_dists = emb_dists[i,neg_ix]\n",
        "    pos_samples[i] = pos_ix[torch.argmax(pos_dists)] # Hard-positive\n",
        "    neg_samples[i] = neg_ix[torch.argmin(neg_dists)] # Hard-negative\n",
        "    pos_centroid_samples[i] = centroids[lab] # Centroid-positive\n",
        "    diff_labels = [x for x in label_set if x != lab] # Randomly pick a different centroid to designate as a negative \n",
        "    neg_centroid_samples[i] = centroids[ np.random.choice(diff_labels, size=1, replace = False)[0] ] # Centroid-negative\n",
        "\n",
        "  # now generate a batch-based set of (anchor, hard-positive, hard-negative) triplets\n",
        "  pos_input_ids, pos_attention_mask = batch_anc_enc['input_ids'][pos_samples], batch_anc_enc['attention_mask'][pos_samples]\n",
        "  neg_input_ids, neg_attention_mask = batch_anc_enc['input_ids'][neg_samples], batch_anc_enc['attention_mask'][neg_samples]\n",
        "\n",
        "  batch_pos_enc = {'input_ids': pos_input_ids, 'attention_mask': pos_attention_mask}\n",
        "  batch_neg_enc = {'input_ids': neg_input_ids, 'attention_mask': neg_attention_mask}\n",
        "\n",
        "  return batch_anc_enc, batch_pos_enc, batch_neg_enc, pos_centroid_samples, neg_centroid_samples"
      ],
      "execution_count": null,
      "outputs": []
    },
    {
      "cell_type": "code",
      "metadata": {
        "id": "vdKiliy3uV7D"
      },
      "source": [
        "# Hyper-parameters:\n",
        "import transformers\n",
        "\n",
        "num_epochs = 5\n",
        "num_batches = 10\n",
        "learning_rate = 3e-3\n",
        "weight_decay = 1e-5\n",
        "optimizer_eps = 1e-6\n",
        "triplet_eps = 1\n",
        "n_pos = 5\n",
        "warmup_rate = 0.05\n",
        "ques_max_length = 64\n",
        "max_grad_norm = 5\n",
        "ctx_max_length = 448\n",
        "batch_size = n_pos*n_classes*2 # (x2 because we have both hard p/n and centroid p/n)\n",
        "\n",
        "# Calculating the number of warmup steps\n",
        "num_training_cases = num_batches*n_pos*n_classes\n",
        "t_total = (num_training_cases // batch_size + 1) * num_epochs\n",
        "ext_warmup_steps = int(warmup_rate * t_total)\n",
        "\n",
        "# Create model \n",
        "Siamese = SiameseNet(lm).cuda()\n",
        "Siamese.freeze_lm()\n",
        "loss_fn = TripletLoss(eps = triplet_eps)\n",
        "\n",
        "# Initializing an AdamW optimizer\n",
        "ext_optim = torch.optim.AdamW(Siamese.parameters(), lr=learning_rate,\n",
        "                              eps=optimizer_eps, weight_decay=weight_decay)\n",
        "\n",
        "# Initializing the learning rate scheduler [details are in the BERT paper]\n",
        "ext_sche = transformers.get_linear_schedule_with_warmup(\n",
        "    ext_optim, num_warmup_steps=ext_warmup_steps, num_training_steps=t_total\n",
        ")"
      ],
      "execution_count": null,
      "outputs": []
    },
    {
      "cell_type": "code",
      "metadata": {
        "id": "v9RKNd9GfTtv",
        "colab": {
          "base_uri": "https://localhost:8080/"
        },
        "outputId": "ab8f5346-2d30-4c91-a14e-512a1396a257"
      },
      "source": [
        "# Define the training loop\n",
        "num_epochs = 10\n",
        "num_batches = 21\n",
        "# Important to make sure all inputs (except train_labels) is on the same device \n",
        "Siamese.train()\n",
        "\n",
        "torch.manual_seed(6864)\n",
        "for epoch in range(num_epochs):\n",
        "  for batch in range(num_batches):\n",
        "\n",
        "    # Zero out gradient\n",
        "    Siamese.zero_grad() \n",
        "\n",
        "    # Generate batch\n",
        "    batch_anc_enc, batch_pos_enc, batch_neg_enc, pos_centroid, neg_centroid = generate_batch(Siamese, train_input_ids, train_attn_mask, train_labels, \n",
        "                                                                                             intent_centroids, n_pos, batch*epoch)\n",
        "    # Encode anc/pos/neg\n",
        "    anc_emb, pos_emb, neg_emb = Siamese(batch_anc_enc, batch_pos_enc, batch_neg_enc)\n",
        "\n",
        "    # Embed centroids\n",
        "    pos_centroid_emb = Siamese.FF(pos_centroid.cuda())\n",
        "    neg_centroid_emb = Siamese.FF(neg_centroid.cuda())\n",
        "\n",
        "    # compute the loss \n",
        "    main_loss = loss_fn(anc_emb, pos_emb, neg_emb)\n",
        "    # print(\"Hard Pos/Neg Loss: {}\".format(main_loss))\n",
        "\n",
        "    centroid_loss = loss_fn(anc_emb, pos_centroid_emb, neg_centroid_emb)\n",
        "    # print(\"Centroid Pos/Neg Loss: {}\".format(centroid_loss))\n",
        "\n",
        "    total_loss = main_loss + centroid_loss # concatenate the loss \n",
        "    if batch % 10 == 0:\n",
        "      print(\"Epoch {} batch {} total loss: {}\".format(epoch, batch, total_loss))\n",
        "\n",
        "    total_loss.backward()\n",
        "    # torch.nn.utils.clip_grad_norm_(Siamese.parameters(), max_grad_norm)\n",
        "\n",
        "    ext_optim.step()\n",
        "    ext_sche.step() # Update learning rate for better convergence"
      ],
      "execution_count": null,
      "outputs": [
        {
          "output_type": "stream",
          "text": [
            "Epoch 0 batch 0 total loss: 1.9832000732421875\n",
            "Epoch 0 batch 10 total loss: 1.2397146224975586\n",
            "Epoch 0 batch 20 total loss: 1.0428435802459717\n",
            "Epoch 1 batch 0 total loss: 0.8254457116127014\n",
            "Epoch 1 batch 10 total loss: 1.4212294816970825\n",
            "Epoch 1 batch 20 total loss: 1.2812693119049072\n",
            "Epoch 2 batch 0 total loss: 0.8891004323959351\n",
            "Epoch 2 batch 10 total loss: 1.4185035228729248\n",
            "Epoch 2 batch 20 total loss: 1.4887597560882568\n",
            "Epoch 3 batch 0 total loss: 0.864205002784729\n",
            "Epoch 3 batch 10 total loss: 1.5550286769866943\n",
            "Epoch 3 batch 20 total loss: 1.2407758235931396\n",
            "Epoch 4 batch 0 total loss: 0.8707939386367798\n",
            "Epoch 4 batch 10 total loss: 1.4016286134719849\n",
            "Epoch 4 batch 20 total loss: 1.2705329656600952\n",
            "Epoch 5 batch 0 total loss: 0.924686849117279\n",
            "Epoch 5 batch 10 total loss: 1.5595921277999878\n",
            "Epoch 5 batch 20 total loss: 1.379643201828003\n",
            "Epoch 6 batch 0 total loss: 1.0654596090316772\n",
            "Epoch 6 batch 10 total loss: 1.248755693435669\n",
            "Epoch 6 batch 20 total loss: 1.4343621730804443\n",
            "Epoch 7 batch 0 total loss: 0.9230043888092041\n",
            "Epoch 7 batch 10 total loss: 1.2351343631744385\n",
            "Epoch 7 batch 20 total loss: 1.340730905532837\n",
            "Epoch 8 batch 0 total loss: 0.7761907577514648\n",
            "Epoch 8 batch 10 total loss: 1.3468576669692993\n",
            "Epoch 8 batch 20 total loss: 1.2001996040344238\n",
            "Epoch 9 batch 0 total loss: 0.9358005523681641\n",
            "Epoch 9 batch 10 total loss: 1.3839216232299805\n",
            "Epoch 9 batch 20 total loss: 1.3491852283477783\n"
          ],
          "name": "stdout"
        }
      ]
    },
    {
      "cell_type": "code",
      "metadata": {
        "id": "cGZXYdyn8gJi"
      },
      "source": [
        "device = torch.device(\"cuda\" if torch.cuda.is_available() else \"cpu\")\n",
        "\n",
        "# evaluate the model\n",
        "Siamese.eval()\n",
        "\n",
        "# Embed all labels with the trained network \n",
        "intents_embeddings = torch.zeros((n_classes, Siamese.output_size)).cuda()\n",
        "intent_set = list(set(train_labels))\n",
        "for i in range(len(intent_set)):\n",
        "  lab = intent_set[i]\n",
        "  intents_embeddings[i,:] = Siamese.FF(intent_centroids[lab].cuda())"
      ],
      "execution_count": null,
      "outputs": []
    },
    {
      "cell_type": "code",
      "metadata": {
        "colab": {
          "base_uri": "https://localhost:8080/"
        },
        "id": "BOK8a4rX8AqW",
        "outputId": "ad61b25d-61ba-4b89-d9f4-8ca47c87a100"
      },
      "source": [
        "# Say we have a new query for which we want to find closeby centroids\n",
        "i = 205\n",
        "query = test_queries[i]\n",
        "print(\"Test Query: \",query)\n",
        "print(\"Test Label: \",label_map[test_labels[i]])\n",
        "\n",
        "# Embed the query\n",
        "encoded_query = tokenizer(query, padding=True, truncation=True,return_token_type_ids=False, max_length=128, return_tensors='pt')\n",
        "encoded_query.to(device)\n",
        "query_embeddings = Siamese.forward_one(encoded_query)"
      ],
      "execution_count": null,
      "outputs": [
        {
          "output_type": "stream",
          "text": [
            "Test Query:  Could you tell me what your exchange rates are?\n",
            "Test Label:  exchange rate\n"
          ],
          "name": "stdout"
        }
      ]
    },
    {
      "cell_type": "code",
      "metadata": {
        "id": "tEdHf6aiFh1D"
      },
      "source": [
        "# Test in a loop \n",
        "np.random.seed(42)\n",
        "test_ix = np.random.choice(len(test_queries), 500)\n",
        "top_k = 1 # the number of items predict\n",
        "n_correct_SNN = 0\n",
        "n_correct_CentNN = 0\n",
        "n_correct_SBERT = 0\n",
        "\n",
        "for ix in test_ix:\n",
        "  query = test_queries[ix]\n",
        "  label = label_map[test_labels[ix]]\n",
        "\n",
        "  # LM + SNN's FF layer \n",
        "  encoded_query = tokenizer(query, padding=True, truncation=True,return_token_type_ids=False, max_length=128, return_tensors='pt')\n",
        "  encoded_query.to(device)\n",
        "  query_embeddings_SNN = Siamese.forward_one(encoded_query)\n",
        "  top_intents = torch.topk(torch.norm(query_embeddings_SNN-intents_embeddings, 2, dim = 1), k = top_k, largest = False).indices.squeeze()\n",
        "  if top_k == 1:\n",
        "    top_intents = [top_intents]\n",
        "  top_intents_set = []\n",
        "  for i in range(len(top_intents)):\n",
        "    label_ix = intent_set[top_intents[i].item()]\n",
        "    top_intents_set.append(label_map[label_ix])\n",
        "  if label in top_intents_set:\n",
        "    n_correct_SNN+=1\n",
        "\n",
        "  # With unsupervised SBERT embeddings: get the embedding label corresponding to the largest dot product \n",
        "  lm_enc = lm(**encoded_query) # ONLY use the language model\n",
        "  query_embeddings_LM = mean_pooling(lm_enc, encoded_query['attention_mask']) \n",
        "\n",
        "\n",
        "  top_intents = torch.topk(torch.inner(query_embeddings_LM, intents_embeddings_raw), k = top_k).indices.squeeze()\n",
        "  if top_k == 1:\n",
        "    top_intents = [top_intents]\n",
        "  top_intents_set = []\n",
        "  for i in range(len(top_intents)):\n",
        "    label_ix = intent_set[top_intents[i].item()]\n",
        "    top_intents_set.append(label_map[label_ix])\n",
        "  if label in top_intents_set:\n",
        "    n_correct_SBERT+=1\n",
        "\n",
        "  # With language model (LM) centroids (before SNN's FF layer) \n",
        "  top_intents_set = []\n",
        "  top_intents = torch.topk(torch.inner(query_embeddings_LM, intent_centroids_lm), k = top_k).indices.squeeze()\n",
        "  if top_k == 1:\n",
        "    top_intents = [top_intents]\n",
        "  for i in range(len(top_intents)):\n",
        "    label_ix = intent_set[top_intents[i].item()]\n",
        "    top_intents_set.append(label_map[label_ix])\n",
        "  if label in top_intents_set:\n",
        "    n_correct_CentNN+=1"
      ],
      "execution_count": null,
      "outputs": []
    },
    {
      "cell_type": "code",
      "metadata": {
        "colab": {
          "base_uri": "https://localhost:8080/"
        },
        "id": "a_NUBnDFUTVa",
        "outputId": "a32958a7-b205-464b-d1f9-39f7fedae19e"
      },
      "source": [
        "print(\"Unsupervised Methods\")\n",
        "print(\"SBERT: {}\".format(n_correct_SBERT/len(test_ix)))\n",
        "\n",
        "print(\"Semisupervised Methods\")\n",
        "print(\"CentNN: {}\".format(n_correct_CentNN/len(test_ix)))\n",
        "print(\"SNN: {}\".format(n_correct_SNN/len(test_ix)))"
      ],
      "execution_count": null,
      "outputs": [
        {
          "output_type": "stream",
          "text": [
            "Unsupervised Methods\n",
            "SBERT: 0.466\n",
            "Semisupervised Methods\n",
            "CentNN: 0.506\n",
            "SNN: 0.534\n"
          ],
          "name": "stdout"
        }
      ]
    },
    {
      "cell_type": "markdown",
      "metadata": {
        "id": "PkQDe--cErjF"
      },
      "source": [
        "Could you tell me what your exchange rates are?\n",
        "30 labels\n",
        "semisupervised data has 20 examples of each label \n",
        "1. sample 5 queries of each label to use in batch --> 150 samples  \n",
        "2. loop through each query: \n",
        "  for each query:\n",
        "  - find hard positive (1 of 4)\n",
        "  - find hard negative (1 of 145) \n",
        "  For centroids\n",
        "  - find [pos centroid] repsective centroid embedding for Q \n",
        "  - find [neg centroid] random centroid embedding for Q NOT the same class\n",
        "\n",
        "2 triplets per query --> 300 triplets "
      ]
    },
    {
      "cell_type": "code",
      "metadata": {
        "id": "PfpVLBTeGuD_"
      },
      "source": [
        "Could you tell me what your exchange rates are?"
      ],
      "execution_count": null,
      "outputs": []
    },
    {
      "cell_type": "code",
      "metadata": {
        "id": "i9M3Q4GsEpW8"
      },
      "source": [
        ""
      ],
      "execution_count": null,
      "outputs": []
    }
  ]
}